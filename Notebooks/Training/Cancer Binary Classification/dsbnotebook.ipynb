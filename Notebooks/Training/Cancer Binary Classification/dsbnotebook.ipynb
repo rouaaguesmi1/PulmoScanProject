{
 "cells": [
  {
   "cell_type": "code",
   "execution_count": 7,
   "id": "42f61f9f-bd3f-4709-abab-6b72af899f3a",
   "metadata": {},
   "outputs": [
    {
     "name": "stdout",
     "output_type": "stream",
     "text": [
      "Using device: cuda\n",
      "--- Loading Data and Selecting up to 50 Scans Per Class ---\n",
      "DSB Scans path: F:/DSB3/stage1\n",
      "DSB Labels CSV: F:\\DSB3\\stage1_labels.csv\n",
      "Loaded 1595 total DSB patient labels.\n",
      "Original label distribution:\n",
      " cancer\n",
      "0    1176\n",
      "1     419\n",
      "Name: count, dtype: int64\n",
      "Found 1595 potential patient scan folders.\n",
      "Found 1595 patient IDs with both labels and scan folders.\n",
      "Available Cancerous scans with labels: 419\n",
      "Available Non-Cancerous scans with labels: 1176\n",
      "Selected 50 Cancerous scans.\n",
      "Selected 50 Non-Cancerous scans.\n",
      "Total scans selected for preprocessing: 100\n",
      "\n",
      "Starting preprocessing for 100 selected scans...\n"
     ]
    },
    {
     "data": {
      "application/vnd.jupyter.widget-view+json": {
       "model_id": "dd7f97974aac48e1aaca21a5906fb0db",
       "version_major": 2,
       "version_minor": 0
      },
      "text/plain": [
       "Preprocessing 100 Selected Scans:   0%|          | 0/100 [00:00<?, ?it/s]"
      ]
     },
     "metadata": {},
     "output_type": "display_data"
    },
    {
     "name": "stdout",
     "output_type": "stream",
     "text": [
      "\n",
      "Preprocessing finished in 0.01 seconds.\n",
      "Successfully processed/found: 100 scans.\n",
      "Final patient count for training/validation: 100\n",
      "  Cancerous: 50, Non-Cancerous: 50\n",
      "\n",
      "Training patients: 80\n",
      "Validation patients: 20\n",
      "Using 0 workers for DataLoader.\n",
      "\n",
      "Checking DataLoader output (Limited Data)...\n",
      "Sample batch shape: torch.Size([4, 1, 96, 128, 128])\n",
      "Sample labels shape: torch.Size([4])\n",
      "Sample labels: tensor([1., 0., 0., 0.])\n",
      "PatientLevel3DCNN(\n",
      "  (conv_layers): Sequential(\n",
      "    (0): Conv3d(1, 16, kernel_size=(3, 3, 3), stride=(1, 1, 1), padding=(1, 1, 1))\n",
      "    (1): BatchNorm3d(16, eps=1e-05, momentum=0.1, affine=True, track_running_stats=True)\n",
      "    (2): ReLU()\n",
      "    (3): MaxPool3d(kernel_size=2, stride=2, padding=0, dilation=1, ceil_mode=False)\n",
      "    (4): Conv3d(16, 32, kernel_size=(3, 3, 3), stride=(1, 1, 1), padding=(1, 1, 1))\n",
      "    (5): BatchNorm3d(32, eps=1e-05, momentum=0.1, affine=True, track_running_stats=True)\n",
      "    (6): ReLU()\n",
      "    (7): MaxPool3d(kernel_size=2, stride=2, padding=0, dilation=1, ceil_mode=False)\n",
      "    (8): Conv3d(32, 64, kernel_size=(3, 3, 3), stride=(1, 1, 1), padding=(1, 1, 1))\n",
      "    (9): BatchNorm3d(64, eps=1e-05, momentum=0.1, affine=True, track_running_stats=True)\n",
      "    (10): ReLU()\n",
      "    (11): MaxPool3d(kernel_size=2, stride=2, padding=0, dilation=1, ceil_mode=False)\n",
      "    (12): AdaptiveMaxPool3d(output_size=(2, 2, 2))\n",
      "  )\n",
      "  (fc_layers): Sequential(\n",
      "    (0): Flatten(start_dim=1, end_dim=-1)\n",
      "    (1): Linear(in_features=512, out_features=256, bias=True)\n",
      "    (2): ReLU()\n",
      "    (3): Dropout(p=0.5, inplace=False)\n",
      "    (4): Linear(in_features=256, out_features=1, bias=True)\n",
      "  )\n",
      ")\n",
      "\n",
      "Model output shape: torch.Size([4, 1])\n",
      "Calculated positive weight for balanced training subset: 1.0000\n",
      "\n",
      "Starting Training on Limited (100) Scan Dataset...\n",
      "\n",
      "Epoch 1/150\n"
     ]
    },
    {
     "name": "stderr",
     "output_type": "stream",
     "text": [
      "C:\\Users\\Orjouwen\\AppData\\Local\\Temp\\ipykernel_6476\\329354696.py:402: FutureWarning: `torch.cuda.amp.GradScaler(args...)` is deprecated. Please use `torch.amp.GradScaler('cuda', args...)` instead.\n",
      "  scaler = torch.cuda.amp.GradScaler(enabled=torch.cuda.is_available())\n"
     ]
    },
    {
     "data": {
      "application/vnd.jupyter.widget-view+json": {
       "model_id": "",
       "version_major": 2,
       "version_minor": 0
      },
      "text/plain": [
       "Training:   0%|          | 0/20 [00:00<?, ?it/s]"
      ]
     },
     "metadata": {},
     "output_type": "display_data"
    },
    {
     "data": {
      "application/vnd.jupyter.widget-view+json": {
       "model_id": "",
       "version_major": 2,
       "version_minor": 0
      },
      "text/plain": [
       "Validating:   0%|          | 0/5 [00:00<?, ?it/s]"
      ]
     },
     "metadata": {},
     "output_type": "display_data"
    },
    {
     "name": "stdout",
     "output_type": "stream",
     "text": [
      "Epoch 1 Summary: Duration: 4.01s\n",
      "  Train Loss: 0.9194, Train Acc: 0.5000\n",
      "  Val Loss: 0.6909, Val Acc: 0.5000\n",
      "  Best model saved to ./preprocessed_dsb_50_each/patient_level_model_50_each_best.pth\n",
      "\n",
      "Epoch 2/150\n"
     ]
    },
    {
     "data": {
      "application/vnd.jupyter.widget-view+json": {
       "model_id": "",
       "version_major": 2,
       "version_minor": 0
      },
      "text/plain": [
       "Training:   0%|          | 0/20 [00:00<?, ?it/s]"
      ]
     },
     "metadata": {},
     "output_type": "display_data"
    },
    {
     "data": {
      "application/vnd.jupyter.widget-view+json": {
       "model_id": "",
       "version_major": 2,
       "version_minor": 0
      },
      "text/plain": [
       "Validating:   0%|          | 0/5 [00:00<?, ?it/s]"
      ]
     },
     "metadata": {},
     "output_type": "display_data"
    },
    {
     "name": "stdout",
     "output_type": "stream",
     "text": [
      "Epoch 2 Summary: Duration: 3.97s\n",
      "  Train Loss: 0.9094, Train Acc: 0.4875\n",
      "  Val Loss: 0.7034, Val Acc: 0.5000\n",
      "\n",
      "Epoch 3/150\n"
     ]
    },
    {
     "data": {
      "application/vnd.jupyter.widget-view+json": {
       "model_id": "",
       "version_major": 2,
       "version_minor": 0
      },
      "text/plain": [
       "Training:   0%|          | 0/20 [00:00<?, ?it/s]"
      ]
     },
     "metadata": {},
     "output_type": "display_data"
    },
    {
     "data": {
      "application/vnd.jupyter.widget-view+json": {
       "model_id": "",
       "version_major": 2,
       "version_minor": 0
      },
      "text/plain": [
       "Validating:   0%|          | 0/5 [00:00<?, ?it/s]"
      ]
     },
     "metadata": {},
     "output_type": "display_data"
    },
    {
     "name": "stdout",
     "output_type": "stream",
     "text": [
      "Epoch 3 Summary: Duration: 3.92s\n",
      "  Train Loss: 0.8180, Train Acc: 0.5000\n",
      "  Val Loss: 0.6839, Val Acc: 0.5000\n",
      "  Best model saved to ./preprocessed_dsb_50_each/patient_level_model_50_each_best.pth\n",
      "\n",
      "Epoch 4/150\n"
     ]
    },
    {
     "data": {
      "application/vnd.jupyter.widget-view+json": {
       "model_id": "",
       "version_major": 2,
       "version_minor": 0
      },
      "text/plain": [
       "Training:   0%|          | 0/20 [00:00<?, ?it/s]"
      ]
     },
     "metadata": {},
     "output_type": "display_data"
    },
    {
     "data": {
      "application/vnd.jupyter.widget-view+json": {
       "model_id": "",
       "version_major": 2,
       "version_minor": 0
      },
      "text/plain": [
       "Validating:   0%|          | 0/5 [00:00<?, ?it/s]"
      ]
     },
     "metadata": {},
     "output_type": "display_data"
    },
    {
     "name": "stdout",
     "output_type": "stream",
     "text": [
      "Epoch 4 Summary: Duration: 3.99s\n",
      "  Train Loss: 0.6593, Train Acc: 0.6500\n",
      "  Val Loss: 0.6868, Val Acc: 0.5000\n",
      "\n",
      "Epoch 5/150\n"
     ]
    },
    {
     "data": {
      "application/vnd.jupyter.widget-view+json": {
       "model_id": "",
       "version_major": 2,
       "version_minor": 0
      },
      "text/plain": [
       "Training:   0%|          | 0/20 [00:00<?, ?it/s]"
      ]
     },
     "metadata": {},
     "output_type": "display_data"
    },
    {
     "data": {
      "application/vnd.jupyter.widget-view+json": {
       "model_id": "",
       "version_major": 2,
       "version_minor": 0
      },
      "text/plain": [
       "Validating:   0%|          | 0/5 [00:00<?, ?it/s]"
      ]
     },
     "metadata": {},
     "output_type": "display_data"
    },
    {
     "name": "stdout",
     "output_type": "stream",
     "text": [
      "Epoch 5 Summary: Duration: 3.98s\n",
      "  Train Loss: 0.8308, Train Acc: 0.5250\n",
      "  Val Loss: 0.6708, Val Acc: 0.6000\n",
      "  Best model saved to ./preprocessed_dsb_50_each/patient_level_model_50_each_best.pth\n",
      "\n",
      "Epoch 6/150\n"
     ]
    },
    {
     "data": {
      "application/vnd.jupyter.widget-view+json": {
       "model_id": "",
       "version_major": 2,
       "version_minor": 0
      },
      "text/plain": [
       "Training:   0%|          | 0/20 [00:00<?, ?it/s]"
      ]
     },
     "metadata": {},
     "output_type": "display_data"
    },
    {
     "data": {
      "application/vnd.jupyter.widget-view+json": {
       "model_id": "",
       "version_major": 2,
       "version_minor": 0
      },
      "text/plain": [
       "Validating:   0%|          | 0/5 [00:00<?, ?it/s]"
      ]
     },
     "metadata": {},
     "output_type": "display_data"
    },
    {
     "name": "stdout",
     "output_type": "stream",
     "text": [
      "Epoch 6 Summary: Duration: 3.91s\n",
      "  Train Loss: 0.6544, Train Acc: 0.6500\n",
      "  Val Loss: 0.6746, Val Acc: 0.6000\n",
      "\n",
      "Epoch 7/150\n"
     ]
    },
    {
     "data": {
      "application/vnd.jupyter.widget-view+json": {
       "model_id": "",
       "version_major": 2,
       "version_minor": 0
      },
      "text/plain": [
       "Training:   0%|          | 0/20 [00:00<?, ?it/s]"
      ]
     },
     "metadata": {},
     "output_type": "display_data"
    },
    {
     "data": {
      "application/vnd.jupyter.widget-view+json": {
       "model_id": "",
       "version_major": 2,
       "version_minor": 0
      },
      "text/plain": [
       "Validating:   0%|          | 0/5 [00:00<?, ?it/s]"
      ]
     },
     "metadata": {},
     "output_type": "display_data"
    },
    {
     "name": "stdout",
     "output_type": "stream",
     "text": [
      "Epoch 7 Summary: Duration: 3.95s\n",
      "  Train Loss: 0.6581, Train Acc: 0.6000\n",
      "  Val Loss: 0.6950, Val Acc: 0.5000\n",
      "\n",
      "Epoch 8/150\n"
     ]
    },
    {
     "data": {
      "application/vnd.jupyter.widget-view+json": {
       "model_id": "",
       "version_major": 2,
       "version_minor": 0
      },
      "text/plain": [
       "Training:   0%|          | 0/20 [00:00<?, ?it/s]"
      ]
     },
     "metadata": {},
     "output_type": "display_data"
    },
    {
     "data": {
      "application/vnd.jupyter.widget-view+json": {
       "model_id": "",
       "version_major": 2,
       "version_minor": 0
      },
      "text/plain": [
       "Validating:   0%|          | 0/5 [00:00<?, ?it/s]"
      ]
     },
     "metadata": {},
     "output_type": "display_data"
    },
    {
     "name": "stdout",
     "output_type": "stream",
     "text": [
      "Epoch 8 Summary: Duration: 3.97s\n",
      "  Train Loss: 0.6590, Train Acc: 0.6625\n",
      "  Val Loss: 0.6983, Val Acc: 0.5000\n",
      "\n",
      "Epoch 9/150\n"
     ]
    },
    {
     "data": {
      "application/vnd.jupyter.widget-view+json": {
       "model_id": "",
       "version_major": 2,
       "version_minor": 0
      },
      "text/plain": [
       "Training:   0%|          | 0/20 [00:00<?, ?it/s]"
      ]
     },
     "metadata": {},
     "output_type": "display_data"
    },
    {
     "data": {
      "application/vnd.jupyter.widget-view+json": {
       "model_id": "",
       "version_major": 2,
       "version_minor": 0
      },
      "text/plain": [
       "Validating:   0%|          | 0/5 [00:00<?, ?it/s]"
      ]
     },
     "metadata": {},
     "output_type": "display_data"
    },
    {
     "name": "stdout",
     "output_type": "stream",
     "text": [
      "Epoch 9 Summary: Duration: 3.94s\n",
      "  Train Loss: 0.5417, Train Acc: 0.7875\n",
      "  Val Loss: 0.6750, Val Acc: 0.5500\n",
      "\n",
      "Epoch 10/150\n"
     ]
    },
    {
     "data": {
      "application/vnd.jupyter.widget-view+json": {
       "model_id": "",
       "version_major": 2,
       "version_minor": 0
      },
      "text/plain": [
       "Training:   0%|          | 0/20 [00:00<?, ?it/s]"
      ]
     },
     "metadata": {},
     "output_type": "display_data"
    },
    {
     "data": {
      "application/vnd.jupyter.widget-view+json": {
       "model_id": "",
       "version_major": 2,
       "version_minor": 0
      },
      "text/plain": [
       "Validating:   0%|          | 0/5 [00:00<?, ?it/s]"
      ]
     },
     "metadata": {},
     "output_type": "display_data"
    },
    {
     "name": "stdout",
     "output_type": "stream",
     "text": [
      "Epoch 10 Summary: Duration: 3.92s\n",
      "  Train Loss: 0.6018, Train Acc: 0.6375\n",
      "  Val Loss: 0.6797, Val Acc: 0.5000\n",
      "\n",
      "Epoch 11/150\n"
     ]
    },
    {
     "data": {
      "application/vnd.jupyter.widget-view+json": {
       "model_id": "",
       "version_major": 2,
       "version_minor": 0
      },
      "text/plain": [
       "Training:   0%|          | 0/20 [00:00<?, ?it/s]"
      ]
     },
     "metadata": {},
     "output_type": "display_data"
    },
    {
     "data": {
      "application/vnd.jupyter.widget-view+json": {
       "model_id": "",
       "version_major": 2,
       "version_minor": 0
      },
      "text/plain": [
       "Validating:   0%|          | 0/5 [00:00<?, ?it/s]"
      ]
     },
     "metadata": {},
     "output_type": "display_data"
    },
    {
     "name": "stdout",
     "output_type": "stream",
     "text": [
      "Epoch 11 Summary: Duration: 3.91s\n",
      "  Train Loss: 0.5426, Train Acc: 0.7750\n",
      "  Val Loss: 0.6780, Val Acc: 0.5500\n",
      "\n",
      "Epoch 12/150\n"
     ]
    },
    {
     "data": {
      "application/vnd.jupyter.widget-view+json": {
       "model_id": "",
       "version_major": 2,
       "version_minor": 0
      },
      "text/plain": [
       "Training:   0%|          | 0/20 [00:00<?, ?it/s]"
      ]
     },
     "metadata": {},
     "output_type": "display_data"
    },
    {
     "data": {
      "application/vnd.jupyter.widget-view+json": {
       "model_id": "",
       "version_major": 2,
       "version_minor": 0
      },
      "text/plain": [
       "Validating:   0%|          | 0/5 [00:00<?, ?it/s]"
      ]
     },
     "metadata": {},
     "output_type": "display_data"
    },
    {
     "name": "stdout",
     "output_type": "stream",
     "text": [
      "Epoch 12 Summary: Duration: 3.98s\n",
      "  Train Loss: 0.5322, Train Acc: 0.7500\n",
      "  Val Loss: 0.7066, Val Acc: 0.5000\n",
      "\n",
      "Epoch 13/150\n"
     ]
    },
    {
     "data": {
      "application/vnd.jupyter.widget-view+json": {
       "model_id": "",
       "version_major": 2,
       "version_minor": 0
      },
      "text/plain": [
       "Training:   0%|          | 0/20 [00:00<?, ?it/s]"
      ]
     },
     "metadata": {},
     "output_type": "display_data"
    },
    {
     "data": {
      "application/vnd.jupyter.widget-view+json": {
       "model_id": "",
       "version_major": 2,
       "version_minor": 0
      },
      "text/plain": [
       "Validating:   0%|          | 0/5 [00:00<?, ?it/s]"
      ]
     },
     "metadata": {},
     "output_type": "display_data"
    },
    {
     "name": "stdout",
     "output_type": "stream",
     "text": [
      "Epoch 13 Summary: Duration: 3.94s\n",
      "  Train Loss: 0.5223, Train Acc: 0.7500\n",
      "  Val Loss: 0.7976, Val Acc: 0.5000\n",
      "\n",
      "Epoch 14/150\n"
     ]
    },
    {
     "data": {
      "application/vnd.jupyter.widget-view+json": {
       "model_id": "",
       "version_major": 2,
       "version_minor": 0
      },
      "text/plain": [
       "Training:   0%|          | 0/20 [00:00<?, ?it/s]"
      ]
     },
     "metadata": {},
     "output_type": "display_data"
    },
    {
     "data": {
      "application/vnd.jupyter.widget-view+json": {
       "model_id": "",
       "version_major": 2,
       "version_minor": 0
      },
      "text/plain": [
       "Validating:   0%|          | 0/5 [00:00<?, ?it/s]"
      ]
     },
     "metadata": {},
     "output_type": "display_data"
    },
    {
     "name": "stdout",
     "output_type": "stream",
     "text": [
      "Epoch 14 Summary: Duration: 3.97s\n",
      "  Train Loss: 0.5179, Train Acc: 0.8125\n",
      "  Val Loss: 0.6672, Val Acc: 0.5500\n",
      "  Best model saved to ./preprocessed_dsb_50_each/patient_level_model_50_each_best.pth\n",
      "\n",
      "Epoch 15/150\n"
     ]
    },
    {
     "data": {
      "application/vnd.jupyter.widget-view+json": {
       "model_id": "",
       "version_major": 2,
       "version_minor": 0
      },
      "text/plain": [
       "Training:   0%|          | 0/20 [00:00<?, ?it/s]"
      ]
     },
     "metadata": {},
     "output_type": "display_data"
    },
    {
     "data": {
      "application/vnd.jupyter.widget-view+json": {
       "model_id": "",
       "version_major": 2,
       "version_minor": 0
      },
      "text/plain": [
       "Validating:   0%|          | 0/5 [00:00<?, ?it/s]"
      ]
     },
     "metadata": {},
     "output_type": "display_data"
    },
    {
     "name": "stdout",
     "output_type": "stream",
     "text": [
      "Epoch 15 Summary: Duration: 3.95s\n",
      "  Train Loss: 0.5141, Train Acc: 0.7375\n",
      "  Val Loss: 0.6716, Val Acc: 0.5000\n",
      "\n",
      "Epoch 16/150\n"
     ]
    },
    {
     "data": {
      "application/vnd.jupyter.widget-view+json": {
       "model_id": "",
       "version_major": 2,
       "version_minor": 0
      },
      "text/plain": [
       "Training:   0%|          | 0/20 [00:00<?, ?it/s]"
      ]
     },
     "metadata": {},
     "output_type": "display_data"
    },
    {
     "data": {
      "application/vnd.jupyter.widget-view+json": {
       "model_id": "",
       "version_major": 2,
       "version_minor": 0
      },
      "text/plain": [
       "Validating:   0%|          | 0/5 [00:00<?, ?it/s]"
      ]
     },
     "metadata": {},
     "output_type": "display_data"
    },
    {
     "name": "stdout",
     "output_type": "stream",
     "text": [
      "Epoch 16 Summary: Duration: 3.92s\n",
      "  Train Loss: 0.4295, Train Acc: 0.8875\n",
      "  Val Loss: 0.6655, Val Acc: 0.5500\n",
      "  Best model saved to ./preprocessed_dsb_50_each/patient_level_model_50_each_best.pth\n",
      "\n",
      "Epoch 17/150\n"
     ]
    },
    {
     "data": {
      "application/vnd.jupyter.widget-view+json": {
       "model_id": "",
       "version_major": 2,
       "version_minor": 0
      },
      "text/plain": [
       "Training:   0%|          | 0/20 [00:00<?, ?it/s]"
      ]
     },
     "metadata": {},
     "output_type": "display_data"
    },
    {
     "data": {
      "application/vnd.jupyter.widget-view+json": {
       "model_id": "",
       "version_major": 2,
       "version_minor": 0
      },
      "text/plain": [
       "Validating:   0%|          | 0/5 [00:00<?, ?it/s]"
      ]
     },
     "metadata": {},
     "output_type": "display_data"
    },
    {
     "name": "stdout",
     "output_type": "stream",
     "text": [
      "Epoch 17 Summary: Duration: 3.96s\n",
      "  Train Loss: 0.4213, Train Acc: 0.8750\n",
      "  Val Loss: 0.6648, Val Acc: 0.5500\n",
      "  Best model saved to ./preprocessed_dsb_50_each/patient_level_model_50_each_best.pth\n",
      "\n",
      "Epoch 18/150\n"
     ]
    },
    {
     "data": {
      "application/vnd.jupyter.widget-view+json": {
       "model_id": "",
       "version_major": 2,
       "version_minor": 0
      },
      "text/plain": [
       "Training:   0%|          | 0/20 [00:00<?, ?it/s]"
      ]
     },
     "metadata": {},
     "output_type": "display_data"
    },
    {
     "data": {
      "application/vnd.jupyter.widget-view+json": {
       "model_id": "",
       "version_major": 2,
       "version_minor": 0
      },
      "text/plain": [
       "Validating:   0%|          | 0/5 [00:00<?, ?it/s]"
      ]
     },
     "metadata": {},
     "output_type": "display_data"
    },
    {
     "name": "stdout",
     "output_type": "stream",
     "text": [
      "Epoch 18 Summary: Duration: 3.91s\n",
      "  Train Loss: 0.3948, Train Acc: 0.8875\n",
      "  Val Loss: 0.6618, Val Acc: 0.6500\n",
      "  Best model saved to ./preprocessed_dsb_50_each/patient_level_model_50_each_best.pth\n",
      "\n",
      "Epoch 19/150\n"
     ]
    },
    {
     "data": {
      "application/vnd.jupyter.widget-view+json": {
       "model_id": "",
       "version_major": 2,
       "version_minor": 0
      },
      "text/plain": [
       "Training:   0%|          | 0/20 [00:00<?, ?it/s]"
      ]
     },
     "metadata": {},
     "output_type": "display_data"
    },
    {
     "data": {
      "application/vnd.jupyter.widget-view+json": {
       "model_id": "",
       "version_major": 2,
       "version_minor": 0
      },
      "text/plain": [
       "Validating:   0%|          | 0/5 [00:00<?, ?it/s]"
      ]
     },
     "metadata": {},
     "output_type": "display_data"
    },
    {
     "name": "stdout",
     "output_type": "stream",
     "text": [
      "Epoch 19 Summary: Duration: 3.92s\n",
      "  Train Loss: 0.3201, Train Acc: 0.9500\n",
      "  Val Loss: 0.6600, Val Acc: 0.7000\n",
      "  Best model saved to ./preprocessed_dsb_50_each/patient_level_model_50_each_best.pth\n",
      "\n",
      "Epoch 20/150\n"
     ]
    },
    {
     "data": {
      "application/vnd.jupyter.widget-view+json": {
       "model_id": "",
       "version_major": 2,
       "version_minor": 0
      },
      "text/plain": [
       "Training:   0%|          | 0/20 [00:00<?, ?it/s]"
      ]
     },
     "metadata": {},
     "output_type": "display_data"
    },
    {
     "data": {
      "application/vnd.jupyter.widget-view+json": {
       "model_id": "",
       "version_major": 2,
       "version_minor": 0
      },
      "text/plain": [
       "Validating:   0%|          | 0/5 [00:00<?, ?it/s]"
      ]
     },
     "metadata": {},
     "output_type": "display_data"
    },
    {
     "name": "stdout",
     "output_type": "stream",
     "text": [
      "Epoch 20 Summary: Duration: 3.93s\n",
      "  Train Loss: 0.3349, Train Acc: 0.9250\n",
      "  Val Loss: 0.6958, Val Acc: 0.5000\n",
      "\n",
      "Epoch 21/150\n"
     ]
    },
    {
     "data": {
      "application/vnd.jupyter.widget-view+json": {
       "model_id": "",
       "version_major": 2,
       "version_minor": 0
      },
      "text/plain": [
       "Training:   0%|          | 0/20 [00:00<?, ?it/s]"
      ]
     },
     "metadata": {},
     "output_type": "display_data"
    },
    {
     "data": {
      "application/vnd.jupyter.widget-view+json": {
       "model_id": "",
       "version_major": 2,
       "version_minor": 0
      },
      "text/plain": [
       "Validating:   0%|          | 0/5 [00:00<?, ?it/s]"
      ]
     },
     "metadata": {},
     "output_type": "display_data"
    },
    {
     "name": "stdout",
     "output_type": "stream",
     "text": [
      "Epoch 21 Summary: Duration: 3.97s\n",
      "  Train Loss: 0.3497, Train Acc: 0.9000\n",
      "  Val Loss: 0.6828, Val Acc: 0.5000\n",
      "\n",
      "Epoch 22/150\n"
     ]
    },
    {
     "data": {
      "application/vnd.jupyter.widget-view+json": {
       "model_id": "",
       "version_major": 2,
       "version_minor": 0
      },
      "text/plain": [
       "Training:   0%|          | 0/20 [00:00<?, ?it/s]"
      ]
     },
     "metadata": {},
     "output_type": "display_data"
    },
    {
     "data": {
      "application/vnd.jupyter.widget-view+json": {
       "model_id": "",
       "version_major": 2,
       "version_minor": 0
      },
      "text/plain": [
       "Validating:   0%|          | 0/5 [00:00<?, ?it/s]"
      ]
     },
     "metadata": {},
     "output_type": "display_data"
    },
    {
     "name": "stdout",
     "output_type": "stream",
     "text": [
      "Epoch 22 Summary: Duration: 3.95s\n",
      "  Train Loss: 0.2586, Train Acc: 0.9875\n",
      "  Val Loss: 0.6822, Val Acc: 0.5500\n",
      "\n",
      "Epoch 23/150\n"
     ]
    },
    {
     "data": {
      "application/vnd.jupyter.widget-view+json": {
       "model_id": "",
       "version_major": 2,
       "version_minor": 0
      },
      "text/plain": [
       "Training:   0%|          | 0/20 [00:00<?, ?it/s]"
      ]
     },
     "metadata": {},
     "output_type": "display_data"
    },
    {
     "data": {
      "application/vnd.jupyter.widget-view+json": {
       "model_id": "",
       "version_major": 2,
       "version_minor": 0
      },
      "text/plain": [
       "Validating:   0%|          | 0/5 [00:00<?, ?it/s]"
      ]
     },
     "metadata": {},
     "output_type": "display_data"
    },
    {
     "name": "stdout",
     "output_type": "stream",
     "text": [
      "Epoch 23 Summary: Duration: 3.89s\n",
      "  Train Loss: 0.2705, Train Acc: 0.9875\n",
      "  Val Loss: 0.6685, Val Acc: 0.6000\n",
      "\n",
      "Epoch 24/150\n"
     ]
    },
    {
     "data": {
      "application/vnd.jupyter.widget-view+json": {
       "model_id": "",
       "version_major": 2,
       "version_minor": 0
      },
      "text/plain": [
       "Training:   0%|          | 0/20 [00:00<?, ?it/s]"
      ]
     },
     "metadata": {},
     "output_type": "display_data"
    },
    {
     "data": {
      "application/vnd.jupyter.widget-view+json": {
       "model_id": "",
       "version_major": 2,
       "version_minor": 0
      },
      "text/plain": [
       "Validating:   0%|          | 0/5 [00:00<?, ?it/s]"
      ]
     },
     "metadata": {},
     "output_type": "display_data"
    },
    {
     "name": "stdout",
     "output_type": "stream",
     "text": [
      "Epoch 24 Summary: Duration: 3.92s\n",
      "  Train Loss: 0.2250, Train Acc: 0.9875\n",
      "  Val Loss: 0.6462, Val Acc: 0.6000\n",
      "  Best model saved to ./preprocessed_dsb_50_each/patient_level_model_50_each_best.pth\n",
      "\n",
      "Epoch 25/150\n"
     ]
    },
    {
     "data": {
      "application/vnd.jupyter.widget-view+json": {
       "model_id": "",
       "version_major": 2,
       "version_minor": 0
      },
      "text/plain": [
       "Training:   0%|          | 0/20 [00:00<?, ?it/s]"
      ]
     },
     "metadata": {},
     "output_type": "display_data"
    },
    {
     "data": {
      "application/vnd.jupyter.widget-view+json": {
       "model_id": "",
       "version_major": 2,
       "version_minor": 0
      },
      "text/plain": [
       "Validating:   0%|          | 0/5 [00:00<?, ?it/s]"
      ]
     },
     "metadata": {},
     "output_type": "display_data"
    },
    {
     "name": "stdout",
     "output_type": "stream",
     "text": [
      "Epoch 25 Summary: Duration: 3.99s\n",
      "  Train Loss: 0.2646, Train Acc: 0.9625\n",
      "  Val Loss: 0.8806, Val Acc: 0.5000\n",
      "\n",
      "Epoch 26/150\n"
     ]
    },
    {
     "data": {
      "application/vnd.jupyter.widget-view+json": {
       "model_id": "",
       "version_major": 2,
       "version_minor": 0
      },
      "text/plain": [
       "Training:   0%|          | 0/20 [00:00<?, ?it/s]"
      ]
     },
     "metadata": {},
     "output_type": "display_data"
    },
    {
     "data": {
      "application/vnd.jupyter.widget-view+json": {
       "model_id": "",
       "version_major": 2,
       "version_minor": 0
      },
      "text/plain": [
       "Validating:   0%|          | 0/5 [00:00<?, ?it/s]"
      ]
     },
     "metadata": {},
     "output_type": "display_data"
    },
    {
     "name": "stdout",
     "output_type": "stream",
     "text": [
      "Epoch 26 Summary: Duration: 3.93s\n",
      "  Train Loss: 0.2404, Train Acc: 0.9625\n",
      "  Val Loss: 0.6535, Val Acc: 0.6500\n",
      "\n",
      "Epoch 27/150\n"
     ]
    },
    {
     "data": {
      "application/vnd.jupyter.widget-view+json": {
       "model_id": "",
       "version_major": 2,
       "version_minor": 0
      },
      "text/plain": [
       "Training:   0%|          | 0/20 [00:00<?, ?it/s]"
      ]
     },
     "metadata": {},
     "output_type": "display_data"
    },
    {
     "data": {
      "application/vnd.jupyter.widget-view+json": {
       "model_id": "",
       "version_major": 2,
       "version_minor": 0
      },
      "text/plain": [
       "Validating:   0%|          | 0/5 [00:00<?, ?it/s]"
      ]
     },
     "metadata": {},
     "output_type": "display_data"
    },
    {
     "name": "stdout",
     "output_type": "stream",
     "text": [
      "Epoch 27 Summary: Duration: 3.98s\n",
      "  Train Loss: 0.1890, Train Acc: 1.0000\n",
      "  Val Loss: 0.7056, Val Acc: 0.5000\n",
      "\n",
      "Epoch 28/150\n"
     ]
    },
    {
     "data": {
      "application/vnd.jupyter.widget-view+json": {
       "model_id": "",
       "version_major": 2,
       "version_minor": 0
      },
      "text/plain": [
       "Training:   0%|          | 0/20 [00:00<?, ?it/s]"
      ]
     },
     "metadata": {},
     "output_type": "display_data"
    },
    {
     "data": {
      "application/vnd.jupyter.widget-view+json": {
       "model_id": "",
       "version_major": 2,
       "version_minor": 0
      },
      "text/plain": [
       "Validating:   0%|          | 0/5 [00:00<?, ?it/s]"
      ]
     },
     "metadata": {},
     "output_type": "display_data"
    },
    {
     "name": "stdout",
     "output_type": "stream",
     "text": [
      "Epoch 28 Summary: Duration: 3.99s\n",
      "  Train Loss: 0.1537, Train Acc: 0.9875\n",
      "  Val Loss: 0.6487, Val Acc: 0.7000\n",
      "\n",
      "Epoch 29/150\n"
     ]
    },
    {
     "data": {
      "application/vnd.jupyter.widget-view+json": {
       "model_id": "",
       "version_major": 2,
       "version_minor": 0
      },
      "text/plain": [
       "Training:   0%|          | 0/20 [00:00<?, ?it/s]"
      ]
     },
     "metadata": {},
     "output_type": "display_data"
    },
    {
     "data": {
      "application/vnd.jupyter.widget-view+json": {
       "model_id": "",
       "version_major": 2,
       "version_minor": 0
      },
      "text/plain": [
       "Validating:   0%|          | 0/5 [00:00<?, ?it/s]"
      ]
     },
     "metadata": {},
     "output_type": "display_data"
    },
    {
     "name": "stdout",
     "output_type": "stream",
     "text": [
      "Epoch 29 Summary: Duration: 4.08s\n",
      "  Train Loss: 0.1507, Train Acc: 1.0000\n",
      "  Val Loss: 0.6574, Val Acc: 0.5000\n",
      "\n",
      "Epoch 30/150\n"
     ]
    },
    {
     "data": {
      "application/vnd.jupyter.widget-view+json": {
       "model_id": "",
       "version_major": 2,
       "version_minor": 0
      },
      "text/plain": [
       "Training:   0%|          | 0/20 [00:00<?, ?it/s]"
      ]
     },
     "metadata": {},
     "output_type": "display_data"
    },
    {
     "data": {
      "application/vnd.jupyter.widget-view+json": {
       "model_id": "",
       "version_major": 2,
       "version_minor": 0
      },
      "text/plain": [
       "Validating:   0%|          | 0/5 [00:00<?, ?it/s]"
      ]
     },
     "metadata": {},
     "output_type": "display_data"
    },
    {
     "name": "stdout",
     "output_type": "stream",
     "text": [
      "Epoch 30 Summary: Duration: 4.10s\n",
      "  Train Loss: 0.1390, Train Acc: 1.0000\n",
      "  Val Loss: 0.6419, Val Acc: 0.5000\n",
      "  Best model saved to ./preprocessed_dsb_50_each/patient_level_model_50_each_best.pth\n",
      "\n",
      "Epoch 31/150\n"
     ]
    },
    {
     "data": {
      "application/vnd.jupyter.widget-view+json": {
       "model_id": "",
       "version_major": 2,
       "version_minor": 0
      },
      "text/plain": [
       "Training:   0%|          | 0/20 [00:00<?, ?it/s]"
      ]
     },
     "metadata": {},
     "output_type": "display_data"
    },
    {
     "data": {
      "application/vnd.jupyter.widget-view+json": {
       "model_id": "",
       "version_major": 2,
       "version_minor": 0
      },
      "text/plain": [
       "Validating:   0%|          | 0/5 [00:00<?, ?it/s]"
      ]
     },
     "metadata": {},
     "output_type": "display_data"
    },
    {
     "name": "stdout",
     "output_type": "stream",
     "text": [
      "Epoch 31 Summary: Duration: 4.00s\n",
      "  Train Loss: 0.1346, Train Acc: 0.9875\n",
      "  Val Loss: 0.6333, Val Acc: 0.5500\n",
      "  Best model saved to ./preprocessed_dsb_50_each/patient_level_model_50_each_best.pth\n",
      "\n",
      "Epoch 32/150\n"
     ]
    },
    {
     "data": {
      "application/vnd.jupyter.widget-view+json": {
       "model_id": "",
       "version_major": 2,
       "version_minor": 0
      },
      "text/plain": [
       "Training:   0%|          | 0/20 [00:00<?, ?it/s]"
      ]
     },
     "metadata": {},
     "output_type": "display_data"
    },
    {
     "data": {
      "application/vnd.jupyter.widget-view+json": {
       "model_id": "",
       "version_major": 2,
       "version_minor": 0
      },
      "text/plain": [
       "Validating:   0%|          | 0/5 [00:00<?, ?it/s]"
      ]
     },
     "metadata": {},
     "output_type": "display_data"
    },
    {
     "name": "stdout",
     "output_type": "stream",
     "text": [
      "Epoch 32 Summary: Duration: 3.99s\n",
      "  Train Loss: 0.1118, Train Acc: 1.0000\n",
      "  Val Loss: 0.6302, Val Acc: 0.7500\n",
      "  Best model saved to ./preprocessed_dsb_50_each/patient_level_model_50_each_best.pth\n",
      "\n",
      "Epoch 33/150\n"
     ]
    },
    {
     "data": {
      "application/vnd.jupyter.widget-view+json": {
       "model_id": "",
       "version_major": 2,
       "version_minor": 0
      },
      "text/plain": [
       "Training:   0%|          | 0/20 [00:00<?, ?it/s]"
      ]
     },
     "metadata": {},
     "output_type": "display_data"
    },
    {
     "data": {
      "application/vnd.jupyter.widget-view+json": {
       "model_id": "",
       "version_major": 2,
       "version_minor": 0
      },
      "text/plain": [
       "Validating:   0%|          | 0/5 [00:00<?, ?it/s]"
      ]
     },
     "metadata": {},
     "output_type": "display_data"
    },
    {
     "name": "stdout",
     "output_type": "stream",
     "text": [
      "Epoch 33 Summary: Duration: 4.05s\n",
      "  Train Loss: 0.1087, Train Acc: 1.0000\n",
      "  Val Loss: 0.6421, Val Acc: 0.6500\n",
      "\n",
      "Epoch 34/150\n"
     ]
    },
    {
     "data": {
      "application/vnd.jupyter.widget-view+json": {
       "model_id": "",
       "version_major": 2,
       "version_minor": 0
      },
      "text/plain": [
       "Training:   0%|          | 0/20 [00:00<?, ?it/s]"
      ]
     },
     "metadata": {},
     "output_type": "display_data"
    },
    {
     "data": {
      "application/vnd.jupyter.widget-view+json": {
       "model_id": "",
       "version_major": 2,
       "version_minor": 0
      },
      "text/plain": [
       "Validating:   0%|          | 0/5 [00:00<?, ?it/s]"
      ]
     },
     "metadata": {},
     "output_type": "display_data"
    },
    {
     "name": "stdout",
     "output_type": "stream",
     "text": [
      "Epoch 34 Summary: Duration: 3.91s\n",
      "  Train Loss: 0.0929, Train Acc: 1.0000\n",
      "  Val Loss: 0.6367, Val Acc: 0.6500\n",
      "\n",
      "Epoch 35/150\n"
     ]
    },
    {
     "data": {
      "application/vnd.jupyter.widget-view+json": {
       "model_id": "",
       "version_major": 2,
       "version_minor": 0
      },
      "text/plain": [
       "Training:   0%|          | 0/20 [00:00<?, ?it/s]"
      ]
     },
     "metadata": {},
     "output_type": "display_data"
    },
    {
     "data": {
      "application/vnd.jupyter.widget-view+json": {
       "model_id": "",
       "version_major": 2,
       "version_minor": 0
      },
      "text/plain": [
       "Validating:   0%|          | 0/5 [00:00<?, ?it/s]"
      ]
     },
     "metadata": {},
     "output_type": "display_data"
    },
    {
     "name": "stdout",
     "output_type": "stream",
     "text": [
      "Epoch 35 Summary: Duration: 3.94s\n",
      "  Train Loss: 0.0758, Train Acc: 1.0000\n",
      "  Val Loss: 0.6249, Val Acc: 0.6500\n",
      "  Best model saved to ./preprocessed_dsb_50_each/patient_level_model_50_each_best.pth\n",
      "\n",
      "Epoch 36/150\n"
     ]
    },
    {
     "data": {
      "application/vnd.jupyter.widget-view+json": {
       "model_id": "",
       "version_major": 2,
       "version_minor": 0
      },
      "text/plain": [
       "Training:   0%|          | 0/20 [00:00<?, ?it/s]"
      ]
     },
     "metadata": {},
     "output_type": "display_data"
    },
    {
     "data": {
      "application/vnd.jupyter.widget-view+json": {
       "model_id": "",
       "version_major": 2,
       "version_minor": 0
      },
      "text/plain": [
       "Validating:   0%|          | 0/5 [00:00<?, ?it/s]"
      ]
     },
     "metadata": {},
     "output_type": "display_data"
    },
    {
     "name": "stdout",
     "output_type": "stream",
     "text": [
      "Epoch 36 Summary: Duration: 3.91s\n",
      "  Train Loss: 0.0495, Train Acc: 1.0000\n",
      "  Val Loss: 0.6209, Val Acc: 0.6500\n",
      "  Best model saved to ./preprocessed_dsb_50_each/patient_level_model_50_each_best.pth\n",
      "\n",
      "Epoch 37/150\n"
     ]
    },
    {
     "data": {
      "application/vnd.jupyter.widget-view+json": {
       "model_id": "",
       "version_major": 2,
       "version_minor": 0
      },
      "text/plain": [
       "Training:   0%|          | 0/20 [00:00<?, ?it/s]"
      ]
     },
     "metadata": {},
     "output_type": "display_data"
    },
    {
     "data": {
      "application/vnd.jupyter.widget-view+json": {
       "model_id": "",
       "version_major": 2,
       "version_minor": 0
      },
      "text/plain": [
       "Validating:   0%|          | 0/5 [00:00<?, ?it/s]"
      ]
     },
     "metadata": {},
     "output_type": "display_data"
    },
    {
     "name": "stdout",
     "output_type": "stream",
     "text": [
      "Epoch 37 Summary: Duration: 4.04s\n",
      "  Train Loss: 0.0710, Train Acc: 1.0000\n",
      "  Val Loss: 0.6349, Val Acc: 0.5500\n",
      "\n",
      "Epoch 38/150\n"
     ]
    },
    {
     "data": {
      "application/vnd.jupyter.widget-view+json": {
       "model_id": "",
       "version_major": 2,
       "version_minor": 0
      },
      "text/plain": [
       "Training:   0%|          | 0/20 [00:00<?, ?it/s]"
      ]
     },
     "metadata": {},
     "output_type": "display_data"
    },
    {
     "data": {
      "application/vnd.jupyter.widget-view+json": {
       "model_id": "",
       "version_major": 2,
       "version_minor": 0
      },
      "text/plain": [
       "Validating:   0%|          | 0/5 [00:00<?, ?it/s]"
      ]
     },
     "metadata": {},
     "output_type": "display_data"
    },
    {
     "name": "stdout",
     "output_type": "stream",
     "text": [
      "Epoch 38 Summary: Duration: 3.96s\n",
      "  Train Loss: 0.0502, Train Acc: 1.0000\n",
      "  Val Loss: 0.6268, Val Acc: 0.7500\n",
      "\n",
      "Epoch 39/150\n"
     ]
    },
    {
     "data": {
      "application/vnd.jupyter.widget-view+json": {
       "model_id": "",
       "version_major": 2,
       "version_minor": 0
      },
      "text/plain": [
       "Training:   0%|          | 0/20 [00:00<?, ?it/s]"
      ]
     },
     "metadata": {},
     "output_type": "display_data"
    },
    {
     "data": {
      "application/vnd.jupyter.widget-view+json": {
       "model_id": "",
       "version_major": 2,
       "version_minor": 0
      },
      "text/plain": [
       "Validating:   0%|          | 0/5 [00:00<?, ?it/s]"
      ]
     },
     "metadata": {},
     "output_type": "display_data"
    },
    {
     "name": "stdout",
     "output_type": "stream",
     "text": [
      "Epoch 39 Summary: Duration: 3.95s\n",
      "  Train Loss: 0.0589, Train Acc: 1.0000\n",
      "  Val Loss: 0.6305, Val Acc: 0.5000\n",
      "\n",
      "Epoch 40/150\n"
     ]
    },
    {
     "data": {
      "application/vnd.jupyter.widget-view+json": {
       "model_id": "",
       "version_major": 2,
       "version_minor": 0
      },
      "text/plain": [
       "Training:   0%|          | 0/20 [00:00<?, ?it/s]"
      ]
     },
     "metadata": {},
     "output_type": "display_data"
    },
    {
     "data": {
      "application/vnd.jupyter.widget-view+json": {
       "model_id": "",
       "version_major": 2,
       "version_minor": 0
      },
      "text/plain": [
       "Validating:   0%|          | 0/5 [00:00<?, ?it/s]"
      ]
     },
     "metadata": {},
     "output_type": "display_data"
    },
    {
     "name": "stdout",
     "output_type": "stream",
     "text": [
      "Epoch 40 Summary: Duration: 3.92s\n",
      "  Train Loss: 0.0564, Train Acc: 1.0000\n",
      "  Val Loss: 0.6324, Val Acc: 0.7000\n",
      "\n",
      "Epoch 41/150\n"
     ]
    },
    {
     "data": {
      "application/vnd.jupyter.widget-view+json": {
       "model_id": "",
       "version_major": 2,
       "version_minor": 0
      },
      "text/plain": [
       "Training:   0%|          | 0/20 [00:00<?, ?it/s]"
      ]
     },
     "metadata": {},
     "output_type": "display_data"
    },
    {
     "data": {
      "application/vnd.jupyter.widget-view+json": {
       "model_id": "",
       "version_major": 2,
       "version_minor": 0
      },
      "text/plain": [
       "Validating:   0%|          | 0/5 [00:00<?, ?it/s]"
      ]
     },
     "metadata": {},
     "output_type": "display_data"
    },
    {
     "name": "stdout",
     "output_type": "stream",
     "text": [
      "Epoch 41 Summary: Duration: 4.35s\n",
      "  Train Loss: 0.0437, Train Acc: 1.0000\n",
      "  Val Loss: 0.6292, Val Acc: 0.5500\n",
      "\n",
      "Epoch 42/150\n"
     ]
    },
    {
     "data": {
      "application/vnd.jupyter.widget-view+json": {
       "model_id": "",
       "version_major": 2,
       "version_minor": 0
      },
      "text/plain": [
       "Training:   0%|          | 0/20 [00:00<?, ?it/s]"
      ]
     },
     "metadata": {},
     "output_type": "display_data"
    },
    {
     "data": {
      "application/vnd.jupyter.widget-view+json": {
       "model_id": "",
       "version_major": 2,
       "version_minor": 0
      },
      "text/plain": [
       "Validating:   0%|          | 0/5 [00:00<?, ?it/s]"
      ]
     },
     "metadata": {},
     "output_type": "display_data"
    },
    {
     "name": "stdout",
     "output_type": "stream",
     "text": [
      "Epoch 42 Summary: Duration: 4.01s\n",
      "  Train Loss: 0.0429, Train Acc: 1.0000\n",
      "  Val Loss: 0.6213, Val Acc: 0.6500\n",
      "\n",
      "Epoch 43/150\n"
     ]
    },
    {
     "data": {
      "application/vnd.jupyter.widget-view+json": {
       "model_id": "",
       "version_major": 2,
       "version_minor": 0
      },
      "text/plain": [
       "Training:   0%|          | 0/20 [00:00<?, ?it/s]"
      ]
     },
     "metadata": {},
     "output_type": "display_data"
    },
    {
     "data": {
      "application/vnd.jupyter.widget-view+json": {
       "model_id": "",
       "version_major": 2,
       "version_minor": 0
      },
      "text/plain": [
       "Validating:   0%|          | 0/5 [00:00<?, ?it/s]"
      ]
     },
     "metadata": {},
     "output_type": "display_data"
    },
    {
     "name": "stdout",
     "output_type": "stream",
     "text": [
      "Epoch 43 Summary: Duration: 4.03s\n",
      "  Train Loss: 0.0415, Train Acc: 1.0000\n",
      "  Val Loss: 0.6332, Val Acc: 0.7000\n",
      "\n",
      "Epoch 44/150\n"
     ]
    },
    {
     "data": {
      "application/vnd.jupyter.widget-view+json": {
       "model_id": "",
       "version_major": 2,
       "version_minor": 0
      },
      "text/plain": [
       "Training:   0%|          | 0/20 [00:00<?, ?it/s]"
      ]
     },
     "metadata": {},
     "output_type": "display_data"
    },
    {
     "data": {
      "application/vnd.jupyter.widget-view+json": {
       "model_id": "",
       "version_major": 2,
       "version_minor": 0
      },
      "text/plain": [
       "Validating:   0%|          | 0/5 [00:00<?, ?it/s]"
      ]
     },
     "metadata": {},
     "output_type": "display_data"
    },
    {
     "name": "stdout",
     "output_type": "stream",
     "text": [
      "Epoch 44 Summary: Duration: 4.69s\n",
      "  Train Loss: 0.0473, Train Acc: 1.0000\n",
      "  Val Loss: 0.6573, Val Acc: 0.5500\n",
      "\n",
      "Epoch 45/150\n"
     ]
    },
    {
     "data": {
      "application/vnd.jupyter.widget-view+json": {
       "model_id": "",
       "version_major": 2,
       "version_minor": 0
      },
      "text/plain": [
       "Training:   0%|          | 0/20 [00:00<?, ?it/s]"
      ]
     },
     "metadata": {},
     "output_type": "display_data"
    },
    {
     "data": {
      "application/vnd.jupyter.widget-view+json": {
       "model_id": "",
       "version_major": 2,
       "version_minor": 0
      },
      "text/plain": [
       "Validating:   0%|          | 0/5 [00:00<?, ?it/s]"
      ]
     },
     "metadata": {},
     "output_type": "display_data"
    },
    {
     "name": "stdout",
     "output_type": "stream",
     "text": [
      "Epoch 45 Summary: Duration: 7.35s\n",
      "  Train Loss: 0.0401, Train Acc: 1.0000\n",
      "  Val Loss: 0.6182, Val Acc: 0.6500\n",
      "  Best model saved to ./preprocessed_dsb_50_each/patient_level_model_50_each_best.pth\n",
      "\n",
      "Epoch 46/150\n"
     ]
    },
    {
     "data": {
      "application/vnd.jupyter.widget-view+json": {
       "model_id": "",
       "version_major": 2,
       "version_minor": 0
      },
      "text/plain": [
       "Training:   0%|          | 0/20 [00:00<?, ?it/s]"
      ]
     },
     "metadata": {},
     "output_type": "display_data"
    },
    {
     "data": {
      "application/vnd.jupyter.widget-view+json": {
       "model_id": "",
       "version_major": 2,
       "version_minor": 0
      },
      "text/plain": [
       "Validating:   0%|          | 0/5 [00:00<?, ?it/s]"
      ]
     },
     "metadata": {},
     "output_type": "display_data"
    },
    {
     "name": "stdout",
     "output_type": "stream",
     "text": [
      "Epoch 46 Summary: Duration: 6.57s\n",
      "  Train Loss: 0.0384, Train Acc: 1.0000\n",
      "  Val Loss: 0.6180, Val Acc: 0.7500\n",
      "  Best model saved to ./preprocessed_dsb_50_each/patient_level_model_50_each_best.pth\n",
      "\n",
      "Epoch 47/150\n"
     ]
    },
    {
     "data": {
      "application/vnd.jupyter.widget-view+json": {
       "model_id": "",
       "version_major": 2,
       "version_minor": 0
      },
      "text/plain": [
       "Training:   0%|          | 0/20 [00:00<?, ?it/s]"
      ]
     },
     "metadata": {},
     "output_type": "display_data"
    },
    {
     "data": {
      "application/vnd.jupyter.widget-view+json": {
       "model_id": "",
       "version_major": 2,
       "version_minor": 0
      },
      "text/plain": [
       "Validating:   0%|          | 0/5 [00:00<?, ?it/s]"
      ]
     },
     "metadata": {},
     "output_type": "display_data"
    },
    {
     "name": "stdout",
     "output_type": "stream",
     "text": [
      "Epoch 47 Summary: Duration: 5.94s\n",
      "  Train Loss: 0.0313, Train Acc: 1.0000\n",
      "  Val Loss: 0.6115, Val Acc: 0.6500\n",
      "  Best model saved to ./preprocessed_dsb_50_each/patient_level_model_50_each_best.pth\n",
      "\n",
      "Epoch 48/150\n"
     ]
    },
    {
     "data": {
      "application/vnd.jupyter.widget-view+json": {
       "model_id": "",
       "version_major": 2,
       "version_minor": 0
      },
      "text/plain": [
       "Training:   0%|          | 0/20 [00:00<?, ?it/s]"
      ]
     },
     "metadata": {},
     "output_type": "display_data"
    },
    {
     "data": {
      "application/vnd.jupyter.widget-view+json": {
       "model_id": "",
       "version_major": 2,
       "version_minor": 0
      },
      "text/plain": [
       "Validating:   0%|          | 0/5 [00:00<?, ?it/s]"
      ]
     },
     "metadata": {},
     "output_type": "display_data"
    },
    {
     "name": "stdout",
     "output_type": "stream",
     "text": [
      "Epoch 48 Summary: Duration: 3.89s\n",
      "  Train Loss: 0.0285, Train Acc: 1.0000\n",
      "  Val Loss: 0.6381, Val Acc: 0.7000\n",
      "\n",
      "Epoch 49/150\n"
     ]
    },
    {
     "data": {
      "application/vnd.jupyter.widget-view+json": {
       "model_id": "",
       "version_major": 2,
       "version_minor": 0
      },
      "text/plain": [
       "Training:   0%|          | 0/20 [00:00<?, ?it/s]"
      ]
     },
     "metadata": {},
     "output_type": "display_data"
    },
    {
     "data": {
      "application/vnd.jupyter.widget-view+json": {
       "model_id": "",
       "version_major": 2,
       "version_minor": 0
      },
      "text/plain": [
       "Validating:   0%|          | 0/5 [00:00<?, ?it/s]"
      ]
     },
     "metadata": {},
     "output_type": "display_data"
    },
    {
     "name": "stdout",
     "output_type": "stream",
     "text": [
      "Epoch 49 Summary: Duration: 3.89s\n",
      "  Train Loss: 0.0334, Train Acc: 1.0000\n",
      "  Val Loss: 0.6184, Val Acc: 0.6500\n",
      "\n",
      "Epoch 50/150\n"
     ]
    },
    {
     "data": {
      "application/vnd.jupyter.widget-view+json": {
       "model_id": "",
       "version_major": 2,
       "version_minor": 0
      },
      "text/plain": [
       "Training:   0%|          | 0/20 [00:00<?, ?it/s]"
      ]
     },
     "metadata": {},
     "output_type": "display_data"
    },
    {
     "data": {
      "application/vnd.jupyter.widget-view+json": {
       "model_id": "",
       "version_major": 2,
       "version_minor": 0
      },
      "text/plain": [
       "Validating:   0%|          | 0/5 [00:00<?, ?it/s]"
      ]
     },
     "metadata": {},
     "output_type": "display_data"
    },
    {
     "name": "stdout",
     "output_type": "stream",
     "text": [
      "Epoch 50 Summary: Duration: 4.25s\n",
      "  Train Loss: 0.0295, Train Acc: 1.0000\n",
      "  Val Loss: 0.6769, Val Acc: 0.5500\n",
      "\n",
      "Epoch 51/150\n"
     ]
    },
    {
     "data": {
      "application/vnd.jupyter.widget-view+json": {
       "model_id": "",
       "version_major": 2,
       "version_minor": 0
      },
      "text/plain": [
       "Training:   0%|          | 0/20 [00:00<?, ?it/s]"
      ]
     },
     "metadata": {},
     "output_type": "display_data"
    },
    {
     "data": {
      "application/vnd.jupyter.widget-view+json": {
       "model_id": "",
       "version_major": 2,
       "version_minor": 0
      },
      "text/plain": [
       "Validating:   0%|          | 0/5 [00:00<?, ?it/s]"
      ]
     },
     "metadata": {},
     "output_type": "display_data"
    },
    {
     "name": "stdout",
     "output_type": "stream",
     "text": [
      "Epoch 51 Summary: Duration: 4.01s\n",
      "  Train Loss: 0.0265, Train Acc: 1.0000\n",
      "  Val Loss: 0.6093, Val Acc: 0.6500\n",
      "  Best model saved to ./preprocessed_dsb_50_each/patient_level_model_50_each_best.pth\n",
      "\n",
      "Epoch 52/150\n"
     ]
    },
    {
     "data": {
      "application/vnd.jupyter.widget-view+json": {
       "model_id": "",
       "version_major": 2,
       "version_minor": 0
      },
      "text/plain": [
       "Training:   0%|          | 0/20 [00:00<?, ?it/s]"
      ]
     },
     "metadata": {},
     "output_type": "display_data"
    },
    {
     "data": {
      "application/vnd.jupyter.widget-view+json": {
       "model_id": "",
       "version_major": 2,
       "version_minor": 0
      },
      "text/plain": [
       "Validating:   0%|          | 0/5 [00:00<?, ?it/s]"
      ]
     },
     "metadata": {},
     "output_type": "display_data"
    },
    {
     "name": "stdout",
     "output_type": "stream",
     "text": [
      "Epoch 52 Summary: Duration: 3.91s\n",
      "  Train Loss: 0.0258, Train Acc: 1.0000\n",
      "  Val Loss: 0.6098, Val Acc: 0.6500\n",
      "\n",
      "Epoch 53/150\n"
     ]
    },
    {
     "data": {
      "application/vnd.jupyter.widget-view+json": {
       "model_id": "",
       "version_major": 2,
       "version_minor": 0
      },
      "text/plain": [
       "Training:   0%|          | 0/20 [00:00<?, ?it/s]"
      ]
     },
     "metadata": {},
     "output_type": "display_data"
    },
    {
     "data": {
      "application/vnd.jupyter.widget-view+json": {
       "model_id": "",
       "version_major": 2,
       "version_minor": 0
      },
      "text/plain": [
       "Validating:   0%|          | 0/5 [00:00<?, ?it/s]"
      ]
     },
     "metadata": {},
     "output_type": "display_data"
    },
    {
     "name": "stdout",
     "output_type": "stream",
     "text": [
      "Epoch 53 Summary: Duration: 3.91s\n",
      "  Train Loss: 0.0206, Train Acc: 1.0000\n",
      "  Val Loss: 0.6120, Val Acc: 0.7000\n",
      "\n",
      "Epoch 54/150\n"
     ]
    },
    {
     "data": {
      "application/vnd.jupyter.widget-view+json": {
       "model_id": "",
       "version_major": 2,
       "version_minor": 0
      },
      "text/plain": [
       "Training:   0%|          | 0/20 [00:00<?, ?it/s]"
      ]
     },
     "metadata": {},
     "output_type": "display_data"
    },
    {
     "data": {
      "application/vnd.jupyter.widget-view+json": {
       "model_id": "",
       "version_major": 2,
       "version_minor": 0
      },
      "text/plain": [
       "Validating:   0%|          | 0/5 [00:00<?, ?it/s]"
      ]
     },
     "metadata": {},
     "output_type": "display_data"
    },
    {
     "name": "stdout",
     "output_type": "stream",
     "text": [
      "Epoch 54 Summary: Duration: 4.03s\n",
      "  Train Loss: 0.0228, Train Acc: 1.0000\n",
      "  Val Loss: 0.6138, Val Acc: 0.7000\n",
      "\n",
      "Epoch 55/150\n"
     ]
    },
    {
     "data": {
      "application/vnd.jupyter.widget-view+json": {
       "model_id": "",
       "version_major": 2,
       "version_minor": 0
      },
      "text/plain": [
       "Training:   0%|          | 0/20 [00:00<?, ?it/s]"
      ]
     },
     "metadata": {},
     "output_type": "display_data"
    },
    {
     "data": {
      "application/vnd.jupyter.widget-view+json": {
       "model_id": "",
       "version_major": 2,
       "version_minor": 0
      },
      "text/plain": [
       "Validating:   0%|          | 0/5 [00:00<?, ?it/s]"
      ]
     },
     "metadata": {},
     "output_type": "display_data"
    },
    {
     "name": "stdout",
     "output_type": "stream",
     "text": [
      "Epoch 55 Summary: Duration: 4.13s\n",
      "  Train Loss: 0.0249, Train Acc: 1.0000\n",
      "  Val Loss: 0.6068, Val Acc: 0.6500\n",
      "  Best model saved to ./preprocessed_dsb_50_each/patient_level_model_50_each_best.pth\n",
      "\n",
      "Epoch 56/150\n"
     ]
    },
    {
     "data": {
      "application/vnd.jupyter.widget-view+json": {
       "model_id": "",
       "version_major": 2,
       "version_minor": 0
      },
      "text/plain": [
       "Training:   0%|          | 0/20 [00:00<?, ?it/s]"
      ]
     },
     "metadata": {},
     "output_type": "display_data"
    },
    {
     "data": {
      "application/vnd.jupyter.widget-view+json": {
       "model_id": "",
       "version_major": 2,
       "version_minor": 0
      },
      "text/plain": [
       "Validating:   0%|          | 0/5 [00:00<?, ?it/s]"
      ]
     },
     "metadata": {},
     "output_type": "display_data"
    },
    {
     "name": "stdout",
     "output_type": "stream",
     "text": [
      "Epoch 56 Summary: Duration: 4.08s\n",
      "  Train Loss: 0.0201, Train Acc: 1.0000\n",
      "  Val Loss: 0.6005, Val Acc: 0.6000\n",
      "  Best model saved to ./preprocessed_dsb_50_each/patient_level_model_50_each_best.pth\n",
      "\n",
      "Epoch 57/150\n"
     ]
    },
    {
     "data": {
      "application/vnd.jupyter.widget-view+json": {
       "model_id": "",
       "version_major": 2,
       "version_minor": 0
      },
      "text/plain": [
       "Training:   0%|          | 0/20 [00:00<?, ?it/s]"
      ]
     },
     "metadata": {},
     "output_type": "display_data"
    },
    {
     "data": {
      "application/vnd.jupyter.widget-view+json": {
       "model_id": "",
       "version_major": 2,
       "version_minor": 0
      },
      "text/plain": [
       "Validating:   0%|          | 0/5 [00:00<?, ?it/s]"
      ]
     },
     "metadata": {},
     "output_type": "display_data"
    },
    {
     "name": "stdout",
     "output_type": "stream",
     "text": [
      "Epoch 57 Summary: Duration: 4.26s\n",
      "  Train Loss: 0.0206, Train Acc: 1.0000\n",
      "  Val Loss: 0.6386, Val Acc: 0.6000\n",
      "\n",
      "Epoch 58/150\n"
     ]
    },
    {
     "data": {
      "application/vnd.jupyter.widget-view+json": {
       "model_id": "",
       "version_major": 2,
       "version_minor": 0
      },
      "text/plain": [
       "Training:   0%|          | 0/20 [00:00<?, ?it/s]"
      ]
     },
     "metadata": {},
     "output_type": "display_data"
    },
    {
     "data": {
      "application/vnd.jupyter.widget-view+json": {
       "model_id": "",
       "version_major": 2,
       "version_minor": 0
      },
      "text/plain": [
       "Validating:   0%|          | 0/5 [00:00<?, ?it/s]"
      ]
     },
     "metadata": {},
     "output_type": "display_data"
    },
    {
     "name": "stdout",
     "output_type": "stream",
     "text": [
      "Epoch 58 Summary: Duration: 4.17s\n",
      "  Train Loss: 0.0161, Train Acc: 1.0000\n",
      "  Val Loss: 0.6206, Val Acc: 0.7500\n",
      "\n",
      "Epoch 59/150\n"
     ]
    },
    {
     "data": {
      "application/vnd.jupyter.widget-view+json": {
       "model_id": "",
       "version_major": 2,
       "version_minor": 0
      },
      "text/plain": [
       "Training:   0%|          | 0/20 [00:00<?, ?it/s]"
      ]
     },
     "metadata": {},
     "output_type": "display_data"
    },
    {
     "data": {
      "application/vnd.jupyter.widget-view+json": {
       "model_id": "",
       "version_major": 2,
       "version_minor": 0
      },
      "text/plain": [
       "Validating:   0%|          | 0/5 [00:00<?, ?it/s]"
      ]
     },
     "metadata": {},
     "output_type": "display_data"
    },
    {
     "name": "stdout",
     "output_type": "stream",
     "text": [
      "Epoch 59 Summary: Duration: 3.88s\n",
      "  Train Loss: 0.0164, Train Acc: 1.0000\n",
      "  Val Loss: 0.6138, Val Acc: 0.6000\n",
      "\n",
      "Epoch 60/150\n"
     ]
    },
    {
     "data": {
      "application/vnd.jupyter.widget-view+json": {
       "model_id": "",
       "version_major": 2,
       "version_minor": 0
      },
      "text/plain": [
       "Training:   0%|          | 0/20 [00:00<?, ?it/s]"
      ]
     },
     "metadata": {},
     "output_type": "display_data"
    },
    {
     "data": {
      "application/vnd.jupyter.widget-view+json": {
       "model_id": "",
       "version_major": 2,
       "version_minor": 0
      },
      "text/plain": [
       "Validating:   0%|          | 0/5 [00:00<?, ?it/s]"
      ]
     },
     "metadata": {},
     "output_type": "display_data"
    },
    {
     "name": "stdout",
     "output_type": "stream",
     "text": [
      "Epoch 60 Summary: Duration: 4.05s\n",
      "  Train Loss: 0.0156, Train Acc: 1.0000\n",
      "  Val Loss: 0.6091, Val Acc: 0.7000\n",
      "\n",
      "Epoch 61/150\n"
     ]
    },
    {
     "data": {
      "application/vnd.jupyter.widget-view+json": {
       "model_id": "",
       "version_major": 2,
       "version_minor": 0
      },
      "text/plain": [
       "Training:   0%|          | 0/20 [00:00<?, ?it/s]"
      ]
     },
     "metadata": {},
     "output_type": "display_data"
    },
    {
     "data": {
      "application/vnd.jupyter.widget-view+json": {
       "model_id": "",
       "version_major": 2,
       "version_minor": 0
      },
      "text/plain": [
       "Validating:   0%|          | 0/5 [00:00<?, ?it/s]"
      ]
     },
     "metadata": {},
     "output_type": "display_data"
    },
    {
     "name": "stdout",
     "output_type": "stream",
     "text": [
      "Epoch 61 Summary: Duration: 4.39s\n",
      "  Train Loss: 0.0175, Train Acc: 1.0000\n",
      "  Val Loss: 0.6081, Val Acc: 0.7000\n",
      "\n",
      "Epoch 62/150\n"
     ]
    },
    {
     "data": {
      "application/vnd.jupyter.widget-view+json": {
       "model_id": "",
       "version_major": 2,
       "version_minor": 0
      },
      "text/plain": [
       "Training:   0%|          | 0/20 [00:00<?, ?it/s]"
      ]
     },
     "metadata": {},
     "output_type": "display_data"
    },
    {
     "data": {
      "application/vnd.jupyter.widget-view+json": {
       "model_id": "",
       "version_major": 2,
       "version_minor": 0
      },
      "text/plain": [
       "Validating:   0%|          | 0/5 [00:00<?, ?it/s]"
      ]
     },
     "metadata": {},
     "output_type": "display_data"
    },
    {
     "name": "stdout",
     "output_type": "stream",
     "text": [
      "Epoch 62 Summary: Duration: 4.21s\n",
      "  Train Loss: 0.0138, Train Acc: 1.0000\n",
      "  Val Loss: 0.6015, Val Acc: 0.7000\n",
      "\n",
      "Epoch 63/150\n"
     ]
    },
    {
     "data": {
      "application/vnd.jupyter.widget-view+json": {
       "model_id": "",
       "version_major": 2,
       "version_minor": 0
      },
      "text/plain": [
       "Training:   0%|          | 0/20 [00:00<?, ?it/s]"
      ]
     },
     "metadata": {},
     "output_type": "display_data"
    },
    {
     "data": {
      "application/vnd.jupyter.widget-view+json": {
       "model_id": "",
       "version_major": 2,
       "version_minor": 0
      },
      "text/plain": [
       "Validating:   0%|          | 0/5 [00:00<?, ?it/s]"
      ]
     },
     "metadata": {},
     "output_type": "display_data"
    },
    {
     "name": "stdout",
     "output_type": "stream",
     "text": [
      "Epoch 63 Summary: Duration: 4.34s\n",
      "  Train Loss: 0.0099, Train Acc: 1.0000\n",
      "  Val Loss: 0.6127, Val Acc: 0.5500\n",
      "\n",
      "Epoch 64/150\n"
     ]
    },
    {
     "data": {
      "application/vnd.jupyter.widget-view+json": {
       "model_id": "",
       "version_major": 2,
       "version_minor": 0
      },
      "text/plain": [
       "Training:   0%|          | 0/20 [00:00<?, ?it/s]"
      ]
     },
     "metadata": {},
     "output_type": "display_data"
    },
    {
     "data": {
      "application/vnd.jupyter.widget-view+json": {
       "model_id": "",
       "version_major": 2,
       "version_minor": 0
      },
      "text/plain": [
       "Validating:   0%|          | 0/5 [00:00<?, ?it/s]"
      ]
     },
     "metadata": {},
     "output_type": "display_data"
    },
    {
     "name": "stdout",
     "output_type": "stream",
     "text": [
      "Epoch 64 Summary: Duration: 4.11s\n",
      "  Train Loss: 0.0116, Train Acc: 1.0000\n",
      "  Val Loss: 0.6122, Val Acc: 0.5500\n",
      "\n",
      "Epoch 65/150\n"
     ]
    },
    {
     "data": {
      "application/vnd.jupyter.widget-view+json": {
       "model_id": "",
       "version_major": 2,
       "version_minor": 0
      },
      "text/plain": [
       "Training:   0%|          | 0/20 [00:00<?, ?it/s]"
      ]
     },
     "metadata": {},
     "output_type": "display_data"
    },
    {
     "data": {
      "application/vnd.jupyter.widget-view+json": {
       "model_id": "",
       "version_major": 2,
       "version_minor": 0
      },
      "text/plain": [
       "Validating:   0%|          | 0/5 [00:00<?, ?it/s]"
      ]
     },
     "metadata": {},
     "output_type": "display_data"
    },
    {
     "name": "stdout",
     "output_type": "stream",
     "text": [
      "Epoch 65 Summary: Duration: 4.06s\n",
      "  Train Loss: 0.0146, Train Acc: 1.0000\n",
      "  Val Loss: 0.6696, Val Acc: 0.6500\n",
      "\n",
      "Epoch 66/150\n"
     ]
    },
    {
     "data": {
      "application/vnd.jupyter.widget-view+json": {
       "model_id": "",
       "version_major": 2,
       "version_minor": 0
      },
      "text/plain": [
       "Training:   0%|          | 0/20 [00:00<?, ?it/s]"
      ]
     },
     "metadata": {},
     "output_type": "display_data"
    },
    {
     "data": {
      "application/vnd.jupyter.widget-view+json": {
       "model_id": "",
       "version_major": 2,
       "version_minor": 0
      },
      "text/plain": [
       "Validating:   0%|          | 0/5 [00:00<?, ?it/s]"
      ]
     },
     "metadata": {},
     "output_type": "display_data"
    },
    {
     "name": "stdout",
     "output_type": "stream",
     "text": [
      "Epoch 66 Summary: Duration: 4.31s\n",
      "  Train Loss: 0.0139, Train Acc: 1.0000\n",
      "  Val Loss: 0.6238, Val Acc: 0.5000\n",
      "\n",
      "Epoch 67/150\n"
     ]
    },
    {
     "data": {
      "application/vnd.jupyter.widget-view+json": {
       "model_id": "",
       "version_major": 2,
       "version_minor": 0
      },
      "text/plain": [
       "Training:   0%|          | 0/20 [00:00<?, ?it/s]"
      ]
     },
     "metadata": {},
     "output_type": "display_data"
    },
    {
     "data": {
      "application/vnd.jupyter.widget-view+json": {
       "model_id": "",
       "version_major": 2,
       "version_minor": 0
      },
      "text/plain": [
       "Validating:   0%|          | 0/5 [00:00<?, ?it/s]"
      ]
     },
     "metadata": {},
     "output_type": "display_data"
    },
    {
     "name": "stdout",
     "output_type": "stream",
     "text": [
      "Epoch 67 Summary: Duration: 3.90s\n",
      "  Train Loss: 0.0133, Train Acc: 1.0000\n",
      "  Val Loss: 0.6073, Val Acc: 0.7500\n",
      "\n",
      "Epoch 68/150\n"
     ]
    },
    {
     "data": {
      "application/vnd.jupyter.widget-view+json": {
       "model_id": "",
       "version_major": 2,
       "version_minor": 0
      },
      "text/plain": [
       "Training:   0%|          | 0/20 [00:00<?, ?it/s]"
      ]
     },
     "metadata": {},
     "output_type": "display_data"
    },
    {
     "data": {
      "application/vnd.jupyter.widget-view+json": {
       "model_id": "",
       "version_major": 2,
       "version_minor": 0
      },
      "text/plain": [
       "Validating:   0%|          | 0/5 [00:00<?, ?it/s]"
      ]
     },
     "metadata": {},
     "output_type": "display_data"
    },
    {
     "name": "stdout",
     "output_type": "stream",
     "text": [
      "Epoch 68 Summary: Duration: 4.11s\n",
      "  Train Loss: 0.0097, Train Acc: 1.0000\n",
      "  Val Loss: 0.6015, Val Acc: 0.7000\n",
      "\n",
      "Epoch 69/150\n"
     ]
    },
    {
     "data": {
      "application/vnd.jupyter.widget-view+json": {
       "model_id": "",
       "version_major": 2,
       "version_minor": 0
      },
      "text/plain": [
       "Training:   0%|          | 0/20 [00:00<?, ?it/s]"
      ]
     },
     "metadata": {},
     "output_type": "display_data"
    },
    {
     "data": {
      "application/vnd.jupyter.widget-view+json": {
       "model_id": "",
       "version_major": 2,
       "version_minor": 0
      },
      "text/plain": [
       "Validating:   0%|          | 0/5 [00:00<?, ?it/s]"
      ]
     },
     "metadata": {},
     "output_type": "display_data"
    },
    {
     "name": "stdout",
     "output_type": "stream",
     "text": [
      "Epoch 69 Summary: Duration: 4.04s\n",
      "  Train Loss: 0.0099, Train Acc: 1.0000\n",
      "  Val Loss: 0.5977, Val Acc: 0.6000\n",
      "  Best model saved to ./preprocessed_dsb_50_each/patient_level_model_50_each_best.pth\n",
      "\n",
      "Epoch 70/150\n"
     ]
    },
    {
     "data": {
      "application/vnd.jupyter.widget-view+json": {
       "model_id": "",
       "version_major": 2,
       "version_minor": 0
      },
      "text/plain": [
       "Training:   0%|          | 0/20 [00:00<?, ?it/s]"
      ]
     },
     "metadata": {},
     "output_type": "display_data"
    },
    {
     "data": {
      "application/vnd.jupyter.widget-view+json": {
       "model_id": "",
       "version_major": 2,
       "version_minor": 0
      },
      "text/plain": [
       "Validating:   0%|          | 0/5 [00:00<?, ?it/s]"
      ]
     },
     "metadata": {},
     "output_type": "display_data"
    },
    {
     "name": "stdout",
     "output_type": "stream",
     "text": [
      "Epoch 70 Summary: Duration: 4.39s\n",
      "  Train Loss: 0.0091, Train Acc: 1.0000\n",
      "  Val Loss: 0.6061, Val Acc: 0.5500\n",
      "\n",
      "Epoch 71/150\n"
     ]
    },
    {
     "data": {
      "application/vnd.jupyter.widget-view+json": {
       "model_id": "",
       "version_major": 2,
       "version_minor": 0
      },
      "text/plain": [
       "Training:   0%|          | 0/20 [00:00<?, ?it/s]"
      ]
     },
     "metadata": {},
     "output_type": "display_data"
    },
    {
     "data": {
      "application/vnd.jupyter.widget-view+json": {
       "model_id": "",
       "version_major": 2,
       "version_minor": 0
      },
      "text/plain": [
       "Validating:   0%|          | 0/5 [00:00<?, ?it/s]"
      ]
     },
     "metadata": {},
     "output_type": "display_data"
    },
    {
     "name": "stdout",
     "output_type": "stream",
     "text": [
      "Epoch 71 Summary: Duration: 4.12s\n",
      "  Train Loss: 0.0080, Train Acc: 1.0000\n",
      "  Val Loss: 0.6064, Val Acc: 0.5500\n",
      "\n",
      "Epoch 72/150\n"
     ]
    },
    {
     "data": {
      "application/vnd.jupyter.widget-view+json": {
       "model_id": "",
       "version_major": 2,
       "version_minor": 0
      },
      "text/plain": [
       "Training:   0%|          | 0/20 [00:00<?, ?it/s]"
      ]
     },
     "metadata": {},
     "output_type": "display_data"
    },
    {
     "data": {
      "application/vnd.jupyter.widget-view+json": {
       "model_id": "",
       "version_major": 2,
       "version_minor": 0
      },
      "text/plain": [
       "Validating:   0%|          | 0/5 [00:00<?, ?it/s]"
      ]
     },
     "metadata": {},
     "output_type": "display_data"
    },
    {
     "name": "stdout",
     "output_type": "stream",
     "text": [
      "Epoch 72 Summary: Duration: 3.98s\n",
      "  Train Loss: 0.0093, Train Acc: 1.0000\n",
      "  Val Loss: 0.6202, Val Acc: 0.5000\n",
      "\n",
      "Epoch 73/150\n"
     ]
    },
    {
     "data": {
      "application/vnd.jupyter.widget-view+json": {
       "model_id": "",
       "version_major": 2,
       "version_minor": 0
      },
      "text/plain": [
       "Training:   0%|          | 0/20 [00:00<?, ?it/s]"
      ]
     },
     "metadata": {},
     "output_type": "display_data"
    },
    {
     "data": {
      "application/vnd.jupyter.widget-view+json": {
       "model_id": "",
       "version_major": 2,
       "version_minor": 0
      },
      "text/plain": [
       "Validating:   0%|          | 0/5 [00:00<?, ?it/s]"
      ]
     },
     "metadata": {},
     "output_type": "display_data"
    },
    {
     "name": "stdout",
     "output_type": "stream",
     "text": [
      "Epoch 73 Summary: Duration: 3.96s\n",
      "  Train Loss: 0.0092, Train Acc: 1.0000\n",
      "  Val Loss: 0.6021, Val Acc: 0.7000\n",
      "\n",
      "Epoch 74/150\n"
     ]
    },
    {
     "data": {
      "application/vnd.jupyter.widget-view+json": {
       "model_id": "",
       "version_major": 2,
       "version_minor": 0
      },
      "text/plain": [
       "Training:   0%|          | 0/20 [00:00<?, ?it/s]"
      ]
     },
     "metadata": {},
     "output_type": "display_data"
    },
    {
     "data": {
      "application/vnd.jupyter.widget-view+json": {
       "model_id": "",
       "version_major": 2,
       "version_minor": 0
      },
      "text/plain": [
       "Validating:   0%|          | 0/5 [00:00<?, ?it/s]"
      ]
     },
     "metadata": {},
     "output_type": "display_data"
    },
    {
     "name": "stdout",
     "output_type": "stream",
     "text": [
      "Epoch 74 Summary: Duration: 4.09s\n",
      "  Train Loss: 0.0082, Train Acc: 1.0000\n",
      "  Val Loss: 0.6157, Val Acc: 0.5000\n",
      "\n",
      "Epoch 75/150\n"
     ]
    },
    {
     "data": {
      "application/vnd.jupyter.widget-view+json": {
       "model_id": "",
       "version_major": 2,
       "version_minor": 0
      },
      "text/plain": [
       "Training:   0%|          | 0/20 [00:00<?, ?it/s]"
      ]
     },
     "metadata": {},
     "output_type": "display_data"
    },
    {
     "data": {
      "application/vnd.jupyter.widget-view+json": {
       "model_id": "",
       "version_major": 2,
       "version_minor": 0
      },
      "text/plain": [
       "Validating:   0%|          | 0/5 [00:00<?, ?it/s]"
      ]
     },
     "metadata": {},
     "output_type": "display_data"
    },
    {
     "name": "stdout",
     "output_type": "stream",
     "text": [
      "Epoch 75 Summary: Duration: 4.04s\n",
      "  Train Loss: 0.0078, Train Acc: 1.0000\n",
      "  Val Loss: 0.6028, Val Acc: 0.7000\n",
      "\n",
      "Epoch 76/150\n"
     ]
    },
    {
     "data": {
      "application/vnd.jupyter.widget-view+json": {
       "model_id": "",
       "version_major": 2,
       "version_minor": 0
      },
      "text/plain": [
       "Training:   0%|          | 0/20 [00:00<?, ?it/s]"
      ]
     },
     "metadata": {},
     "output_type": "display_data"
    },
    {
     "data": {
      "application/vnd.jupyter.widget-view+json": {
       "model_id": "",
       "version_major": 2,
       "version_minor": 0
      },
      "text/plain": [
       "Validating:   0%|          | 0/5 [00:00<?, ?it/s]"
      ]
     },
     "metadata": {},
     "output_type": "display_data"
    },
    {
     "name": "stdout",
     "output_type": "stream",
     "text": [
      "Epoch 76 Summary: Duration: 4.05s\n",
      "  Train Loss: 0.0074, Train Acc: 1.0000\n",
      "  Val Loss: 0.6054, Val Acc: 0.7000\n",
      "\n",
      "Epoch 77/150\n"
     ]
    },
    {
     "data": {
      "application/vnd.jupyter.widget-view+json": {
       "model_id": "",
       "version_major": 2,
       "version_minor": 0
      },
      "text/plain": [
       "Training:   0%|          | 0/20 [00:00<?, ?it/s]"
      ]
     },
     "metadata": {},
     "output_type": "display_data"
    },
    {
     "data": {
      "application/vnd.jupyter.widget-view+json": {
       "model_id": "",
       "version_major": 2,
       "version_minor": 0
      },
      "text/plain": [
       "Validating:   0%|          | 0/5 [00:00<?, ?it/s]"
      ]
     },
     "metadata": {},
     "output_type": "display_data"
    },
    {
     "name": "stdout",
     "output_type": "stream",
     "text": [
      "Epoch 77 Summary: Duration: 4.03s\n",
      "  Train Loss: 0.0071, Train Acc: 1.0000\n",
      "  Val Loss: 0.6095, Val Acc: 0.6500\n",
      "\n",
      "Epoch 78/150\n"
     ]
    },
    {
     "data": {
      "application/vnd.jupyter.widget-view+json": {
       "model_id": "",
       "version_major": 2,
       "version_minor": 0
      },
      "text/plain": [
       "Training:   0%|          | 0/20 [00:00<?, ?it/s]"
      ]
     },
     "metadata": {},
     "output_type": "display_data"
    },
    {
     "data": {
      "application/vnd.jupyter.widget-view+json": {
       "model_id": "",
       "version_major": 2,
       "version_minor": 0
      },
      "text/plain": [
       "Validating:   0%|          | 0/5 [00:00<?, ?it/s]"
      ]
     },
     "metadata": {},
     "output_type": "display_data"
    },
    {
     "name": "stdout",
     "output_type": "stream",
     "text": [
      "Epoch 78 Summary: Duration: 4.65s\n",
      "  Train Loss: 0.0056, Train Acc: 1.0000\n",
      "  Val Loss: 0.5987, Val Acc: 0.7000\n",
      "\n",
      "Epoch 79/150\n"
     ]
    },
    {
     "data": {
      "application/vnd.jupyter.widget-view+json": {
       "model_id": "",
       "version_major": 2,
       "version_minor": 0
      },
      "text/plain": [
       "Training:   0%|          | 0/20 [00:00<?, ?it/s]"
      ]
     },
     "metadata": {},
     "output_type": "display_data"
    },
    {
     "data": {
      "application/vnd.jupyter.widget-view+json": {
       "model_id": "",
       "version_major": 2,
       "version_minor": 0
      },
      "text/plain": [
       "Validating:   0%|          | 0/5 [00:00<?, ?it/s]"
      ]
     },
     "metadata": {},
     "output_type": "display_data"
    },
    {
     "name": "stdout",
     "output_type": "stream",
     "text": [
      "Epoch 79 Summary: Duration: 4.45s\n",
      "  Train Loss: 0.0076, Train Acc: 1.0000\n",
      "  Val Loss: 0.5975, Val Acc: 0.6000\n",
      "  Best model saved to ./preprocessed_dsb_50_each/patient_level_model_50_each_best.pth\n",
      "\n",
      "Epoch 80/150\n"
     ]
    },
    {
     "data": {
      "application/vnd.jupyter.widget-view+json": {
       "model_id": "",
       "version_major": 2,
       "version_minor": 0
      },
      "text/plain": [
       "Training:   0%|          | 0/20 [00:00<?, ?it/s]"
      ]
     },
     "metadata": {},
     "output_type": "display_data"
    },
    {
     "data": {
      "application/vnd.jupyter.widget-view+json": {
       "model_id": "",
       "version_major": 2,
       "version_minor": 0
      },
      "text/plain": [
       "Validating:   0%|          | 0/5 [00:00<?, ?it/s]"
      ]
     },
     "metadata": {},
     "output_type": "display_data"
    },
    {
     "name": "stdout",
     "output_type": "stream",
     "text": [
      "Epoch 80 Summary: Duration: 4.06s\n",
      "  Train Loss: 0.0093, Train Acc: 1.0000\n",
      "  Val Loss: 0.5938, Val Acc: 0.7000\n",
      "  Best model saved to ./preprocessed_dsb_50_each/patient_level_model_50_each_best.pth\n",
      "\n",
      "Epoch 81/150\n"
     ]
    },
    {
     "data": {
      "application/vnd.jupyter.widget-view+json": {
       "model_id": "",
       "version_major": 2,
       "version_minor": 0
      },
      "text/plain": [
       "Training:   0%|          | 0/20 [00:00<?, ?it/s]"
      ]
     },
     "metadata": {},
     "output_type": "display_data"
    },
    {
     "data": {
      "application/vnd.jupyter.widget-view+json": {
       "model_id": "",
       "version_major": 2,
       "version_minor": 0
      },
      "text/plain": [
       "Validating:   0%|          | 0/5 [00:00<?, ?it/s]"
      ]
     },
     "metadata": {},
     "output_type": "display_data"
    },
    {
     "name": "stdout",
     "output_type": "stream",
     "text": [
      "Epoch 81 Summary: Duration: 4.64s\n",
      "  Train Loss: 0.0074, Train Acc: 1.0000\n",
      "  Val Loss: 0.6089, Val Acc: 0.5500\n",
      "\n",
      "Epoch 82/150\n"
     ]
    },
    {
     "data": {
      "application/vnd.jupyter.widget-view+json": {
       "model_id": "",
       "version_major": 2,
       "version_minor": 0
      },
      "text/plain": [
       "Training:   0%|          | 0/20 [00:00<?, ?it/s]"
      ]
     },
     "metadata": {},
     "output_type": "display_data"
    },
    {
     "data": {
      "application/vnd.jupyter.widget-view+json": {
       "model_id": "",
       "version_major": 2,
       "version_minor": 0
      },
      "text/plain": [
       "Validating:   0%|          | 0/5 [00:00<?, ?it/s]"
      ]
     },
     "metadata": {},
     "output_type": "display_data"
    },
    {
     "name": "stdout",
     "output_type": "stream",
     "text": [
      "Epoch 82 Summary: Duration: 3.96s\n",
      "  Train Loss: 0.0079, Train Acc: 1.0000\n",
      "  Val Loss: 0.6221, Val Acc: 0.5000\n",
      "\n",
      "Epoch 83/150\n"
     ]
    },
    {
     "data": {
      "application/vnd.jupyter.widget-view+json": {
       "model_id": "",
       "version_major": 2,
       "version_minor": 0
      },
      "text/plain": [
       "Training:   0%|          | 0/20 [00:00<?, ?it/s]"
      ]
     },
     "metadata": {},
     "output_type": "display_data"
    },
    {
     "data": {
      "application/vnd.jupyter.widget-view+json": {
       "model_id": "",
       "version_major": 2,
       "version_minor": 0
      },
      "text/plain": [
       "Validating:   0%|          | 0/5 [00:00<?, ?it/s]"
      ]
     },
     "metadata": {},
     "output_type": "display_data"
    },
    {
     "name": "stdout",
     "output_type": "stream",
     "text": [
      "Epoch 83 Summary: Duration: 4.05s\n",
      "  Train Loss: 0.0068, Train Acc: 1.0000\n",
      "  Val Loss: 0.5986, Val Acc: 0.7500\n",
      "\n",
      "Epoch 84/150\n"
     ]
    },
    {
     "data": {
      "application/vnd.jupyter.widget-view+json": {
       "model_id": "",
       "version_major": 2,
       "version_minor": 0
      },
      "text/plain": [
       "Training:   0%|          | 0/20 [00:00<?, ?it/s]"
      ]
     },
     "metadata": {},
     "output_type": "display_data"
    },
    {
     "data": {
      "application/vnd.jupyter.widget-view+json": {
       "model_id": "",
       "version_major": 2,
       "version_minor": 0
      },
      "text/plain": [
       "Validating:   0%|          | 0/5 [00:00<?, ?it/s]"
      ]
     },
     "metadata": {},
     "output_type": "display_data"
    },
    {
     "name": "stdout",
     "output_type": "stream",
     "text": [
      "Epoch 84 Summary: Duration: 4.35s\n",
      "  Train Loss: 0.0062, Train Acc: 1.0000\n",
      "  Val Loss: 0.5972, Val Acc: 0.6500\n",
      "\n",
      "Epoch 85/150\n"
     ]
    },
    {
     "data": {
      "application/vnd.jupyter.widget-view+json": {
       "model_id": "",
       "version_major": 2,
       "version_minor": 0
      },
      "text/plain": [
       "Training:   0%|          | 0/20 [00:00<?, ?it/s]"
      ]
     },
     "metadata": {},
     "output_type": "display_data"
    },
    {
     "data": {
      "application/vnd.jupyter.widget-view+json": {
       "model_id": "",
       "version_major": 2,
       "version_minor": 0
      },
      "text/plain": [
       "Validating:   0%|          | 0/5 [00:00<?, ?it/s]"
      ]
     },
     "metadata": {},
     "output_type": "display_data"
    },
    {
     "name": "stdout",
     "output_type": "stream",
     "text": [
      "Epoch 85 Summary: Duration: 5.56s\n",
      "  Train Loss: 0.0056, Train Acc: 1.0000\n",
      "  Val Loss: 0.6036, Val Acc: 0.7000\n",
      "\n",
      "Epoch 86/150\n"
     ]
    },
    {
     "data": {
      "application/vnd.jupyter.widget-view+json": {
       "model_id": "",
       "version_major": 2,
       "version_minor": 0
      },
      "text/plain": [
       "Training:   0%|          | 0/20 [00:00<?, ?it/s]"
      ]
     },
     "metadata": {},
     "output_type": "display_data"
    },
    {
     "data": {
      "application/vnd.jupyter.widget-view+json": {
       "model_id": "",
       "version_major": 2,
       "version_minor": 0
      },
      "text/plain": [
       "Validating:   0%|          | 0/5 [00:00<?, ?it/s]"
      ]
     },
     "metadata": {},
     "output_type": "display_data"
    },
    {
     "name": "stdout",
     "output_type": "stream",
     "text": [
      "Epoch 86 Summary: Duration: 7.62s\n",
      "  Train Loss: 0.0061, Train Acc: 1.0000\n",
      "  Val Loss: 0.6532, Val Acc: 0.5500\n",
      "\n",
      "Epoch 87/150\n"
     ]
    },
    {
     "data": {
      "application/vnd.jupyter.widget-view+json": {
       "model_id": "",
       "version_major": 2,
       "version_minor": 0
      },
      "text/plain": [
       "Training:   0%|          | 0/20 [00:00<?, ?it/s]"
      ]
     },
     "metadata": {},
     "output_type": "display_data"
    },
    {
     "data": {
      "application/vnd.jupyter.widget-view+json": {
       "model_id": "",
       "version_major": 2,
       "version_minor": 0
      },
      "text/plain": [
       "Validating:   0%|          | 0/5 [00:00<?, ?it/s]"
      ]
     },
     "metadata": {},
     "output_type": "display_data"
    },
    {
     "name": "stdout",
     "output_type": "stream",
     "text": [
      "Epoch 87 Summary: Duration: 7.71s\n",
      "  Train Loss: 0.0046, Train Acc: 1.0000\n",
      "  Val Loss: 0.6010, Val Acc: 0.7000\n",
      "\n",
      "Epoch 88/150\n"
     ]
    },
    {
     "data": {
      "application/vnd.jupyter.widget-view+json": {
       "model_id": "",
       "version_major": 2,
       "version_minor": 0
      },
      "text/plain": [
       "Training:   0%|          | 0/20 [00:00<?, ?it/s]"
      ]
     },
     "metadata": {},
     "output_type": "display_data"
    },
    {
     "data": {
      "application/vnd.jupyter.widget-view+json": {
       "model_id": "",
       "version_major": 2,
       "version_minor": 0
      },
      "text/plain": [
       "Validating:   0%|          | 0/5 [00:00<?, ?it/s]"
      ]
     },
     "metadata": {},
     "output_type": "display_data"
    },
    {
     "name": "stdout",
     "output_type": "stream",
     "text": [
      "Epoch 88 Summary: Duration: 7.35s\n",
      "  Train Loss: 0.0051, Train Acc: 1.0000\n",
      "  Val Loss: 0.5982, Val Acc: 0.6000\n",
      "\n",
      "Epoch 89/150\n"
     ]
    },
    {
     "data": {
      "application/vnd.jupyter.widget-view+json": {
       "model_id": "",
       "version_major": 2,
       "version_minor": 0
      },
      "text/plain": [
       "Training:   0%|          | 0/20 [00:00<?, ?it/s]"
      ]
     },
     "metadata": {},
     "output_type": "display_data"
    },
    {
     "data": {
      "application/vnd.jupyter.widget-view+json": {
       "model_id": "",
       "version_major": 2,
       "version_minor": 0
      },
      "text/plain": [
       "Validating:   0%|          | 0/5 [00:00<?, ?it/s]"
      ]
     },
     "metadata": {},
     "output_type": "display_data"
    },
    {
     "name": "stdout",
     "output_type": "stream",
     "text": [
      "Epoch 89 Summary: Duration: 7.43s\n",
      "  Train Loss: 0.0045, Train Acc: 1.0000\n",
      "  Val Loss: 0.6012, Val Acc: 0.7000\n",
      "\n",
      "Epoch 90/150\n"
     ]
    },
    {
     "data": {
      "application/vnd.jupyter.widget-view+json": {
       "model_id": "",
       "version_major": 2,
       "version_minor": 0
      },
      "text/plain": [
       "Training:   0%|          | 0/20 [00:00<?, ?it/s]"
      ]
     },
     "metadata": {},
     "output_type": "display_data"
    },
    {
     "data": {
      "application/vnd.jupyter.widget-view+json": {
       "model_id": "",
       "version_major": 2,
       "version_minor": 0
      },
      "text/plain": [
       "Validating:   0%|          | 0/5 [00:00<?, ?it/s]"
      ]
     },
     "metadata": {},
     "output_type": "display_data"
    },
    {
     "name": "stdout",
     "output_type": "stream",
     "text": [
      "Epoch 90 Summary: Duration: 7.39s\n",
      "  Train Loss: 0.0061, Train Acc: 1.0000\n",
      "  Val Loss: 0.5978, Val Acc: 0.6500\n",
      "\n",
      "Epoch 91/150\n"
     ]
    },
    {
     "data": {
      "application/vnd.jupyter.widget-view+json": {
       "model_id": "",
       "version_major": 2,
       "version_minor": 0
      },
      "text/plain": [
       "Training:   0%|          | 0/20 [00:00<?, ?it/s]"
      ]
     },
     "metadata": {},
     "output_type": "display_data"
    },
    {
     "data": {
      "application/vnd.jupyter.widget-view+json": {
       "model_id": "",
       "version_major": 2,
       "version_minor": 0
      },
      "text/plain": [
       "Validating:   0%|          | 0/5 [00:00<?, ?it/s]"
      ]
     },
     "metadata": {},
     "output_type": "display_data"
    },
    {
     "name": "stdout",
     "output_type": "stream",
     "text": [
      "Epoch 91 Summary: Duration: 6.63s\n",
      "  Train Loss: 0.0044, Train Acc: 1.0000\n",
      "  Val Loss: 0.6328, Val Acc: 0.5000\n",
      "\n",
      "Epoch 92/150\n"
     ]
    },
    {
     "data": {
      "application/vnd.jupyter.widget-view+json": {
       "model_id": "",
       "version_major": 2,
       "version_minor": 0
      },
      "text/plain": [
       "Training:   0%|          | 0/20 [00:00<?, ?it/s]"
      ]
     },
     "metadata": {},
     "output_type": "display_data"
    },
    {
     "data": {
      "application/vnd.jupyter.widget-view+json": {
       "model_id": "",
       "version_major": 2,
       "version_minor": 0
      },
      "text/plain": [
       "Validating:   0%|          | 0/5 [00:00<?, ?it/s]"
      ]
     },
     "metadata": {},
     "output_type": "display_data"
    },
    {
     "name": "stdout",
     "output_type": "stream",
     "text": [
      "Epoch 92 Summary: Duration: 7.73s\n",
      "  Train Loss: 0.0067, Train Acc: 1.0000\n",
      "  Val Loss: 0.6437, Val Acc: 0.7000\n",
      "\n",
      "Epoch 93/150\n"
     ]
    },
    {
     "data": {
      "application/vnd.jupyter.widget-view+json": {
       "model_id": "",
       "version_major": 2,
       "version_minor": 0
      },
      "text/plain": [
       "Training:   0%|          | 0/20 [00:00<?, ?it/s]"
      ]
     },
     "metadata": {},
     "output_type": "display_data"
    },
    {
     "data": {
      "application/vnd.jupyter.widget-view+json": {
       "model_id": "",
       "version_major": 2,
       "version_minor": 0
      },
      "text/plain": [
       "Validating:   0%|          | 0/5 [00:00<?, ?it/s]"
      ]
     },
     "metadata": {},
     "output_type": "display_data"
    },
    {
     "name": "stdout",
     "output_type": "stream",
     "text": [
      "Epoch 93 Summary: Duration: 6.84s\n",
      "  Train Loss: 0.0068, Train Acc: 1.0000\n",
      "  Val Loss: 0.6004, Val Acc: 0.6000\n",
      "\n",
      "Epoch 94/150\n"
     ]
    },
    {
     "data": {
      "application/vnd.jupyter.widget-view+json": {
       "model_id": "",
       "version_major": 2,
       "version_minor": 0
      },
      "text/plain": [
       "Training:   0%|          | 0/20 [00:00<?, ?it/s]"
      ]
     },
     "metadata": {},
     "output_type": "display_data"
    },
    {
     "data": {
      "application/vnd.jupyter.widget-view+json": {
       "model_id": "",
       "version_major": 2,
       "version_minor": 0
      },
      "text/plain": [
       "Validating:   0%|          | 0/5 [00:00<?, ?it/s]"
      ]
     },
     "metadata": {},
     "output_type": "display_data"
    },
    {
     "name": "stdout",
     "output_type": "stream",
     "text": [
      "Epoch 94 Summary: Duration: 7.63s\n",
      "  Train Loss: 0.0048, Train Acc: 1.0000\n",
      "  Val Loss: 0.5975, Val Acc: 0.7000\n",
      "\n",
      "Epoch 95/150\n"
     ]
    },
    {
     "data": {
      "application/vnd.jupyter.widget-view+json": {
       "model_id": "",
       "version_major": 2,
       "version_minor": 0
      },
      "text/plain": [
       "Training:   0%|          | 0/20 [00:00<?, ?it/s]"
      ]
     },
     "metadata": {},
     "output_type": "display_data"
    },
    {
     "data": {
      "application/vnd.jupyter.widget-view+json": {
       "model_id": "",
       "version_major": 2,
       "version_minor": 0
      },
      "text/plain": [
       "Validating:   0%|          | 0/5 [00:00<?, ?it/s]"
      ]
     },
     "metadata": {},
     "output_type": "display_data"
    },
    {
     "name": "stdout",
     "output_type": "stream",
     "text": [
      "Epoch 95 Summary: Duration: 6.79s\n",
      "  Train Loss: 0.0042, Train Acc: 1.0000\n",
      "  Val Loss: 0.5939, Val Acc: 0.7000\n",
      "\n",
      "Epoch 96/150\n"
     ]
    },
    {
     "data": {
      "application/vnd.jupyter.widget-view+json": {
       "model_id": "",
       "version_major": 2,
       "version_minor": 0
      },
      "text/plain": [
       "Training:   0%|          | 0/20 [00:00<?, ?it/s]"
      ]
     },
     "metadata": {},
     "output_type": "display_data"
    },
    {
     "data": {
      "application/vnd.jupyter.widget-view+json": {
       "model_id": "",
       "version_major": 2,
       "version_minor": 0
      },
      "text/plain": [
       "Validating:   0%|          | 0/5 [00:00<?, ?it/s]"
      ]
     },
     "metadata": {},
     "output_type": "display_data"
    },
    {
     "name": "stdout",
     "output_type": "stream",
     "text": [
      "Epoch 96 Summary: Duration: 7.56s\n",
      "  Train Loss: 0.0035, Train Acc: 1.0000\n",
      "  Val Loss: 0.5965, Val Acc: 0.7000\n",
      "\n",
      "Epoch 97/150\n"
     ]
    },
    {
     "data": {
      "application/vnd.jupyter.widget-view+json": {
       "model_id": "",
       "version_major": 2,
       "version_minor": 0
      },
      "text/plain": [
       "Training:   0%|          | 0/20 [00:00<?, ?it/s]"
      ]
     },
     "metadata": {},
     "output_type": "display_data"
    },
    {
     "data": {
      "application/vnd.jupyter.widget-view+json": {
       "model_id": "",
       "version_major": 2,
       "version_minor": 0
      },
      "text/plain": [
       "Validating:   0%|          | 0/5 [00:00<?, ?it/s]"
      ]
     },
     "metadata": {},
     "output_type": "display_data"
    },
    {
     "name": "stdout",
     "output_type": "stream",
     "text": [
      "Epoch 97 Summary: Duration: 6.92s\n",
      "  Train Loss: 0.0038, Train Acc: 1.0000\n",
      "  Val Loss: 0.6053, Val Acc: 0.7000\n",
      "\n",
      "Epoch 98/150\n"
     ]
    },
    {
     "data": {
      "application/vnd.jupyter.widget-view+json": {
       "model_id": "",
       "version_major": 2,
       "version_minor": 0
      },
      "text/plain": [
       "Training:   0%|          | 0/20 [00:00<?, ?it/s]"
      ]
     },
     "metadata": {},
     "output_type": "display_data"
    },
    {
     "data": {
      "application/vnd.jupyter.widget-view+json": {
       "model_id": "",
       "version_major": 2,
       "version_minor": 0
      },
      "text/plain": [
       "Validating:   0%|          | 0/5 [00:00<?, ?it/s]"
      ]
     },
     "metadata": {},
     "output_type": "display_data"
    },
    {
     "name": "stdout",
     "output_type": "stream",
     "text": [
      "Epoch 98 Summary: Duration: 7.35s\n",
      "  Train Loss: 0.0048, Train Acc: 1.0000\n",
      "  Val Loss: 0.6067, Val Acc: 0.6500\n",
      "\n",
      "Epoch 99/150\n"
     ]
    },
    {
     "data": {
      "application/vnd.jupyter.widget-view+json": {
       "model_id": "",
       "version_major": 2,
       "version_minor": 0
      },
      "text/plain": [
       "Training:   0%|          | 0/20 [00:00<?, ?it/s]"
      ]
     },
     "metadata": {},
     "output_type": "display_data"
    },
    {
     "data": {
      "application/vnd.jupyter.widget-view+json": {
       "model_id": "",
       "version_major": 2,
       "version_minor": 0
      },
      "text/plain": [
       "Validating:   0%|          | 0/5 [00:00<?, ?it/s]"
      ]
     },
     "metadata": {},
     "output_type": "display_data"
    },
    {
     "name": "stdout",
     "output_type": "stream",
     "text": [
      "Epoch 99 Summary: Duration: 5.39s\n",
      "  Train Loss: 0.0031, Train Acc: 1.0000\n",
      "  Val Loss: 0.6367, Val Acc: 0.5000\n",
      "\n",
      "Epoch 100/150\n"
     ]
    },
    {
     "data": {
      "application/vnd.jupyter.widget-view+json": {
       "model_id": "",
       "version_major": 2,
       "version_minor": 0
      },
      "text/plain": [
       "Training:   0%|          | 0/20 [00:00<?, ?it/s]"
      ]
     },
     "metadata": {},
     "output_type": "display_data"
    },
    {
     "data": {
      "application/vnd.jupyter.widget-view+json": {
       "model_id": "",
       "version_major": 2,
       "version_minor": 0
      },
      "text/plain": [
       "Validating:   0%|          | 0/5 [00:00<?, ?it/s]"
      ]
     },
     "metadata": {},
     "output_type": "display_data"
    },
    {
     "name": "stdout",
     "output_type": "stream",
     "text": [
      "Epoch 100 Summary: Duration: 4.03s\n",
      "  Train Loss: 0.0034, Train Acc: 1.0000\n",
      "  Val Loss: 0.5975, Val Acc: 0.7000\n",
      "\n",
      "Epoch 101/150\n"
     ]
    },
    {
     "data": {
      "application/vnd.jupyter.widget-view+json": {
       "model_id": "",
       "version_major": 2,
       "version_minor": 0
      },
      "text/plain": [
       "Training:   0%|          | 0/20 [00:00<?, ?it/s]"
      ]
     },
     "metadata": {},
     "output_type": "display_data"
    },
    {
     "data": {
      "application/vnd.jupyter.widget-view+json": {
       "model_id": "",
       "version_major": 2,
       "version_minor": 0
      },
      "text/plain": [
       "Validating:   0%|          | 0/5 [00:00<?, ?it/s]"
      ]
     },
     "metadata": {},
     "output_type": "display_data"
    },
    {
     "name": "stdout",
     "output_type": "stream",
     "text": [
      "Epoch 101 Summary: Duration: 6.24s\n",
      "  Train Loss: 0.0034, Train Acc: 1.0000\n",
      "  Val Loss: 0.6024, Val Acc: 0.6500\n",
      "\n",
      "Epoch 102/150\n"
     ]
    },
    {
     "data": {
      "application/vnd.jupyter.widget-view+json": {
       "model_id": "",
       "version_major": 2,
       "version_minor": 0
      },
      "text/plain": [
       "Training:   0%|          | 0/20 [00:00<?, ?it/s]"
      ]
     },
     "metadata": {},
     "output_type": "display_data"
    },
    {
     "data": {
      "application/vnd.jupyter.widget-view+json": {
       "model_id": "",
       "version_major": 2,
       "version_minor": 0
      },
      "text/plain": [
       "Validating:   0%|          | 0/5 [00:00<?, ?it/s]"
      ]
     },
     "metadata": {},
     "output_type": "display_data"
    },
    {
     "name": "stdout",
     "output_type": "stream",
     "text": [
      "Epoch 102 Summary: Duration: 6.28s\n",
      "  Train Loss: 0.0034, Train Acc: 1.0000\n",
      "  Val Loss: 0.5996, Val Acc: 0.7000\n",
      "\n",
      "Epoch 103/150\n"
     ]
    },
    {
     "data": {
      "application/vnd.jupyter.widget-view+json": {
       "model_id": "",
       "version_major": 2,
       "version_minor": 0
      },
      "text/plain": [
       "Training:   0%|          | 0/20 [00:00<?, ?it/s]"
      ]
     },
     "metadata": {},
     "output_type": "display_data"
    },
    {
     "data": {
      "application/vnd.jupyter.widget-view+json": {
       "model_id": "",
       "version_major": 2,
       "version_minor": 0
      },
      "text/plain": [
       "Validating:   0%|          | 0/5 [00:00<?, ?it/s]"
      ]
     },
     "metadata": {},
     "output_type": "display_data"
    },
    {
     "name": "stdout",
     "output_type": "stream",
     "text": [
      "Epoch 103 Summary: Duration: 4.18s\n",
      "  Train Loss: 0.0024, Train Acc: 1.0000\n",
      "  Val Loss: 0.6181, Val Acc: 0.5000\n",
      "\n",
      "Epoch 104/150\n"
     ]
    },
    {
     "data": {
      "application/vnd.jupyter.widget-view+json": {
       "model_id": "",
       "version_major": 2,
       "version_minor": 0
      },
      "text/plain": [
       "Training:   0%|          | 0/20 [00:00<?, ?it/s]"
      ]
     },
     "metadata": {},
     "output_type": "display_data"
    },
    {
     "data": {
      "application/vnd.jupyter.widget-view+json": {
       "model_id": "",
       "version_major": 2,
       "version_minor": 0
      },
      "text/plain": [
       "Validating:   0%|          | 0/5 [00:00<?, ?it/s]"
      ]
     },
     "metadata": {},
     "output_type": "display_data"
    },
    {
     "name": "stdout",
     "output_type": "stream",
     "text": [
      "Epoch 104 Summary: Duration: 6.22s\n",
      "  Train Loss: 0.0029, Train Acc: 1.0000\n",
      "  Val Loss: 0.6095, Val Acc: 0.6000\n",
      "\n",
      "Epoch 105/150\n"
     ]
    },
    {
     "data": {
      "application/vnd.jupyter.widget-view+json": {
       "model_id": "",
       "version_major": 2,
       "version_minor": 0
      },
      "text/plain": [
       "Training:   0%|          | 0/20 [00:00<?, ?it/s]"
      ]
     },
     "metadata": {},
     "output_type": "display_data"
    },
    {
     "data": {
      "application/vnd.jupyter.widget-view+json": {
       "model_id": "",
       "version_major": 2,
       "version_minor": 0
      },
      "text/plain": [
       "Validating:   0%|          | 0/5 [00:00<?, ?it/s]"
      ]
     },
     "metadata": {},
     "output_type": "display_data"
    },
    {
     "name": "stdout",
     "output_type": "stream",
     "text": [
      "Epoch 105 Summary: Duration: 5.30s\n",
      "  Train Loss: 0.0060, Train Acc: 1.0000\n",
      "  Val Loss: 0.6077, Val Acc: 0.6500\n",
      "\n",
      "Epoch 106/150\n"
     ]
    },
    {
     "data": {
      "application/vnd.jupyter.widget-view+json": {
       "model_id": "",
       "version_major": 2,
       "version_minor": 0
      },
      "text/plain": [
       "Training:   0%|          | 0/20 [00:00<?, ?it/s]"
      ]
     },
     "metadata": {},
     "output_type": "display_data"
    },
    {
     "data": {
      "application/vnd.jupyter.widget-view+json": {
       "model_id": "",
       "version_major": 2,
       "version_minor": 0
      },
      "text/plain": [
       "Validating:   0%|          | 0/5 [00:00<?, ?it/s]"
      ]
     },
     "metadata": {},
     "output_type": "display_data"
    },
    {
     "name": "stdout",
     "output_type": "stream",
     "text": [
      "Epoch 106 Summary: Duration: 4.36s\n",
      "  Train Loss: 0.0034, Train Acc: 1.0000\n",
      "  Val Loss: 0.6064, Val Acc: 0.7000\n",
      "\n",
      "Epoch 107/150\n"
     ]
    },
    {
     "data": {
      "application/vnd.jupyter.widget-view+json": {
       "model_id": "",
       "version_major": 2,
       "version_minor": 0
      },
      "text/plain": [
       "Training:   0%|          | 0/20 [00:00<?, ?it/s]"
      ]
     },
     "metadata": {},
     "output_type": "display_data"
    },
    {
     "data": {
      "application/vnd.jupyter.widget-view+json": {
       "model_id": "",
       "version_major": 2,
       "version_minor": 0
      },
      "text/plain": [
       "Validating:   0%|          | 0/5 [00:00<?, ?it/s]"
      ]
     },
     "metadata": {},
     "output_type": "display_data"
    },
    {
     "name": "stdout",
     "output_type": "stream",
     "text": [
      "Epoch 107 Summary: Duration: 4.26s\n",
      "  Train Loss: 0.0031, Train Acc: 1.0000\n",
      "  Val Loss: 0.6203, Val Acc: 0.5000\n",
      "\n",
      "Epoch 108/150\n"
     ]
    },
    {
     "data": {
      "application/vnd.jupyter.widget-view+json": {
       "model_id": "",
       "version_major": 2,
       "version_minor": 0
      },
      "text/plain": [
       "Training:   0%|          | 0/20 [00:00<?, ?it/s]"
      ]
     },
     "metadata": {},
     "output_type": "display_data"
    },
    {
     "data": {
      "application/vnd.jupyter.widget-view+json": {
       "model_id": "",
       "version_major": 2,
       "version_minor": 0
      },
      "text/plain": [
       "Validating:   0%|          | 0/5 [00:00<?, ?it/s]"
      ]
     },
     "metadata": {},
     "output_type": "display_data"
    },
    {
     "name": "stdout",
     "output_type": "stream",
     "text": [
      "Epoch 108 Summary: Duration: 4.11s\n",
      "  Train Loss: 0.0043, Train Acc: 1.0000\n",
      "  Val Loss: 0.6148, Val Acc: 0.6000\n",
      "\n",
      "Epoch 109/150\n"
     ]
    },
    {
     "data": {
      "application/vnd.jupyter.widget-view+json": {
       "model_id": "",
       "version_major": 2,
       "version_minor": 0
      },
      "text/plain": [
       "Training:   0%|          | 0/20 [00:00<?, ?it/s]"
      ]
     },
     "metadata": {},
     "output_type": "display_data"
    },
    {
     "data": {
      "application/vnd.jupyter.widget-view+json": {
       "model_id": "",
       "version_major": 2,
       "version_minor": 0
      },
      "text/plain": [
       "Validating:   0%|          | 0/5 [00:00<?, ?it/s]"
      ]
     },
     "metadata": {},
     "output_type": "display_data"
    },
    {
     "name": "stdout",
     "output_type": "stream",
     "text": [
      "Epoch 109 Summary: Duration: 3.94s\n",
      "  Train Loss: 0.0029, Train Acc: 1.0000\n",
      "  Val Loss: 0.6013, Val Acc: 0.6500\n",
      "\n",
      "Epoch 110/150\n"
     ]
    },
    {
     "data": {
      "application/vnd.jupyter.widget-view+json": {
       "model_id": "",
       "version_major": 2,
       "version_minor": 0
      },
      "text/plain": [
       "Training:   0%|          | 0/20 [00:00<?, ?it/s]"
      ]
     },
     "metadata": {},
     "output_type": "display_data"
    },
    {
     "data": {
      "application/vnd.jupyter.widget-view+json": {
       "model_id": "",
       "version_major": 2,
       "version_minor": 0
      },
      "text/plain": [
       "Validating:   0%|          | 0/5 [00:00<?, ?it/s]"
      ]
     },
     "metadata": {},
     "output_type": "display_data"
    },
    {
     "name": "stdout",
     "output_type": "stream",
     "text": [
      "Epoch 110 Summary: Duration: 3.87s\n",
      "  Train Loss: 0.0021, Train Acc: 1.0000\n",
      "  Val Loss: 0.5999, Val Acc: 0.6000\n",
      "\n",
      "Epoch 111/150\n"
     ]
    },
    {
     "data": {
      "application/vnd.jupyter.widget-view+json": {
       "model_id": "",
       "version_major": 2,
       "version_minor": 0
      },
      "text/plain": [
       "Training:   0%|          | 0/20 [00:00<?, ?it/s]"
      ]
     },
     "metadata": {},
     "output_type": "display_data"
    },
    {
     "data": {
      "application/vnd.jupyter.widget-view+json": {
       "model_id": "",
       "version_major": 2,
       "version_minor": 0
      },
      "text/plain": [
       "Validating:   0%|          | 0/5 [00:00<?, ?it/s]"
      ]
     },
     "metadata": {},
     "output_type": "display_data"
    },
    {
     "name": "stdout",
     "output_type": "stream",
     "text": [
      "Epoch 111 Summary: Duration: 4.15s\n",
      "  Train Loss: 0.0025, Train Acc: 1.0000\n",
      "  Val Loss: 0.5990, Val Acc: 0.7000\n",
      "\n",
      "Epoch 112/150\n"
     ]
    },
    {
     "data": {
      "application/vnd.jupyter.widget-view+json": {
       "model_id": "",
       "version_major": 2,
       "version_minor": 0
      },
      "text/plain": [
       "Training:   0%|          | 0/20 [00:00<?, ?it/s]"
      ]
     },
     "metadata": {},
     "output_type": "display_data"
    },
    {
     "data": {
      "application/vnd.jupyter.widget-view+json": {
       "model_id": "",
       "version_major": 2,
       "version_minor": 0
      },
      "text/plain": [
       "Validating:   0%|          | 0/5 [00:00<?, ?it/s]"
      ]
     },
     "metadata": {},
     "output_type": "display_data"
    },
    {
     "name": "stdout",
     "output_type": "stream",
     "text": [
      "Epoch 112 Summary: Duration: 3.91s\n",
      "  Train Loss: 0.0032, Train Acc: 1.0000\n",
      "  Val Loss: 0.5991, Val Acc: 0.7000\n",
      "\n",
      "Epoch 113/150\n"
     ]
    },
    {
     "data": {
      "application/vnd.jupyter.widget-view+json": {
       "model_id": "",
       "version_major": 2,
       "version_minor": 0
      },
      "text/plain": [
       "Training:   0%|          | 0/20 [00:00<?, ?it/s]"
      ]
     },
     "metadata": {},
     "output_type": "display_data"
    },
    {
     "data": {
      "application/vnd.jupyter.widget-view+json": {
       "model_id": "",
       "version_major": 2,
       "version_minor": 0
      },
      "text/plain": [
       "Validating:   0%|          | 0/5 [00:00<?, ?it/s]"
      ]
     },
     "metadata": {},
     "output_type": "display_data"
    },
    {
     "name": "stdout",
     "output_type": "stream",
     "text": [
      "Epoch 113 Summary: Duration: 3.90s\n",
      "  Train Loss: 0.0029, Train Acc: 1.0000\n",
      "  Val Loss: 0.5988, Val Acc: 0.6000\n",
      "\n",
      "Epoch 114/150\n"
     ]
    },
    {
     "data": {
      "application/vnd.jupyter.widget-view+json": {
       "model_id": "",
       "version_major": 2,
       "version_minor": 0
      },
      "text/plain": [
       "Training:   0%|          | 0/20 [00:00<?, ?it/s]"
      ]
     },
     "metadata": {},
     "output_type": "display_data"
    },
    {
     "data": {
      "application/vnd.jupyter.widget-view+json": {
       "model_id": "",
       "version_major": 2,
       "version_minor": 0
      },
      "text/plain": [
       "Validating:   0%|          | 0/5 [00:00<?, ?it/s]"
      ]
     },
     "metadata": {},
     "output_type": "display_data"
    },
    {
     "name": "stdout",
     "output_type": "stream",
     "text": [
      "Epoch 114 Summary: Duration: 4.00s\n",
      "  Train Loss: 0.0024, Train Acc: 1.0000\n",
      "  Val Loss: 0.5969, Val Acc: 0.7000\n",
      "\n",
      "Epoch 115/150\n"
     ]
    },
    {
     "data": {
      "application/vnd.jupyter.widget-view+json": {
       "model_id": "",
       "version_major": 2,
       "version_minor": 0
      },
      "text/plain": [
       "Training:   0%|          | 0/20 [00:00<?, ?it/s]"
      ]
     },
     "metadata": {},
     "output_type": "display_data"
    },
    {
     "data": {
      "application/vnd.jupyter.widget-view+json": {
       "model_id": "",
       "version_major": 2,
       "version_minor": 0
      },
      "text/plain": [
       "Validating:   0%|          | 0/5 [00:00<?, ?it/s]"
      ]
     },
     "metadata": {},
     "output_type": "display_data"
    },
    {
     "name": "stdout",
     "output_type": "stream",
     "text": [
      "Epoch 115 Summary: Duration: 4.05s\n",
      "  Train Loss: 0.0032, Train Acc: 1.0000\n",
      "  Val Loss: 0.5977, Val Acc: 0.7000\n",
      "\n",
      "Epoch 116/150\n"
     ]
    },
    {
     "data": {
      "application/vnd.jupyter.widget-view+json": {
       "model_id": "",
       "version_major": 2,
       "version_minor": 0
      },
      "text/plain": [
       "Training:   0%|          | 0/20 [00:00<?, ?it/s]"
      ]
     },
     "metadata": {},
     "output_type": "display_data"
    },
    {
     "data": {
      "application/vnd.jupyter.widget-view+json": {
       "model_id": "",
       "version_major": 2,
       "version_minor": 0
      },
      "text/plain": [
       "Validating:   0%|          | 0/5 [00:00<?, ?it/s]"
      ]
     },
     "metadata": {},
     "output_type": "display_data"
    },
    {
     "name": "stdout",
     "output_type": "stream",
     "text": [
      "Epoch 116 Summary: Duration: 3.99s\n",
      "  Train Loss: 0.0026, Train Acc: 1.0000\n",
      "  Val Loss: 0.6064, Val Acc: 0.7000\n",
      "\n",
      "Epoch 117/150\n"
     ]
    },
    {
     "data": {
      "application/vnd.jupyter.widget-view+json": {
       "model_id": "",
       "version_major": 2,
       "version_minor": 0
      },
      "text/plain": [
       "Training:   0%|          | 0/20 [00:00<?, ?it/s]"
      ]
     },
     "metadata": {},
     "output_type": "display_data"
    },
    {
     "data": {
      "application/vnd.jupyter.widget-view+json": {
       "model_id": "",
       "version_major": 2,
       "version_minor": 0
      },
      "text/plain": [
       "Validating:   0%|          | 0/5 [00:00<?, ?it/s]"
      ]
     },
     "metadata": {},
     "output_type": "display_data"
    },
    {
     "name": "stdout",
     "output_type": "stream",
     "text": [
      "Epoch 117 Summary: Duration: 4.16s\n",
      "  Train Loss: 0.0017, Train Acc: 1.0000\n",
      "  Val Loss: 0.5986, Val Acc: 0.7000\n",
      "\n",
      "Epoch 118/150\n"
     ]
    },
    {
     "data": {
      "application/vnd.jupyter.widget-view+json": {
       "model_id": "",
       "version_major": 2,
       "version_minor": 0
      },
      "text/plain": [
       "Training:   0%|          | 0/20 [00:00<?, ?it/s]"
      ]
     },
     "metadata": {},
     "output_type": "display_data"
    },
    {
     "data": {
      "application/vnd.jupyter.widget-view+json": {
       "model_id": "",
       "version_major": 2,
       "version_minor": 0
      },
      "text/plain": [
       "Validating:   0%|          | 0/5 [00:00<?, ?it/s]"
      ]
     },
     "metadata": {},
     "output_type": "display_data"
    },
    {
     "name": "stdout",
     "output_type": "stream",
     "text": [
      "Epoch 118 Summary: Duration: 3.97s\n",
      "  Train Loss: 0.0023, Train Acc: 1.0000\n",
      "  Val Loss: 0.5989, Val Acc: 0.6000\n",
      "\n",
      "Epoch 119/150\n"
     ]
    },
    {
     "data": {
      "application/vnd.jupyter.widget-view+json": {
       "model_id": "",
       "version_major": 2,
       "version_minor": 0
      },
      "text/plain": [
       "Training:   0%|          | 0/20 [00:00<?, ?it/s]"
      ]
     },
     "metadata": {},
     "output_type": "display_data"
    },
    {
     "data": {
      "application/vnd.jupyter.widget-view+json": {
       "model_id": "",
       "version_major": 2,
       "version_minor": 0
      },
      "text/plain": [
       "Validating:   0%|          | 0/5 [00:00<?, ?it/s]"
      ]
     },
     "metadata": {},
     "output_type": "display_data"
    },
    {
     "name": "stdout",
     "output_type": "stream",
     "text": [
      "Epoch 119 Summary: Duration: 4.14s\n",
      "  Train Loss: 0.0022, Train Acc: 1.0000\n",
      "  Val Loss: 0.6042, Val Acc: 0.7000\n",
      "\n",
      "Epoch 120/150\n"
     ]
    },
    {
     "data": {
      "application/vnd.jupyter.widget-view+json": {
       "model_id": "",
       "version_major": 2,
       "version_minor": 0
      },
      "text/plain": [
       "Training:   0%|          | 0/20 [00:00<?, ?it/s]"
      ]
     },
     "metadata": {},
     "output_type": "display_data"
    },
    {
     "data": {
      "application/vnd.jupyter.widget-view+json": {
       "model_id": "",
       "version_major": 2,
       "version_minor": 0
      },
      "text/plain": [
       "Validating:   0%|          | 0/5 [00:00<?, ?it/s]"
      ]
     },
     "metadata": {},
     "output_type": "display_data"
    },
    {
     "name": "stdout",
     "output_type": "stream",
     "text": [
      "Epoch 120 Summary: Duration: 4.02s\n",
      "  Train Loss: 0.0026, Train Acc: 1.0000\n",
      "  Val Loss: 0.6115, Val Acc: 0.5500\n",
      "\n",
      "Epoch 121/150\n"
     ]
    },
    {
     "data": {
      "application/vnd.jupyter.widget-view+json": {
       "model_id": "",
       "version_major": 2,
       "version_minor": 0
      },
      "text/plain": [
       "Training:   0%|          | 0/20 [00:00<?, ?it/s]"
      ]
     },
     "metadata": {},
     "output_type": "display_data"
    },
    {
     "data": {
      "application/vnd.jupyter.widget-view+json": {
       "model_id": "",
       "version_major": 2,
       "version_minor": 0
      },
      "text/plain": [
       "Validating:   0%|          | 0/5 [00:00<?, ?it/s]"
      ]
     },
     "metadata": {},
     "output_type": "display_data"
    },
    {
     "name": "stdout",
     "output_type": "stream",
     "text": [
      "Epoch 121 Summary: Duration: 3.98s\n",
      "  Train Loss: 0.0020, Train Acc: 1.0000\n",
      "  Val Loss: 0.6019, Val Acc: 0.7000\n",
      "\n",
      "Epoch 122/150\n"
     ]
    },
    {
     "data": {
      "application/vnd.jupyter.widget-view+json": {
       "model_id": "",
       "version_major": 2,
       "version_minor": 0
      },
      "text/plain": [
       "Training:   0%|          | 0/20 [00:00<?, ?it/s]"
      ]
     },
     "metadata": {},
     "output_type": "display_data"
    },
    {
     "data": {
      "application/vnd.jupyter.widget-view+json": {
       "model_id": "",
       "version_major": 2,
       "version_minor": 0
      },
      "text/plain": [
       "Validating:   0%|          | 0/5 [00:00<?, ?it/s]"
      ]
     },
     "metadata": {},
     "output_type": "display_data"
    },
    {
     "name": "stdout",
     "output_type": "stream",
     "text": [
      "Epoch 122 Summary: Duration: 4.12s\n",
      "  Train Loss: 0.0021, Train Acc: 1.0000\n",
      "  Val Loss: 0.5929, Val Acc: 0.7000\n",
      "  Best model saved to ./preprocessed_dsb_50_each/patient_level_model_50_each_best.pth\n",
      "\n",
      "Epoch 123/150\n"
     ]
    },
    {
     "data": {
      "application/vnd.jupyter.widget-view+json": {
       "model_id": "",
       "version_major": 2,
       "version_minor": 0
      },
      "text/plain": [
       "Training:   0%|          | 0/20 [00:00<?, ?it/s]"
      ]
     },
     "metadata": {},
     "output_type": "display_data"
    },
    {
     "data": {
      "application/vnd.jupyter.widget-view+json": {
       "model_id": "",
       "version_major": 2,
       "version_minor": 0
      },
      "text/plain": [
       "Validating:   0%|          | 0/5 [00:00<?, ?it/s]"
      ]
     },
     "metadata": {},
     "output_type": "display_data"
    },
    {
     "name": "stdout",
     "output_type": "stream",
     "text": [
      "Epoch 123 Summary: Duration: 4.19s\n",
      "  Train Loss: 0.0024, Train Acc: 1.0000\n",
      "  Val Loss: 0.6082, Val Acc: 0.5500\n",
      "\n",
      "Epoch 124/150\n"
     ]
    },
    {
     "data": {
      "application/vnd.jupyter.widget-view+json": {
       "model_id": "",
       "version_major": 2,
       "version_minor": 0
      },
      "text/plain": [
       "Training:   0%|          | 0/20 [00:00<?, ?it/s]"
      ]
     },
     "metadata": {},
     "output_type": "display_data"
    },
    {
     "data": {
      "application/vnd.jupyter.widget-view+json": {
       "model_id": "",
       "version_major": 2,
       "version_minor": 0
      },
      "text/plain": [
       "Validating:   0%|          | 0/5 [00:00<?, ?it/s]"
      ]
     },
     "metadata": {},
     "output_type": "display_data"
    },
    {
     "name": "stdout",
     "output_type": "stream",
     "text": [
      "Epoch 124 Summary: Duration: 4.71s\n",
      "  Train Loss: 0.0018, Train Acc: 1.0000\n",
      "  Val Loss: 0.5954, Val Acc: 0.6500\n",
      "\n",
      "Epoch 125/150\n"
     ]
    },
    {
     "data": {
      "application/vnd.jupyter.widget-view+json": {
       "model_id": "",
       "version_major": 2,
       "version_minor": 0
      },
      "text/plain": [
       "Training:   0%|          | 0/20 [00:00<?, ?it/s]"
      ]
     },
     "metadata": {},
     "output_type": "display_data"
    },
    {
     "data": {
      "application/vnd.jupyter.widget-view+json": {
       "model_id": "",
       "version_major": 2,
       "version_minor": 0
      },
      "text/plain": [
       "Validating:   0%|          | 0/5 [00:00<?, ?it/s]"
      ]
     },
     "metadata": {},
     "output_type": "display_data"
    },
    {
     "name": "stdout",
     "output_type": "stream",
     "text": [
      "Epoch 125 Summary: Duration: 4.42s\n",
      "  Train Loss: 0.0019, Train Acc: 1.0000\n",
      "  Val Loss: 0.5967, Val Acc: 0.6000\n",
      "\n",
      "Epoch 126/150\n"
     ]
    },
    {
     "data": {
      "application/vnd.jupyter.widget-view+json": {
       "model_id": "",
       "version_major": 2,
       "version_minor": 0
      },
      "text/plain": [
       "Training:   0%|          | 0/20 [00:00<?, ?it/s]"
      ]
     },
     "metadata": {},
     "output_type": "display_data"
    },
    {
     "data": {
      "application/vnd.jupyter.widget-view+json": {
       "model_id": "",
       "version_major": 2,
       "version_minor": 0
      },
      "text/plain": [
       "Validating:   0%|          | 0/5 [00:00<?, ?it/s]"
      ]
     },
     "metadata": {},
     "output_type": "display_data"
    },
    {
     "name": "stdout",
     "output_type": "stream",
     "text": [
      "Epoch 126 Summary: Duration: 4.85s\n",
      "  Train Loss: 0.0027, Train Acc: 1.0000\n",
      "  Val Loss: 0.6082, Val Acc: 0.5500\n",
      "\n",
      "Epoch 127/150\n"
     ]
    },
    {
     "data": {
      "application/vnd.jupyter.widget-view+json": {
       "model_id": "",
       "version_major": 2,
       "version_minor": 0
      },
      "text/plain": [
       "Training:   0%|          | 0/20 [00:00<?, ?it/s]"
      ]
     },
     "metadata": {},
     "output_type": "display_data"
    },
    {
     "data": {
      "application/vnd.jupyter.widget-view+json": {
       "model_id": "",
       "version_major": 2,
       "version_minor": 0
      },
      "text/plain": [
       "Validating:   0%|          | 0/5 [00:00<?, ?it/s]"
      ]
     },
     "metadata": {},
     "output_type": "display_data"
    },
    {
     "name": "stdout",
     "output_type": "stream",
     "text": [
      "Epoch 127 Summary: Duration: 4.85s\n",
      "  Train Loss: 0.0018, Train Acc: 1.0000\n",
      "  Val Loss: 0.6004, Val Acc: 0.7000\n",
      "\n",
      "Epoch 128/150\n"
     ]
    },
    {
     "data": {
      "application/vnd.jupyter.widget-view+json": {
       "model_id": "",
       "version_major": 2,
       "version_minor": 0
      },
      "text/plain": [
       "Training:   0%|          | 0/20 [00:00<?, ?it/s]"
      ]
     },
     "metadata": {},
     "output_type": "display_data"
    },
    {
     "data": {
      "application/vnd.jupyter.widget-view+json": {
       "model_id": "",
       "version_major": 2,
       "version_minor": 0
      },
      "text/plain": [
       "Validating:   0%|          | 0/5 [00:00<?, ?it/s]"
      ]
     },
     "metadata": {},
     "output_type": "display_data"
    },
    {
     "name": "stdout",
     "output_type": "stream",
     "text": [
      "Epoch 128 Summary: Duration: 4.23s\n",
      "  Train Loss: 0.0012, Train Acc: 1.0000\n",
      "  Val Loss: 0.5931, Val Acc: 0.7000\n",
      "\n",
      "Epoch 129/150\n"
     ]
    },
    {
     "data": {
      "application/vnd.jupyter.widget-view+json": {
       "model_id": "",
       "version_major": 2,
       "version_minor": 0
      },
      "text/plain": [
       "Training:   0%|          | 0/20 [00:00<?, ?it/s]"
      ]
     },
     "metadata": {},
     "output_type": "display_data"
    },
    {
     "data": {
      "application/vnd.jupyter.widget-view+json": {
       "model_id": "",
       "version_major": 2,
       "version_minor": 0
      },
      "text/plain": [
       "Validating:   0%|          | 0/5 [00:00<?, ?it/s]"
      ]
     },
     "metadata": {},
     "output_type": "display_data"
    },
    {
     "name": "stdout",
     "output_type": "stream",
     "text": [
      "Epoch 129 Summary: Duration: 4.20s\n",
      "  Train Loss: 0.0024, Train Acc: 1.0000\n",
      "  Val Loss: 0.6025, Val Acc: 0.6000\n",
      "\n",
      "Epoch 130/150\n"
     ]
    },
    {
     "data": {
      "application/vnd.jupyter.widget-view+json": {
       "model_id": "",
       "version_major": 2,
       "version_minor": 0
      },
      "text/plain": [
       "Training:   0%|          | 0/20 [00:00<?, ?it/s]"
      ]
     },
     "metadata": {},
     "output_type": "display_data"
    },
    {
     "data": {
      "application/vnd.jupyter.widget-view+json": {
       "model_id": "",
       "version_major": 2,
       "version_minor": 0
      },
      "text/plain": [
       "Validating:   0%|          | 0/5 [00:00<?, ?it/s]"
      ]
     },
     "metadata": {},
     "output_type": "display_data"
    },
    {
     "name": "stdout",
     "output_type": "stream",
     "text": [
      "Epoch 130 Summary: Duration: 4.27s\n",
      "  Train Loss: 0.0029, Train Acc: 1.0000\n",
      "  Val Loss: 0.5945, Val Acc: 0.6500\n",
      "\n",
      "Epoch 131/150\n"
     ]
    },
    {
     "data": {
      "application/vnd.jupyter.widget-view+json": {
       "model_id": "",
       "version_major": 2,
       "version_minor": 0
      },
      "text/plain": [
       "Training:   0%|          | 0/20 [00:00<?, ?it/s]"
      ]
     },
     "metadata": {},
     "output_type": "display_data"
    },
    {
     "data": {
      "application/vnd.jupyter.widget-view+json": {
       "model_id": "",
       "version_major": 2,
       "version_minor": 0
      },
      "text/plain": [
       "Validating:   0%|          | 0/5 [00:00<?, ?it/s]"
      ]
     },
     "metadata": {},
     "output_type": "display_data"
    },
    {
     "name": "stdout",
     "output_type": "stream",
     "text": [
      "Epoch 131 Summary: Duration: 4.10s\n",
      "  Train Loss: 0.0017, Train Acc: 1.0000\n",
      "  Val Loss: 0.5934, Val Acc: 0.7000\n",
      "\n",
      "Epoch 132/150\n"
     ]
    },
    {
     "data": {
      "application/vnd.jupyter.widget-view+json": {
       "model_id": "",
       "version_major": 2,
       "version_minor": 0
      },
      "text/plain": [
       "Training:   0%|          | 0/20 [00:00<?, ?it/s]"
      ]
     },
     "metadata": {},
     "output_type": "display_data"
    },
    {
     "data": {
      "application/vnd.jupyter.widget-view+json": {
       "model_id": "",
       "version_major": 2,
       "version_minor": 0
      },
      "text/plain": [
       "Validating:   0%|          | 0/5 [00:00<?, ?it/s]"
      ]
     },
     "metadata": {},
     "output_type": "display_data"
    },
    {
     "name": "stdout",
     "output_type": "stream",
     "text": [
      "Epoch 132 Summary: Duration: 3.96s\n",
      "  Train Loss: 0.0018, Train Acc: 1.0000\n",
      "  Val Loss: 0.6055, Val Acc: 0.7000\n",
      "\n",
      "Epoch 133/150\n"
     ]
    },
    {
     "data": {
      "application/vnd.jupyter.widget-view+json": {
       "model_id": "",
       "version_major": 2,
       "version_minor": 0
      },
      "text/plain": [
       "Training:   0%|          | 0/20 [00:00<?, ?it/s]"
      ]
     },
     "metadata": {},
     "output_type": "display_data"
    },
    {
     "data": {
      "application/vnd.jupyter.widget-view+json": {
       "model_id": "",
       "version_major": 2,
       "version_minor": 0
      },
      "text/plain": [
       "Validating:   0%|          | 0/5 [00:00<?, ?it/s]"
      ]
     },
     "metadata": {},
     "output_type": "display_data"
    },
    {
     "name": "stdout",
     "output_type": "stream",
     "text": [
      "Epoch 133 Summary: Duration: 3.91s\n",
      "  Train Loss: 0.0012, Train Acc: 1.0000\n",
      "  Val Loss: 0.5957, Val Acc: 0.6500\n",
      "\n",
      "Epoch 134/150\n"
     ]
    },
    {
     "data": {
      "application/vnd.jupyter.widget-view+json": {
       "model_id": "",
       "version_major": 2,
       "version_minor": 0
      },
      "text/plain": [
       "Training:   0%|          | 0/20 [00:00<?, ?it/s]"
      ]
     },
     "metadata": {},
     "output_type": "display_data"
    },
    {
     "data": {
      "application/vnd.jupyter.widget-view+json": {
       "model_id": "",
       "version_major": 2,
       "version_minor": 0
      },
      "text/plain": [
       "Validating:   0%|          | 0/5 [00:00<?, ?it/s]"
      ]
     },
     "metadata": {},
     "output_type": "display_data"
    },
    {
     "name": "stdout",
     "output_type": "stream",
     "text": [
      "Epoch 134 Summary: Duration: 4.14s\n",
      "  Train Loss: 0.0016, Train Acc: 1.0000\n",
      "  Val Loss: 0.5960, Val Acc: 0.6500\n",
      "\n",
      "Epoch 135/150\n"
     ]
    },
    {
     "data": {
      "application/vnd.jupyter.widget-view+json": {
       "model_id": "",
       "version_major": 2,
       "version_minor": 0
      },
      "text/plain": [
       "Training:   0%|          | 0/20 [00:00<?, ?it/s]"
      ]
     },
     "metadata": {},
     "output_type": "display_data"
    },
    {
     "data": {
      "application/vnd.jupyter.widget-view+json": {
       "model_id": "",
       "version_major": 2,
       "version_minor": 0
      },
      "text/plain": [
       "Validating:   0%|          | 0/5 [00:00<?, ?it/s]"
      ]
     },
     "metadata": {},
     "output_type": "display_data"
    },
    {
     "name": "stdout",
     "output_type": "stream",
     "text": [
      "Epoch 135 Summary: Duration: 3.95s\n",
      "  Train Loss: 0.0018, Train Acc: 1.0000\n",
      "  Val Loss: 0.6177, Val Acc: 0.7500\n",
      "\n",
      "Epoch 136/150\n"
     ]
    },
    {
     "data": {
      "application/vnd.jupyter.widget-view+json": {
       "model_id": "",
       "version_major": 2,
       "version_minor": 0
      },
      "text/plain": [
       "Training:   0%|          | 0/20 [00:00<?, ?it/s]"
      ]
     },
     "metadata": {},
     "output_type": "display_data"
    },
    {
     "data": {
      "application/vnd.jupyter.widget-view+json": {
       "model_id": "",
       "version_major": 2,
       "version_minor": 0
      },
      "text/plain": [
       "Validating:   0%|          | 0/5 [00:00<?, ?it/s]"
      ]
     },
     "metadata": {},
     "output_type": "display_data"
    },
    {
     "name": "stdout",
     "output_type": "stream",
     "text": [
      "Epoch 136 Summary: Duration: 3.88s\n",
      "  Train Loss: 0.0016, Train Acc: 1.0000\n",
      "  Val Loss: 0.5864, Val Acc: 0.7000\n",
      "  Best model saved to ./preprocessed_dsb_50_each/patient_level_model_50_each_best.pth\n",
      "\n",
      "Epoch 137/150\n"
     ]
    },
    {
     "data": {
      "application/vnd.jupyter.widget-view+json": {
       "model_id": "",
       "version_major": 2,
       "version_minor": 0
      },
      "text/plain": [
       "Training:   0%|          | 0/20 [00:00<?, ?it/s]"
      ]
     },
     "metadata": {},
     "output_type": "display_data"
    },
    {
     "data": {
      "application/vnd.jupyter.widget-view+json": {
       "model_id": "",
       "version_major": 2,
       "version_minor": 0
      },
      "text/plain": [
       "Validating:   0%|          | 0/5 [00:00<?, ?it/s]"
      ]
     },
     "metadata": {},
     "output_type": "display_data"
    },
    {
     "name": "stdout",
     "output_type": "stream",
     "text": [
      "Epoch 137 Summary: Duration: 3.96s\n",
      "  Train Loss: 0.0014, Train Acc: 1.0000\n",
      "  Val Loss: 0.5959, Val Acc: 0.6500\n",
      "\n",
      "Epoch 138/150\n"
     ]
    },
    {
     "data": {
      "application/vnd.jupyter.widget-view+json": {
       "model_id": "",
       "version_major": 2,
       "version_minor": 0
      },
      "text/plain": [
       "Training:   0%|          | 0/20 [00:00<?, ?it/s]"
      ]
     },
     "metadata": {},
     "output_type": "display_data"
    },
    {
     "data": {
      "application/vnd.jupyter.widget-view+json": {
       "model_id": "",
       "version_major": 2,
       "version_minor": 0
      },
      "text/plain": [
       "Validating:   0%|          | 0/5 [00:00<?, ?it/s]"
      ]
     },
     "metadata": {},
     "output_type": "display_data"
    },
    {
     "name": "stdout",
     "output_type": "stream",
     "text": [
      "Epoch 138 Summary: Duration: 4.01s\n",
      "  Train Loss: 0.0020, Train Acc: 1.0000\n",
      "  Val Loss: 0.6230, Val Acc: 0.5000\n",
      "\n",
      "Epoch 139/150\n"
     ]
    },
    {
     "data": {
      "application/vnd.jupyter.widget-view+json": {
       "model_id": "",
       "version_major": 2,
       "version_minor": 0
      },
      "text/plain": [
       "Training:   0%|          | 0/20 [00:00<?, ?it/s]"
      ]
     },
     "metadata": {},
     "output_type": "display_data"
    },
    {
     "data": {
      "application/vnd.jupyter.widget-view+json": {
       "model_id": "",
       "version_major": 2,
       "version_minor": 0
      },
      "text/plain": [
       "Validating:   0%|          | 0/5 [00:00<?, ?it/s]"
      ]
     },
     "metadata": {},
     "output_type": "display_data"
    },
    {
     "name": "stdout",
     "output_type": "stream",
     "text": [
      "Epoch 139 Summary: Duration: 4.02s\n",
      "  Train Loss: 0.0019, Train Acc: 1.0000\n",
      "  Val Loss: 0.5942, Val Acc: 0.7000\n",
      "\n",
      "Epoch 140/150\n"
     ]
    },
    {
     "data": {
      "application/vnd.jupyter.widget-view+json": {
       "model_id": "",
       "version_major": 2,
       "version_minor": 0
      },
      "text/plain": [
       "Training:   0%|          | 0/20 [00:00<?, ?it/s]"
      ]
     },
     "metadata": {},
     "output_type": "display_data"
    },
    {
     "data": {
      "application/vnd.jupyter.widget-view+json": {
       "model_id": "",
       "version_major": 2,
       "version_minor": 0
      },
      "text/plain": [
       "Validating:   0%|          | 0/5 [00:00<?, ?it/s]"
      ]
     },
     "metadata": {},
     "output_type": "display_data"
    },
    {
     "name": "stdout",
     "output_type": "stream",
     "text": [
      "Epoch 140 Summary: Duration: 3.88s\n",
      "  Train Loss: 0.0018, Train Acc: 1.0000\n",
      "  Val Loss: 0.5978, Val Acc: 0.7000\n",
      "\n",
      "Epoch 141/150\n"
     ]
    },
    {
     "data": {
      "application/vnd.jupyter.widget-view+json": {
       "model_id": "",
       "version_major": 2,
       "version_minor": 0
      },
      "text/plain": [
       "Training:   0%|          | 0/20 [00:00<?, ?it/s]"
      ]
     },
     "metadata": {},
     "output_type": "display_data"
    },
    {
     "data": {
      "application/vnd.jupyter.widget-view+json": {
       "model_id": "",
       "version_major": 2,
       "version_minor": 0
      },
      "text/plain": [
       "Validating:   0%|          | 0/5 [00:00<?, ?it/s]"
      ]
     },
     "metadata": {},
     "output_type": "display_data"
    },
    {
     "name": "stdout",
     "output_type": "stream",
     "text": [
      "Epoch 141 Summary: Duration: 3.93s\n",
      "  Train Loss: 0.0019, Train Acc: 1.0000\n",
      "  Val Loss: 0.6169, Val Acc: 0.5500\n",
      "\n",
      "Epoch 142/150\n"
     ]
    },
    {
     "data": {
      "application/vnd.jupyter.widget-view+json": {
       "model_id": "",
       "version_major": 2,
       "version_minor": 0
      },
      "text/plain": [
       "Training:   0%|          | 0/20 [00:00<?, ?it/s]"
      ]
     },
     "metadata": {},
     "output_type": "display_data"
    },
    {
     "data": {
      "application/vnd.jupyter.widget-view+json": {
       "model_id": "",
       "version_major": 2,
       "version_minor": 0
      },
      "text/plain": [
       "Validating:   0%|          | 0/5 [00:00<?, ?it/s]"
      ]
     },
     "metadata": {},
     "output_type": "display_data"
    },
    {
     "name": "stdout",
     "output_type": "stream",
     "text": [
      "Epoch 142 Summary: Duration: 4.11s\n",
      "  Train Loss: 0.0016, Train Acc: 1.0000\n",
      "  Val Loss: 0.5981, Val Acc: 0.7000\n",
      "\n",
      "Epoch 143/150\n"
     ]
    },
    {
     "data": {
      "application/vnd.jupyter.widget-view+json": {
       "model_id": "",
       "version_major": 2,
       "version_minor": 0
      },
      "text/plain": [
       "Training:   0%|          | 0/20 [00:00<?, ?it/s]"
      ]
     },
     "metadata": {},
     "output_type": "display_data"
    },
    {
     "data": {
      "application/vnd.jupyter.widget-view+json": {
       "model_id": "",
       "version_major": 2,
       "version_minor": 0
      },
      "text/plain": [
       "Validating:   0%|          | 0/5 [00:00<?, ?it/s]"
      ]
     },
     "metadata": {},
     "output_type": "display_data"
    },
    {
     "name": "stdout",
     "output_type": "stream",
     "text": [
      "Epoch 143 Summary: Duration: 3.89s\n",
      "  Train Loss: 0.0015, Train Acc: 1.0000\n",
      "  Val Loss: 0.5986, Val Acc: 0.7000\n",
      "\n",
      "Epoch 144/150\n"
     ]
    },
    {
     "data": {
      "application/vnd.jupyter.widget-view+json": {
       "model_id": "",
       "version_major": 2,
       "version_minor": 0
      },
      "text/plain": [
       "Training:   0%|          | 0/20 [00:00<?, ?it/s]"
      ]
     },
     "metadata": {},
     "output_type": "display_data"
    },
    {
     "data": {
      "application/vnd.jupyter.widget-view+json": {
       "model_id": "",
       "version_major": 2,
       "version_minor": 0
      },
      "text/plain": [
       "Validating:   0%|          | 0/5 [00:00<?, ?it/s]"
      ]
     },
     "metadata": {},
     "output_type": "display_data"
    },
    {
     "name": "stdout",
     "output_type": "stream",
     "text": [
      "Epoch 144 Summary: Duration: 3.94s\n",
      "  Train Loss: 0.0012, Train Acc: 1.0000\n",
      "  Val Loss: 0.5963, Val Acc: 0.7000\n",
      "\n",
      "Epoch 145/150\n"
     ]
    },
    {
     "data": {
      "application/vnd.jupyter.widget-view+json": {
       "model_id": "",
       "version_major": 2,
       "version_minor": 0
      },
      "text/plain": [
       "Training:   0%|          | 0/20 [00:00<?, ?it/s]"
      ]
     },
     "metadata": {},
     "output_type": "display_data"
    },
    {
     "data": {
      "application/vnd.jupyter.widget-view+json": {
       "model_id": "",
       "version_major": 2,
       "version_minor": 0
      },
      "text/plain": [
       "Validating:   0%|          | 0/5 [00:00<?, ?it/s]"
      ]
     },
     "metadata": {},
     "output_type": "display_data"
    },
    {
     "name": "stdout",
     "output_type": "stream",
     "text": [
      "Epoch 145 Summary: Duration: 3.91s\n",
      "  Train Loss: 0.0017, Train Acc: 1.0000\n",
      "  Val Loss: 0.6510, Val Acc: 0.5000\n",
      "\n",
      "Epoch 146/150\n"
     ]
    },
    {
     "data": {
      "application/vnd.jupyter.widget-view+json": {
       "model_id": "",
       "version_major": 2,
       "version_minor": 0
      },
      "text/plain": [
       "Training:   0%|          | 0/20 [00:00<?, ?it/s]"
      ]
     },
     "metadata": {},
     "output_type": "display_data"
    },
    {
     "data": {
      "application/vnd.jupyter.widget-view+json": {
       "model_id": "",
       "version_major": 2,
       "version_minor": 0
      },
      "text/plain": [
       "Validating:   0%|          | 0/5 [00:00<?, ?it/s]"
      ]
     },
     "metadata": {},
     "output_type": "display_data"
    },
    {
     "name": "stdout",
     "output_type": "stream",
     "text": [
      "Epoch 146 Summary: Duration: 4.05s\n",
      "  Train Loss: 0.0013, Train Acc: 1.0000\n",
      "  Val Loss: 0.6283, Val Acc: 0.7500\n",
      "\n",
      "Epoch 147/150\n"
     ]
    },
    {
     "data": {
      "application/vnd.jupyter.widget-view+json": {
       "model_id": "",
       "version_major": 2,
       "version_minor": 0
      },
      "text/plain": [
       "Training:   0%|          | 0/20 [00:00<?, ?it/s]"
      ]
     },
     "metadata": {},
     "output_type": "display_data"
    },
    {
     "data": {
      "application/vnd.jupyter.widget-view+json": {
       "model_id": "",
       "version_major": 2,
       "version_minor": 0
      },
      "text/plain": [
       "Validating:   0%|          | 0/5 [00:00<?, ?it/s]"
      ]
     },
     "metadata": {},
     "output_type": "display_data"
    },
    {
     "name": "stdout",
     "output_type": "stream",
     "text": [
      "Epoch 147 Summary: Duration: 3.92s\n",
      "  Train Loss: 0.0014, Train Acc: 1.0000\n",
      "  Val Loss: 0.6062, Val Acc: 0.7500\n",
      "\n",
      "Epoch 148/150\n"
     ]
    },
    {
     "data": {
      "application/vnd.jupyter.widget-view+json": {
       "model_id": "",
       "version_major": 2,
       "version_minor": 0
      },
      "text/plain": [
       "Training:   0%|          | 0/20 [00:00<?, ?it/s]"
      ]
     },
     "metadata": {},
     "output_type": "display_data"
    },
    {
     "data": {
      "application/vnd.jupyter.widget-view+json": {
       "model_id": "",
       "version_major": 2,
       "version_minor": 0
      },
      "text/plain": [
       "Validating:   0%|          | 0/5 [00:00<?, ?it/s]"
      ]
     },
     "metadata": {},
     "output_type": "display_data"
    },
    {
     "name": "stdout",
     "output_type": "stream",
     "text": [
      "Epoch 148 Summary: Duration: 3.96s\n",
      "  Train Loss: 0.0010, Train Acc: 1.0000\n",
      "  Val Loss: 0.5955, Val Acc: 0.6000\n",
      "\n",
      "Epoch 149/150\n"
     ]
    },
    {
     "data": {
      "application/vnd.jupyter.widget-view+json": {
       "model_id": "",
       "version_major": 2,
       "version_minor": 0
      },
      "text/plain": [
       "Training:   0%|          | 0/20 [00:00<?, ?it/s]"
      ]
     },
     "metadata": {},
     "output_type": "display_data"
    },
    {
     "data": {
      "application/vnd.jupyter.widget-view+json": {
       "model_id": "",
       "version_major": 2,
       "version_minor": 0
      },
      "text/plain": [
       "Validating:   0%|          | 0/5 [00:00<?, ?it/s]"
      ]
     },
     "metadata": {},
     "output_type": "display_data"
    },
    {
     "name": "stdout",
     "output_type": "stream",
     "text": [
      "Epoch 149 Summary: Duration: 4.01s\n",
      "  Train Loss: 0.0013, Train Acc: 1.0000\n",
      "  Val Loss: 0.6014, Val Acc: 0.6500\n",
      "\n",
      "Epoch 150/150\n"
     ]
    },
    {
     "data": {
      "application/vnd.jupyter.widget-view+json": {
       "model_id": "",
       "version_major": 2,
       "version_minor": 0
      },
      "text/plain": [
       "Training:   0%|          | 0/20 [00:00<?, ?it/s]"
      ]
     },
     "metadata": {},
     "output_type": "display_data"
    },
    {
     "data": {
      "application/vnd.jupyter.widget-view+json": {
       "model_id": "",
       "version_major": 2,
       "version_minor": 0
      },
      "text/plain": [
       "Validating:   0%|          | 0/5 [00:00<?, ?it/s]"
      ]
     },
     "metadata": {},
     "output_type": "display_data"
    },
    {
     "name": "stdout",
     "output_type": "stream",
     "text": [
      "Epoch 150 Summary: Duration: 4.04s\n",
      "  Train Loss: 0.0015, Train Acc: 1.0000\n",
      "  Val Loss: 0.5941, Val Acc: 0.7000\n",
      "\n",
      "Limited Scan Dataset Training Finished.\n"
     ]
    },
    {
     "data": {
      "image/png": "[encoded data removed]",
      "text/plain": [
       "<Figure size 1200x500 with 2 Axes>"
      ]
     },
     "metadata": {},
     "output_type": "display_data"
    },
    {
     "name": "stdout",
     "output_type": "stream",
     "text": [
      "\n",
      "Evaluating Model on Limited Validation Set...\n",
      "Loaded best model from ./preprocessed_dsb_50_each/patient_level_model_50_each_best.pth\n"
     ]
    },
    {
     "data": {
      "application/vnd.jupyter.widget-view+json": {
       "model_id": "",
       "version_major": 2,
       "version_minor": 0
      },
      "text/plain": [
       "Validating:   0%|          | 0/5 [00:00<?, ?it/s]"
      ]
     },
     "metadata": {},
     "output_type": "display_data"
    },
    {
     "name": "stdout",
     "output_type": "stream",
     "text": [
      "\n",
      "Final Validation Loss: 0.5864\n",
      "\n",
      "--- Final Validation Metrics (Limited Data) ---\n",
      "Accuracy:  0.7000\n",
      "Precision: 0.7500\n",
      "Recall:    0.6000\n",
      "F1-Score:  0.6667\n",
      "AUC-ROC:   0.7500\n",
      "\n",
      "Classification Report (Limited Data):\n",
      "                precision    recall  f1-score   support\n",
      "\n",
      "Non-Cancer (0)       0.67      0.80      0.73        10\n",
      "    Cancer (1)       0.75      0.60      0.67        10\n",
      "\n",
      "      accuracy                           0.70        20\n",
      "     macro avg       0.71      0.70      0.70        20\n",
      "  weighted avg       0.71      0.70      0.70        20\n",
      "\n",
      "\n",
      "Confusion Matrix (Limited Data):\n"
     ]
    },
    {
     "data": {
      "image/png": "[encoded data removed]",
      "text/plain": [
       "<Figure size 640x480 with 2 Axes>"
      ]
     },
     "metadata": {},
     "output_type": "display_data"
    },
    {
     "data": {
      "image/png": "[encoded data removed]",
      "text/plain": [
       "<Figure size 800x600 with 1 Axes>"
      ]
     },
     "metadata": {},
     "output_type": "display_data"
    }
   ],
   "source": [
    "# %% Imports\n",
    "import os\n",
    "import glob\n",
    "import time\n",
    "import SimpleITK as sitk\n",
    "import numpy as np\n",
    "import pandas as pd\n",
    "import matplotlib.pyplot as plt\n",
    "# Use standard tqdm if not in a notebook environment\n",
    "try:\n",
    "    from tqdm.notebook import tqdm\n",
    "except ImportError:\n",
    "    from tqdm import tqdm\n",
    "import random\n",
    "import scipy.ndimage\n",
    "from skimage.measure import label as skimage_label, regionprops\n",
    "from skimage.morphology import disk, binary_closing # Removed convex_hull_image, roberts as not used\n",
    "from skimage.segmentation import clear_border\n",
    "import scipy.ndimage as ndi\n",
    "\n",
    "import torch\n",
    "import torch.nn as nn\n",
    "import torch.optim as optim\n",
    "from torch.utils.data import Dataset, DataLoader\n",
    "from sklearn.model_selection import train_test_split\n",
    "from sklearn.metrics import (classification_report, confusion_matrix, roc_auc_score,\n",
    "                             roc_curve, precision_recall_curve, auc, f1_score,\n",
    "                             precision_score, recall_score, accuracy_score, ConfusionMatrixDisplay)\n",
    "\n",
    "# %% Configuration\n",
    "# --- MODIFY THESE PATHS ---\n",
    "DSB_PATH = r'F:/DSB3/stage1' # Base directory of DSB 2017 Stage 1 scans (containing patient folders)\n",
    "DSB_LABELS_CSV = r'F:\\DSB3\\stage1_labels.csv' # Path to DSB patient cancer labels CSV\n",
    "PREPROCESSED_DSB_PATH = './preprocessed_dsb_non_cancer/' # <<-- MODIFIED: Separate dir for non-cancer scans\n",
    "# --- MODIFIED: New output path for the limited dataset ---\n",
    "PREPROCESSED_DSB_PATH = './preprocessed_dsb_50_each/'\n",
    "# ---\n",
    "\n",
    "# Preprocessing & Model Params\n",
    "TARGET_SPACING = [1.5, 1.5, 1.5]\n",
    "FINAL_SCAN_SIZE = (96, 128, 128)\n",
    "CLIP_BOUND_HU = [-1000.0, 400.0]\n",
    "PIXEL_MEAN = 0.25\n",
    "\n",
    "# Training Params\n",
    "NUM_CLASSES = 1\n",
    "BATCH_SIZE = 4\n",
    "LEARNING_RATE = 0.0001\n",
    "EPOCHS = 150\n",
    "DEVICE = torch.device(\"cuda\" if torch.cuda.is_available() else \"cpu\")\n",
    "print(f\"Using device: {DEVICE}\")\n",
    "\n",
    "# <<< --- ADDED: Scan limit per class --- >>>\n",
    "SCAN_LIMIT_PER_CLASS = 50\n",
    "# <<< --- END ADDED --- >>>\n",
    "\n",
    "\n",
    "# Ensure output directory exists\n",
    "os.makedirs(PREPROCESSED_DSB_PATH, exist_ok=True) # Use new path\n",
    "\n",
    "# Random seed\n",
    "SEED = 42\n",
    "random.seed(SEED)\n",
    "np.random.seed(SEED)\n",
    "torch.manual_seed(SEED)\n",
    "if torch.cuda.is_available():\n",
    "    torch.cuda.manual_seed_all(SEED)\n",
    "    torch.backends.cudnn.deterministic = True # Ensure reproducibility if using CuDNN\n",
    "    torch.backends.cudnn.benchmark = False\n",
    "\n",
    "\n",
    "# %% --- Data Loading and Selection ---\n",
    "\n",
    "print(f\"--- Loading Data and Selecting up to {SCAN_LIMIT_PER_CLASS} Scans Per Class ---\")\n",
    "\n",
    "# --- Verify Paths ---\n",
    "if not os.path.isdir(DSB_PATH): raise SystemExit(f\"ERROR: DSB Scans path not found: {DSB_PATH}\")\n",
    "if not os.path.isfile(DSB_LABELS_CSV): raise SystemExit(f\"ERROR: DSB Labels CSV not found: {DSB_LABELS_CSV}\")\n",
    "print(f\"DSB Scans path: {DSB_PATH}\")\n",
    "print(f\"DSB Labels CSV: {DSB_LABELS_CSV}\")\n",
    "\n",
    "# --- Load Labels ---\n",
    "try:\n",
    "    dsb_labels_df = pd.read_csv(DSB_LABELS_CSV)\n",
    "    dsb_labels_df = dsb_labels_df.rename(columns={'id': 'patient_id'})\n",
    "    print(f\"Loaded {len(dsb_labels_df)} total DSB patient labels.\")\n",
    "    if 'cancer' not in dsb_labels_df.columns: raise ValueError(\"Labels CSV needs 'cancer' column.\")\n",
    "    print(\"Original label distribution:\\n\", dsb_labels_df['cancer'].value_counts())\n",
    "    # Create a lookup dictionary for labels\n",
    "    patient_labels_all = dsb_labels_df.set_index('patient_id')['cancer'].to_dict()\n",
    "except Exception as e: raise SystemExit(f\"ERROR: Failed to load labels CSV: {e}\")\n",
    "\n",
    "# --- Check Scan Folders ---\n",
    "scan_folders = [f for f in os.listdir(DSB_PATH) if os.path.isdir(os.path.join(DSB_PATH, f))]\n",
    "print(f\"Found {len(scan_folders)} potential patient scan folders.\")\n",
    "found_scan_ids = set(scan_folders)\n",
    "\n",
    "# --- Find Common IDs (patients with both label and scan folder) ---\n",
    "labeled_patient_ids_all = set(dsb_labels_df['patient_id'])\n",
    "common_ids_all = labeled_patient_ids_all.intersection(found_scan_ids)\n",
    "print(f\"Found {len(common_ids_all)} patient IDs with both labels and scan folders.\")\n",
    "if not common_ids_all: raise SystemExit(\"No matching patient IDs found. Cannot continue.\")\n",
    "\n",
    "# --- Separate Common IDs by Class ---\n",
    "common_ids_cancer = []\n",
    "common_ids_non_cancer = []\n",
    "for pid in common_ids_all:\n",
    "    label = patient_labels_all.get(pid)\n",
    "    if label == 1:\n",
    "        common_ids_cancer.append(pid)\n",
    "    elif label == 0:\n",
    "        common_ids_non_cancer.append(pid)\n",
    "\n",
    "print(f\"Available Cancerous scans with labels: {len(common_ids_cancer)}\")\n",
    "print(f\"Available Non-Cancerous scans with labels: {len(common_ids_non_cancer)}\")\n",
    "\n",
    "# --- Shuffle and Select Limited Number Per Class ---\n",
    "random.shuffle(common_ids_cancer) # Shuffle in-place\n",
    "random.shuffle(common_ids_non_cancer)\n",
    "\n",
    "selected_cancer_ids = common_ids_cancer[:SCAN_LIMIT_PER_CLASS]\n",
    "selected_non_cancer_ids = common_ids_non_cancer[:SCAN_LIMIT_PER_CLASS]\n",
    "\n",
    "print(f\"Selected {len(selected_cancer_ids)} Cancerous scans.\")\n",
    "print(f\"Selected {len(selected_non_cancer_ids)} Non-Cancerous scans.\")\n",
    "\n",
    "# --- Combine selected IDs for processing ---\n",
    "scans_to_process = selected_cancer_ids + selected_non_cancer_ids\n",
    "random.shuffle(scans_to_process) # Shuffle the combined list\n",
    "\n",
    "print(f\"Total scans selected for preprocessing: {len(scans_to_process)}\")\n",
    "\n",
    "# Use the subset of labels corresponding to the selected scans\n",
    "patient_labels = {pid: patient_labels_all[pid] for pid in scans_to_process}\n",
    "\n",
    "\n",
    "# %% --- Preprocessing Functions (Unchanged) ---\n",
    "# Functions: load_scan_series, resample, get_segmented_lungs,\n",
    "#            normalize_hu, zero_center, resize_scan_to_target\n",
    "# These remain the same as in the original script.\n",
    "\n",
    "def load_scan_series(dicom_folder_path):\n",
    "    try:\n",
    "        series_ids = sitk.ImageSeriesReader.GetGDCMSeriesIDs(dicom_folder_path)\n",
    "        if not series_ids: return None, None, None\n",
    "        series_file_names = sitk.ImageSeriesReader.GetGDCMSeriesFileNames(dicom_folder_path, series_ids[0])\n",
    "        series_reader = sitk.ImageSeriesReader(); series_reader.SetFileNames(series_file_names)\n",
    "        itkimage = series_reader.Execute()\n",
    "        image_array = sitk.GetArrayFromImage(itkimage); origin = np.array(list(reversed(itkimage.GetOrigin()))); spacing = np.array(list(reversed(itkimage.GetSpacing())))\n",
    "        return image_array, origin, spacing\n",
    "    except Exception as e: print(f\"Error reading DICOM {os.path.basename(dicom_folder_path)}: {e}\"); return None, None, None\n",
    "\n",
    "def resample(image, original_spacing, new_spacing=TARGET_SPACING):\n",
    "    try:\n",
    "        resize_factor = np.array(original_spacing) / np.array(new_spacing)\n",
    "        new_real_shape = image.shape * resize_factor; new_shape = np.round(new_real_shape)\n",
    "        real_resize_factor = new_shape / image.shape; actual_new_spacing = original_spacing / real_resize_factor\n",
    "        resampled_image = scipy.ndimage.zoom(image, real_resize_factor, mode='nearest', order=1)\n",
    "        return resampled_image, actual_new_spacing\n",
    "    except Exception as e: print(f\"Error resamping: {e}\"); return None, None\n",
    "\n",
    "def get_segmented_lungs(im_slice, hu_threshold=-320):\n",
    "    if im_slice.ndim != 2: return im_slice\n",
    "    binary = im_slice < hu_threshold; cleared = clear_border(binary)\n",
    "    label_image = skimage_label(cleared); areas = [r.area for r in regionprops(label_image)]; areas.sort()\n",
    "    area_threshold = areas[-2] if len(areas) >= 2 else (areas[-1] if len(areas) == 1 else 0)\n",
    "    if area_threshold > 0:\n",
    "        for region in regionprops(label_image):\n",
    "            if region.area < area_threshold:\n",
    "                for coordinates in region.coords: label_image[coordinates[0], coordinates[1]] = 0\n",
    "    binary = label_image > 0; selem = disk(2); binary = binary_closing(binary, selem)\n",
    "    selem_dilate = disk(5); final_mask = ndi.binary_dilation(binary, structure=selem_dilate)\n",
    "    background_val = CLIP_BOUND_HU[0] - 1; segmented_slice = im_slice.copy()\n",
    "    segmented_slice[final_mask == 0] = background_val\n",
    "    return segmented_slice\n",
    "\n",
    "def normalize_hu(image, clip_bounds=CLIP_BOUND_HU):\n",
    "    min_bound, max_bound = clip_bounds\n",
    "    image = np.clip(image, min_bound, max_bound)\n",
    "    image = (image - min_bound) / (max_bound - min_bound)\n",
    "    return image.astype(np.float32)\n",
    "\n",
    "def zero_center(image, pixel_mean=PIXEL_MEAN):\n",
    "    image = image - pixel_mean\n",
    "    return image.astype(np.float32)\n",
    "\n",
    "def resize_scan_to_target(image, target_shape=FINAL_SCAN_SIZE):\n",
    "     if image.shape == target_shape: return image\n",
    "     resize_factor = np.array(target_shape) / np.array(image.shape)\n",
    "     try:\n",
    "         resized_image = scipy.ndimage.zoom(image, resize_factor, order=1, mode='nearest')\n",
    "         if resized_image.shape != target_shape: # Simple crop/pad correction\n",
    "              current_shape = resized_image.shape\n",
    "              diff = np.array(target_shape) - np.array(current_shape)\n",
    "              pad = np.maximum(diff, 0); crop = np.maximum(-diff, 0)\n",
    "              pad_width = tuple((p // 2, p - p // 2) for p in pad)\n",
    "              resized_image = np.pad(resized_image, pad_width, mode='edge')\n",
    "              crop_slice = tuple(slice(c // 2, s - (c - c // 2)) for c, s in zip(crop, resized_image.shape))\n",
    "              resized_image = resized_image[crop_slice]\n",
    "         if resized_image.shape != target_shape: print(f\"ERROR: Resize failed. Shape {resized_image.shape}\"); return None\n",
    "         return resized_image.astype(np.float32)\n",
    "     except Exception as e: print(f\"Error resizing to target: {e}\"); return None\n",
    "\n",
    "# --- Full Preprocessing Pipeline (Unchanged Logic, uses correct paths) ---\n",
    "def preprocess_scan_dsb(patient_id, input_base_path, output_base_path, force_preprocess=False):\n",
    "    scan_folder_path = os.path.join(input_base_path, patient_id)\n",
    "    output_filename = os.path.join(output_base_path, f\"{patient_id}.npz\") # Uses the passed output_base_path\n",
    "    if os.path.exists(output_filename) and not force_preprocess: return True\n",
    "\n",
    "    image, origin, spacing = load_scan_series(scan_folder_path)\n",
    "    if image is None: return False\n",
    "    resampled_image, new_spacing = resample(image, spacing, TARGET_SPACING)\n",
    "    if resampled_image is None: del image; return False;\n",
    "    del image;\n",
    "    segmented_lungs = np.zeros_like(resampled_image, dtype=np.float32)\n",
    "    for i in range(resampled_image.shape[0]): segmented_lungs[i] = get_segmented_lungs(resampled_image[i])\n",
    "    del resampled_image;\n",
    "    normalized_image = normalize_hu(segmented_lungs, clip_bounds=CLIP_BOUND_HU); del segmented_lungs;\n",
    "    centered_image = zero_center(normalized_image, pixel_mean=PIXEL_MEAN); del normalized_image;\n",
    "    final_image = resize_scan_to_target(centered_image, target_shape=FINAL_SCAN_SIZE); del centered_image;\n",
    "    if final_image is None: return False\n",
    "    try:\n",
    "        np.savez_compressed(output_filename, image=final_image.astype(np.float32))\n",
    "        return True\n",
    "    except Exception as e: print(f\"Error saving {patient_id}: {e}\"); return False\n",
    "\n",
    "\n",
    "# %% --- Preprocessing Execution (Using Selected IDs) ---\n",
    "\n",
    "successful_processed_ids = []\n",
    "failed_processed_ids = []\n",
    "\n",
    "print(f\"\\nStarting preprocessing for {len(scans_to_process)} selected scans...\")\n",
    "start_time = time.time()\n",
    "\n",
    "for patient_id in tqdm(scans_to_process, desc=f\"Preprocessing {len(scans_to_process)} Selected Scans\"):\n",
    "    # <<< --- Pass the CORRECT output path --- >>>\n",
    "    success = preprocess_scan_dsb(patient_id, DSB_PATH, PREPROCESSED_DSB_PATH, force_preprocess=False)\n",
    "    if success:\n",
    "        successful_processed_ids.append(patient_id)\n",
    "    else:\n",
    "        failed_processed_ids.append(patient_id)\n",
    "\n",
    "end_time = time.time()\n",
    "print(f\"\\nPreprocessing finished in {end_time - start_time:.2f} seconds.\")\n",
    "print(f\"Successfully processed/found: {len(successful_processed_ids)} scans.\")\n",
    "if failed_processed_ids: print(f\"Failed to process: {len(failed_processed_ids)} scans. IDs: {failed_processed_ids}\")\n",
    "\n",
    "# --- Final list for Dataset (only successfully processed from the selection) ---\n",
    "final_patient_list = successful_processed_ids\n",
    "if not final_patient_list: raise SystemExit(\"No scans processed successfully. Cannot continue.\")\n",
    "\n",
    "# Update patient_labels to only include successfully processed patients\n",
    "patient_labels = {pid: patient_labels[pid] for pid in final_patient_list}\n",
    "print(f\"Final patient count for training/validation: {len(final_patient_list)}\")\n",
    "final_cancer_count = sum(1 for pid in final_patient_list if patient_labels[pid] == 1)\n",
    "final_non_cancer_count = len(final_patient_list) - final_cancer_count\n",
    "print(f\"  Cancerous: {final_cancer_count}, Non-Cancerous: {final_non_cancer_count}\")\n",
    "\n",
    "\n",
    "# %% --- Dataset and DataLoader ---\n",
    "\n",
    "class PatientLevelDataset(Dataset):\n",
    "    # --- Dataset class remains UNCHANGED ---\n",
    "    def __init__(self, patient_ids, labels_dict, preprocessed_path):\n",
    "        self.patient_ids = patient_ids; self.labels_dict = labels_dict; self.preprocessed_path = preprocessed_path\n",
    "    def __len__(self): return len(self.patient_ids)\n",
    "    def __getitem__(self, idx):\n",
    "        patient_id = self.patient_ids[idx]; label = self.labels_dict[patient_id]\n",
    "        scan_path = os.path.join(self.preprocessed_path, f\"{patient_id}.npz\")\n",
    "        try:\n",
    "            with np.load(scan_path) as npz_data: image = npz_data['image']\n",
    "            image_tensor = torch.from_numpy(image).float().unsqueeze(0)\n",
    "            label_tensor = torch.tensor(label, dtype=torch.float32)\n",
    "            return image_tensor, label_tensor\n",
    "        except Exception as e:\n",
    "            print(f\"ERROR loading {patient_id}: {e}\"); dummy = torch.zeros((1, *FINAL_SCAN_SIZE), dtype=torch.float32)\n",
    "            return dummy, torch.tensor(-1, dtype=torch.float32) # Error label\n",
    "\n",
    "# --- Split Data (Train/Validation) ---\n",
    "# <<< --- Stratification is important again --- >>>\n",
    "train_ids, val_ids = train_test_split(\n",
    "    final_patient_list,\n",
    "    test_size=0.2,\n",
    "    random_state=SEED,\n",
    "    stratify=[patient_labels[pid] for pid in final_patient_list] # Stratify based on the labels of the processed subset\n",
    ")\n",
    "print(f\"\\nTraining patients: {len(train_ids)}\")\n",
    "print(f\"Validation patients: {len(val_ids)}\")\n",
    "\n",
    "# --- Create Datasets and DataLoaders ---\n",
    "# <<< --- Use the correct PREPROCESSED_DSB_PATH --- >>>\n",
    "train_dataset = PatientLevelDataset(train_ids, patient_labels, PREPROCESSED_DSB_PATH)\n",
    "val_dataset = PatientLevelDataset(val_ids, patient_labels, PREPROCESSED_DSB_PATH)\n",
    "\n",
    "NUM_WORKERS = 0\n",
    "print(f\"Using {NUM_WORKERS} workers for DataLoader.\")\n",
    "train_loader = DataLoader(train_dataset, batch_size=BATCH_SIZE, shuffle=True, num_workers=NUM_WORKERS, pin_memory=torch.cuda.is_available())\n",
    "val_loader = DataLoader(val_dataset, batch_size=BATCH_SIZE, shuffle=False, num_workers=NUM_WORKERS, pin_memory=torch.cuda.is_available())\n",
    "\n",
    "# --- Check DataLoader Output ---\n",
    "try:\n",
    "    print(\"\\nChecking DataLoader output (Limited Data)...\")\n",
    "    if len(train_loader) > 0:\n",
    "        sample_batch, sample_labels = next(iter(train_loader))\n",
    "        print(f\"Sample batch shape: {sample_batch.shape}\")\n",
    "        print(f\"Sample labels shape: {sample_labels.shape}\")\n",
    "        print(f\"Sample labels: {sample_labels}\") # Should contain 0s and 1s\n",
    "        if torch.any(sample_labels == -1): print(\"WARNING: Error labels (-1) detected.\")\n",
    "    else: print(\"Train loader empty.\")\n",
    "except Exception as e: print(f\"Error checking DataLoader: {e}\")\n",
    "\n",
    "\n",
    "# %% --- Model Definition (Unchanged) ---\n",
    "class PatientLevel3DCNN(nn.Module):\n",
    "    def __init__(self, input_shape=FINAL_SCAN_SIZE, input_channels=1, num_classes=1):\n",
    "        super(PatientLevel3DCNN, self).__init__()\n",
    "\n",
    "        # --- Reduced Convolutional Layers ---\n",
    "        self.conv_layers = nn.Sequential(\n",
    "            # Input: [B, 1, D, H, W] e.g. [B, 1, 96, 128, 128]\n",
    "            nn.Conv3d(input_channels, 16, kernel_size=3, stride=1, padding=1), # Keep size\n",
    "            nn.BatchNorm3d(16),\n",
    "            nn.ReLU(),\n",
    "            nn.MaxPool3d(kernel_size=2, stride=2), # D/2, H/2, W/2 -> [B, 16, 48, 64, 64]\n",
    "\n",
    "            nn.Conv3d(16, 32, kernel_size=3, stride=1, padding=1),\n",
    "            nn.BatchNorm3d(32),\n",
    "            nn.ReLU(),\n",
    "            nn.MaxPool3d(kernel_size=2, stride=2), # D/4, H/4, W/4 -> [B, 32, 24, 32, 32]\n",
    "\n",
    "            nn.Conv3d(32, 64, kernel_size=3, stride=1, padding=1),\n",
    "            nn.BatchNorm3d(64),\n",
    "            nn.ReLU(),\n",
    "            nn.MaxPool3d(kernel_size=2, stride=2), # D/8, H/8, W/8 -> [B, 64, 12, 16, 16]\n",
    "\n",
    "            # <<< --- Removed the Conv3d(64, 128, ...) block --- >>>\n",
    "            # nn.Conv3d(64, 128, kernel_size=3, stride=1, padding=1),\n",
    "            # nn.BatchNorm3d(128),\n",
    "            # nn.ReLU(),\n",
    "            # nn.MaxPool3d(kernel_size=2, stride=2), # D/16, H/16, W/16 -> [B, 128, 6, 8, 8]\n",
    "            # <<< --- End Removal --- >>>\n",
    "\n",
    "\n",
    "            # Adaptive pooling ensures fixed size before FC layers\n",
    "            # Input to this layer is now [B, 64, 12, 16, 16]\n",
    "            nn.AdaptiveMaxPool3d((2, 2, 2)) # Output size: [B, 64, 2, 2, 2]\n",
    "        )\n",
    "\n",
    "        # <<< --- Adjusted Flattened Size --- >>>\n",
    "        # Calculate flattened size based on the output of the last pooling layer (64 channels * 2 * 2 * 2)\n",
    "        flattened_size = 64 * 2 * 2 * 2  # 64 * 8 = 512\n",
    "        # <<< --- End Adjustment --- >>>\n",
    "\n",
    "\n",
    "        # Fully connected layers\n",
    "        self.fc_layers = nn.Sequential(\n",
    "            nn.Flatten(),\n",
    "            # <<< --- Adjusted Linear Layer Input Size --- >>>\n",
    "            nn.Linear(flattened_size, 256), # Use the new flattened_size\n",
    "            # <<< --- End Adjustment --- >>>\n",
    "            nn.ReLU(),\n",
    "            nn.Dropout(0.5), # Keep dropout for regularization\n",
    "            nn.Linear(256, num_classes) # Output 1 logit\n",
    "        )\n",
    "\n",
    "    def forward(self, x):\n",
    "        x = self.conv_layers(x)\n",
    "        # print(\"Shape after conv_layers:\", x.shape) # Optional: for debugging\n",
    "        x = self.fc_layers(x)\n",
    "        return x\n",
    "\n",
    "patient_model = PatientLevel3DCNN(input_shape=FINAL_SCAN_SIZE, num_classes=1).to(DEVICE)\n",
    "print(patient_model)\n",
    "try:\n",
    "    dummy_input = torch.randn(BATCH_SIZE, 1, *FINAL_SCAN_SIZE).to(DEVICE)\n",
    "    output = patient_model(dummy_input); print(f\"\\nModel output shape: {output.shape}\")\n",
    "except Exception as e: print(f\"\\nError model test: {e}\")\n",
    "\n",
    "\n",
    "# %% --- Loss and Optimizer ---\n",
    "\n",
    "# <<< --- Adjust pos_weight: Since we selected a balanced subset, weight should be close to 1.0 --- >>>\n",
    "# Calculate weight based on the *actually processed* training samples if desired,\n",
    "# but for a forced 50/50 split, weight=1 is reasonable.\n",
    "# Let's calculate it based on the final training set composition for accuracy.\n",
    "train_labels_list = [patient_labels[pid] for pid in train_ids]\n",
    "count_0 = train_labels_list.count(0)\n",
    "count_1 = train_labels_list.count(1)\n",
    "if count_1 > 0 and count_0 > 0:\n",
    "    pos_weight_val = count_0 / count_1\n",
    "    print(f\"Calculated positive weight for balanced training subset: {pos_weight_val:.4f}\")\n",
    "    pos_weight_tensor = torch.tensor([pos_weight_val], device=DEVICE)\n",
    "else:\n",
    "    print(\"Warning: Training set has only one class after split. Using default pos_weight=1.\")\n",
    "    pos_weight_tensor = torch.tensor([1.0], device=DEVICE) # Default if split results in one class\n",
    "\n",
    "criterion = nn.BCEWithLogitsLoss(pos_weight=pos_weight_tensor)\n",
    "# <<< --- END pos_weight Adjustment --- >>>\n",
    "\n",
    "optimizer = optim.Adam(patient_model.parameters(), lr=LEARNING_RATE)\n",
    "scaler = torch.cuda.amp.GradScaler(enabled=torch.cuda.is_available())\n",
    "\n",
    "\n",
    "# %% --- Training and Validation Functions (Unchanged Logic) ---\n",
    "def train_one_epoch_patient(model, dataloader, criterion, optimizer, device, scaler):\n",
    "    model.train(); running_loss = 0.0; total_samples = 0; correct_predictions = 0\n",
    "    progress_bar = tqdm(dataloader, desc=\"Training\", leave=False)\n",
    "    for inputs, labels in progress_bar:\n",
    "        valid_indices = labels != -1; inputs = inputs[valid_indices].to(device); labels = labels[valid_indices].unsqueeze(1).to(device)\n",
    "        if inputs.nelement() == 0: continue\n",
    "        optimizer.zero_grad()\n",
    "        with torch.amp.autocast(device_type=device.type, dtype=torch.float16, enabled=torch.cuda.is_available()):\n",
    "            outputs = model(inputs); loss = criterion(outputs, labels)\n",
    "        if torch.isnan(loss): print(\"NaN loss!\"); continue\n",
    "        scaler.scale(loss).backward(); scaler.step(optimizer); scaler.update()\n",
    "        running_loss += loss.item() * inputs.size(0); total_samples += inputs.size(0)\n",
    "        preds = torch.sigmoid(outputs) > 0.5; correct_predictions += (preds == labels.bool()).sum().item()\n",
    "        progress_bar.set_postfix(loss=loss.item())\n",
    "    if total_samples == 0: return 0.0, 0.0\n",
    "    return running_loss / total_samples, correct_predictions / total_samples\n",
    "\n",
    "def validate_patient(model, dataloader, criterion, device):\n",
    "    model.eval(); running_loss = 0.0; total_samples = 0; all_preds_proba = []; all_labels = []\n",
    "    with torch.no_grad():\n",
    "        progress_bar = tqdm(dataloader, desc=\"Validating\", leave=False)\n",
    "        for inputs, labels in progress_bar:\n",
    "            valid_indices = labels != -1; inputs = inputs[valid_indices].to(device); labels = labels[valid_indices].unsqueeze(1).to(device)\n",
    "            if inputs.nelement() == 0: continue\n",
    "            with torch.amp.autocast(device_type=device.type, dtype=torch.float16, enabled=torch.cuda.is_available()):\n",
    "                outputs = model(inputs); loss = criterion(outputs, labels)\n",
    "            running_loss += loss.item() * inputs.size(0); total_samples += inputs.size(0)\n",
    "            all_preds_proba.extend(torch.sigmoid(outputs).cpu().numpy())\n",
    "            all_labels.extend(labels.cpu().numpy())\n",
    "    if total_samples == 0: return 0.0, np.array([]), np.array([])\n",
    "    return running_loss / total_samples, np.array(all_labels).flatten(), np.array(all_preds_proba).flatten()\n",
    "\n",
    "\n",
    "# %% --- Training Loop ---\n",
    "print(f\"\\nStarting Training on Limited ({len(final_patient_list)}) Scan Dataset...\")\n",
    "best_val_loss = float('inf'); train_losses, val_losses, train_accs = [], [], []\n",
    "\n",
    "# <<< --- Save model in the new directory --- >>>\n",
    "MODEL_SAVE_PATH = os.path.join(PREPROCESSED_DSB_PATH, \"patient_level_model_50_each_best.pth\")\n",
    "\n",
    "if torch.cuda.is_available(): torch.cuda.empty_cache()\n",
    "\n",
    "for epoch in range(EPOCHS):\n",
    "    print(f\"\\nEpoch {epoch+1}/{EPOCHS}\")\n",
    "    start_epoch_time = time.time()\n",
    "    train_loss, train_acc = train_one_epoch_patient(patient_model, train_loader, criterion, optimizer, DEVICE, scaler)\n",
    "    val_loss, val_labels_epoch, val_preds_proba_epoch = validate_patient(patient_model, val_loader, criterion, DEVICE)\n",
    "    train_losses.append(train_loss); val_losses.append(val_loss); train_accs.append(train_acc)\n",
    "    end_epoch_time = time.time(); epoch_duration = end_epoch_time - start_epoch_time\n",
    "\n",
    "    val_acc_epoch = 0.0\n",
    "    if len(val_labels_epoch) > 0: val_acc_epoch = accuracy_score(val_labels_epoch, (val_preds_proba_epoch > 0.5).astype(int))\n",
    "    print(f\"Epoch {epoch+1} Summary: Duration: {epoch_duration:.2f}s\")\n",
    "    print(f\"  Train Loss: {train_loss:.4f}, Train Acc: {train_acc:.4f}\")\n",
    "    print(f\"  Val Loss: {val_loss:.4f}, Val Acc: {val_acc_epoch:.4f}\")\n",
    "\n",
    "    if val_loss < best_val_loss and len(val_labels_epoch) > 0:\n",
    "        best_val_loss = val_loss\n",
    "        try: torch.save(patient_model.state_dict(), MODEL_SAVE_PATH); print(f\"  Best model saved to {MODEL_SAVE_PATH}\")\n",
    "        except Exception as e: print(f\"Error saving model: {e}\")\n",
    "    if torch.cuda.is_available(): torch.cuda.empty_cache()\n",
    "\n",
    "print(\"\\nLimited Scan Dataset Training Finished.\")\n",
    "\n",
    "\n",
    "# %% --- Plot Training History ---\n",
    "plt.figure(figsize=(12, 5))\n",
    "plt.subplot(1, 2, 1); plt.plot(range(1, EPOCHS + 1), train_losses, label='Train'); plt.plot(range(1, EPOCHS + 1), val_losses, label='Val')\n",
    "plt.xlabel('Epochs'); plt.ylabel('Loss'); plt.title('Loss Curve (50 Each)'); plt.legend(); plt.grid(True)\n",
    "plt.subplot(1, 2, 2); plt.plot(range(1, EPOCHS + 1), train_accs, label='Train Acc')\n",
    "plt.xlabel('Epochs'); plt.ylabel('Accuracy'); plt.title('Accuracy Curve (50 Each)'); plt.legend(); plt.grid(True)\n",
    "plt.tight_layout(); plt.show()\n",
    "\n",
    "\n",
    "# %% --- Model Evaluation ---\n",
    "print(\"\\nEvaluating Model on Limited Validation Set...\")\n",
    "if os.path.exists(MODEL_SAVE_PATH):\n",
    "    try:\n",
    "        if 'patient_model' not in locals(): patient_model = PatientLevel3DCNN(input_shape=FINAL_SCAN_SIZE, num_classes=1).to(DEVICE)\n",
    "        patient_model.load_state_dict(torch.load(MODEL_SAVE_PATH, map_location=DEVICE))\n",
    "        print(f\"Loaded best model from {MODEL_SAVE_PATH}\")\n",
    "    except Exception as e: print(f\"Could not load best model: {e}. Using last epoch model.\")\n",
    "else: print(\"Best model file not found. Using last epoch model.\")\n",
    "\n",
    "val_loss_final, final_val_labels, final_val_preds_proba = validate_patient(patient_model, val_loader, criterion, DEVICE)\n",
    "\n",
    "if len(final_val_labels) == 0: print(\"No valid validation predictions. Cannot evaluate.\")\n",
    "else:\n",
    "    print(f\"\\nFinal Validation Loss: {val_loss_final:.4f}\")\n",
    "    final_val_preds_binary = (final_val_preds_proba > 0.5).astype(int)\n",
    "    accuracy = accuracy_score(final_val_labels, final_val_preds_binary)\n",
    "    precision = precision_score(final_val_labels, final_val_preds_binary, zero_division=0)\n",
    "    recall = recall_score(final_val_labels, final_val_preds_binary, zero_division=0)\n",
    "    f1 = f1_score(final_val_labels, final_val_preds_binary, zero_division=0)\n",
    "    try: auc_roc = roc_auc_score(final_val_labels, final_val_preds_proba)\n",
    "    except ValueError as e: print(f\"AUC-ROC Error: {e}\"); auc_roc = float('nan')\n",
    "\n",
    "    print(\"\\n--- Final Validation Metrics (Limited Data) ---\")\n",
    "    print(f\"Accuracy:  {accuracy:.4f}\"); print(f\"Precision: {precision:.4f}\")\n",
    "    print(f\"Recall:    {recall:.4f}\"); print(f\"F1-Score:  {f1:.4f}\"); print(f\"AUC-ROC:   {auc_roc:.4f}\")\n",
    "\n",
    "    print(\"\\nClassification Report (Limited Data):\")\n",
    "    target_names = ['Non-Cancer (0)', 'Cancer (1)']\n",
    "    print(classification_report(final_val_labels, final_val_preds_binary, target_names=target_names, zero_division=0))\n",
    "\n",
    "    print(\"\\nConfusion Matrix (Limited Data):\")\n",
    "    cm = confusion_matrix(final_val_labels, final_val_preds_binary); disp = ConfusionMatrixDisplay(cm, display_labels=target_names)\n",
    "    disp.plot(cmap=plt.cm.Blues); plt.show()\n",
    "\n",
    "    if not np.isnan(auc_roc):\n",
    "        fpr, tpr, _ = roc_curve(final_val_labels, final_val_preds_proba)\n",
    "        plt.figure(figsize=(8, 6)); plt.plot(fpr, tpr, color='darkorange', lw=2, label=f'ROC curve (area = {auc_roc:.2f})')\n",
    "        plt.plot([0, 1], [0, 1], color='navy', lw=2, linestyle='--'); plt.xlim([0.0, 1.0]); plt.ylim([0.0, 1.05])\n",
    "        plt.xlabel('False Positive Rate'); plt.ylabel('True Positive Rate'); plt.title('ROC Curve (Limited Data)')\n",
    "        plt.legend(loc=\"lower right\"); plt.grid(True); plt.show()"
   ]
  },
  {
   "cell_type": "code",
   "execution_count": 11,
   "id": "a89459dc-3f12-4597-a05f-def1c0796bfd",
   "metadata": {},
   "outputs": [
    {
     "name": "stdout",
     "output_type": "stream",
     "text": [
      "*** Using FINAL_SCAN_SIZE: (64, 64, 64) to match Simp3D model ***\n",
      "Using device: cuda\n",
      "--- Loading Data and Selecting up to 50 Scans Per Class ---\n",
      "DSB Scans path: F:/DSB3/stage1\n",
      "DSB Labels CSV: F:\\DSB3\\stage1_labels.csv\n",
      "Loaded 1595 total DSB patient labels.\n",
      "Original label distribution:\n",
      " cancer\n",
      "0    1176\n",
      "1     419\n",
      "Name: count, dtype: int64\n",
      "Found 1595 potential patient scan folders.\n",
      "Found 1595 patient IDs with both labels and scan folders.\n",
      "Available Cancerous scans with labels: 419\n",
      "Available Non-Cancerous scans with labels: 1176\n",
      "Selected 50 Cancerous scans.\n",
      "Selected 50 Non-Cancerous scans.\n",
      "Total scans selected for preprocessing: 100\n",
      "\n",
      "--- Starting Preprocessing for 100 scans to size (64, 64, 64) ---\n",
      "Output directory: ./preprocessed_dsb_50_each_64cube/\n"
     ]
    },
    {
     "data": {
      "application/vnd.jupyter.widget-view+json": {
       "model_id": "fc99cd475606400f9b5082f68c9e3dd2",
       "version_major": 2,
       "version_minor": 0
      },
      "text/plain": [
       "Preprocessing 100 Scans ((64, 64, 64)):   0%|          | 0/100 [00:00<?, ?it/s]"
      ]
     },
     "metadata": {},
     "output_type": "display_data"
    },
    {
     "name": "stdout",
     "output_type": "stream",
     "text": [
      "\n",
      "Preprocessing finished in 0.01 seconds.\n",
      "Successfully processed/found: 100 scans.\n",
      "Final patient count for training/validation: 100\n",
      "  Cancerous: 50, Non-Cancerous: 50\n",
      "\n",
      "Training patients: 80\n",
      "Validation patients: 20\n",
      "Using 0 workers for DataLoader.\n",
      "\n",
      "Checking DataLoader output...\n",
      "Sample batch shape: torch.Size([4, 1, 64, 64, 64])\n",
      "Sample labels shape: torch.Size([4])\n",
      "Sample labels: tensor([1., 0., 0., 0.])\n",
      "Validation batch shape: torch.Size([4, 1, 64, 64, 64])\n",
      "\n",
      "--- Using Simp3DNet Model ---\n",
      "Simp3DNet(\n",
      "  (conv1a): Conv3d(1, 16, kernel_size=(9, 9, 9), stride=(1, 1, 1))\n",
      "  (bn1a): BatchNorm3d(16, eps=1e-05, momentum=0.1, affine=True, track_running_stats=True)\n",
      "  (conv1b): Conv3d(16, 16, kernel_size=(3, 3, 3), stride=(1, 1, 1))\n",
      "  (bn1b): BatchNorm3d(16, eps=1e-05, momentum=0.1, affine=True, track_running_stats=True)\n",
      "  (conv1c): Conv3d(16, 16, kernel_size=(5, 5, 5), stride=(1, 1, 1))\n",
      "  (bn1c): BatchNorm3d(16, eps=1e-05, momentum=0.1, affine=True, track_running_stats=True)\n",
      "  (pool1): MaxPool3d(kernel_size=2, stride=2, padding=0, dilation=1, ceil_mode=False)\n",
      "  (conv2a): Conv3d(16, 32, kernel_size=(3, 3, 3), stride=(1, 1, 1))\n",
      "  (bn2a): BatchNorm3d(32, eps=1e-05, momentum=0.1, affine=True, track_running_stats=True)\n",
      "  (conv2b): Conv3d(32, 32, kernel_size=(3, 3, 3), stride=(1, 1, 1))\n",
      "  (bn2b): BatchNorm3d(32, eps=1e-05, momentum=0.1, affine=True, track_running_stats=True)\n",
      "  (pool2): MaxPool3d(kernel_size=2, stride=2, padding=0, dilation=1, ceil_mode=False)\n",
      "  (conv3a): Conv3d(32, 64, kernel_size=(3, 3, 3), stride=(1, 1, 1))\n",
      "  (bn3a): BatchNorm3d(64, eps=1e-05, momentum=0.1, affine=True, track_running_stats=True)\n",
      "  (conv3b): Conv3d(64, 64, kernel_size=(3, 3, 3), stride=(1, 1, 1))\n",
      "  (bn3b): BatchNorm3d(64, eps=1e-05, momentum=0.1, affine=True, track_running_stats=True)\n",
      "  (conv4a): Conv3d(64, 128, kernel_size=(3, 3, 3), stride=(1, 1, 1))\n",
      "  (bn4a): BatchNorm3d(128, eps=1e-05, momentum=0.1, affine=True, track_running_stats=True)\n",
      "  (flatten): Flatten(start_dim=1, end_dim=-1)\n",
      "  (fc1): Linear(in_features=8192, out_features=256, bias=True)\n",
      "  (bn_fc1): BatchNorm1d(256, eps=1e-05, momentum=0.1, affine=True, track_running_stats=True)\n",
      "  (fc2): Linear(in_features=256, out_features=1, bias=True)\n",
      ")\n",
      "Dummy input shape: torch.Size([4, 1, 64, 64, 64])\n",
      "Model output shape: torch.Size([4, 1])\n",
      "Calculated positive weight for training subset (40 pos / 40 neg): 1.0000\n",
      "\n",
      "Starting Training with Simp3DNet Model (100 scans)...\n",
      "\n",
      "Epoch 1/150\n"
     ]
    },
    {
     "name": "stderr",
     "output_type": "stream",
     "text": [
      "C:\\Users\\Orjouwen\\AppData\\Local\\Temp\\ipykernel_6476\\3572280939.py:459: FutureWarning: `torch.cuda.amp.GradScaler(args...)` is deprecated. Please use `torch.amp.GradScaler('cuda', args...)` instead.\n",
      "  scaler = torch.cuda.amp.GradScaler(enabled=torch.cuda.is_available())\n"
     ]
    },
    {
     "data": {
      "application/vnd.jupyter.widget-view+json": {
       "model_id": "",
       "version_major": 2,
       "version_minor": 0
      },
      "text/plain": [
       "Training:   0%|          | 0/20 [00:00<?, ?it/s]"
      ]
     },
     "metadata": {},
     "output_type": "display_data"
    },
    {
     "data": {
      "application/vnd.jupyter.widget-view+json": {
       "model_id": "",
       "version_major": 2,
       "version_minor": 0
      },
      "text/plain": [
       "Validating:   0%|          | 0/5 [00:00<?, ?it/s]"
      ]
     },
     "metadata": {},
     "output_type": "display_data"
    },
    {
     "name": "stdout",
     "output_type": "stream",
     "text": [
      "Epoch 1 Summary: Duration: 5.12s\n",
      "  Train Loss: 0.7511, Train Acc: 0.4250\n",
      "  Val Loss:   0.6922, Val Acc:   0.5000\n",
      "  Best model saved to ./preprocessed_dsb_50_each_64cube/simp3dnet_model_50_each_64cube_best.pth (Val Loss: 0.6922)\n",
      "\n",
      "Epoch 2/150\n"
     ]
    },
    {
     "data": {
      "application/vnd.jupyter.widget-view+json": {
       "model_id": "",
       "version_major": 2,
       "version_minor": 0
      },
      "text/plain": [
       "Training:   0%|          | 0/20 [00:00<?, ?it/s]"
      ]
     },
     "metadata": {},
     "output_type": "display_data"
    },
    {
     "data": {
      "application/vnd.jupyter.widget-view+json": {
       "model_id": "",
       "version_major": 2,
       "version_minor": 0
      },
      "text/plain": [
       "Validating:   0%|          | 0/5 [00:00<?, ?it/s]"
      ]
     },
     "metadata": {},
     "output_type": "display_data"
    },
    {
     "name": "stdout",
     "output_type": "stream",
     "text": [
      "Epoch 2 Summary: Duration: 2.65s\n",
      "  Train Loss: 0.4769, Train Acc: 0.7875\n",
      "  Val Loss:   0.7679, Val Acc:   0.4500\n",
      "\n",
      "Epoch 3/150\n"
     ]
    },
    {
     "data": {
      "application/vnd.jupyter.widget-view+json": {
       "model_id": "",
       "version_major": 2,
       "version_minor": 0
      },
      "text/plain": [
       "Training:   0%|          | 0/20 [00:00<?, ?it/s]"
      ]
     },
     "metadata": {},
     "output_type": "display_data"
    },
    {
     "data": {
      "application/vnd.jupyter.widget-view+json": {
       "model_id": "",
       "version_major": 2,
       "version_minor": 0
      },
      "text/plain": [
       "Validating:   0%|          | 0/5 [00:00<?, ?it/s]"
      ]
     },
     "metadata": {},
     "output_type": "display_data"
    },
    {
     "name": "stdout",
     "output_type": "stream",
     "text": [
      "Epoch 3 Summary: Duration: 2.64s\n",
      "  Train Loss: 0.3173, Train Acc: 0.9125\n",
      "  Val Loss:   0.7213, Val Acc:   0.6000\n",
      "\n",
      "Epoch 4/150\n"
     ]
    },
    {
     "data": {
      "application/vnd.jupyter.widget-view+json": {
       "model_id": "",
       "version_major": 2,
       "version_minor": 0
      },
      "text/plain": [
       "Training:   0%|          | 0/20 [00:00<?, ?it/s]"
      ]
     },
     "metadata": {},
     "output_type": "display_data"
    },
    {
     "data": {
      "application/vnd.jupyter.widget-view+json": {
       "model_id": "",
       "version_major": 2,
       "version_minor": 0
      },
      "text/plain": [
       "Validating:   0%|          | 0/5 [00:00<?, ?it/s]"
      ]
     },
     "metadata": {},
     "output_type": "display_data"
    },
    {
     "name": "stdout",
     "output_type": "stream",
     "text": [
      "Epoch 4 Summary: Duration: 2.64s\n",
      "  Train Loss: 0.1927, Train Acc: 0.9750\n",
      "  Val Loss:   0.6640, Val Acc:   0.5500\n",
      "  Best model saved to ./preprocessed_dsb_50_each_64cube/simp3dnet_model_50_each_64cube_best.pth (Val Loss: 0.6640)\n",
      "\n",
      "Epoch 5/150\n"
     ]
    },
    {
     "data": {
      "application/vnd.jupyter.widget-view+json": {
       "model_id": "",
       "version_major": 2,
       "version_minor": 0
      },
      "text/plain": [
       "Training:   0%|          | 0/20 [00:00<?, ?it/s]"
      ]
     },
     "metadata": {},
     "output_type": "display_data"
    },
    {
     "data": {
      "application/vnd.jupyter.widget-view+json": {
       "model_id": "",
       "version_major": 2,
       "version_minor": 0
      },
      "text/plain": [
       "Validating:   0%|          | 0/5 [00:00<?, ?it/s]"
      ]
     },
     "metadata": {},
     "output_type": "display_data"
    },
    {
     "name": "stdout",
     "output_type": "stream",
     "text": [
      "Epoch 5 Summary: Duration: 2.66s\n",
      "  Train Loss: 0.1579, Train Acc: 0.9750\n",
      "  Val Loss:   0.6596, Val Acc:   0.5500\n",
      "  Best model saved to ./preprocessed_dsb_50_each_64cube/simp3dnet_model_50_each_64cube_best.pth (Val Loss: 0.6596)\n",
      "\n",
      "Epoch 6/150\n"
     ]
    },
    {
     "data": {
      "application/vnd.jupyter.widget-view+json": {
       "model_id": "",
       "version_major": 2,
       "version_minor": 0
      },
      "text/plain": [
       "Training:   0%|          | 0/20 [00:00<?, ?it/s]"
      ]
     },
     "metadata": {},
     "output_type": "display_data"
    },
    {
     "data": {
      "application/vnd.jupyter.widget-view+json": {
       "model_id": "",
       "version_major": 2,
       "version_minor": 0
      },
      "text/plain": [
       "Validating:   0%|          | 0/5 [00:00<?, ?it/s]"
      ]
     },
     "metadata": {},
     "output_type": "display_data"
    },
    {
     "name": "stdout",
     "output_type": "stream",
     "text": [
      "Epoch 6 Summary: Duration: 2.65s\n",
      "  Train Loss: 0.1841, Train Acc: 0.9500\n",
      "  Val Loss:   0.6659, Val Acc:   0.6500\n",
      "\n",
      "Epoch 7/150\n"
     ]
    },
    {
     "data": {
      "application/vnd.jupyter.widget-view+json": {
       "model_id": "",
       "version_major": 2,
       "version_minor": 0
      },
      "text/plain": [
       "Training:   0%|          | 0/20 [00:00<?, ?it/s]"
      ]
     },
     "metadata": {},
     "output_type": "display_data"
    },
    {
     "data": {
      "application/vnd.jupyter.widget-view+json": {
       "model_id": "",
       "version_major": 2,
       "version_minor": 0
      },
      "text/plain": [
       "Validating:   0%|          | 0/5 [00:00<?, ?it/s]"
      ]
     },
     "metadata": {},
     "output_type": "display_data"
    },
    {
     "name": "stdout",
     "output_type": "stream",
     "text": [
      "Epoch 7 Summary: Duration: 2.63s\n",
      "  Train Loss: 0.1566, Train Acc: 0.9500\n",
      "  Val Loss:   0.6442, Val Acc:   0.5500\n",
      "  Best model saved to ./preprocessed_dsb_50_each_64cube/simp3dnet_model_50_each_64cube_best.pth (Val Loss: 0.6442)\n",
      "\n",
      "Epoch 8/150\n"
     ]
    },
    {
     "data": {
      "application/vnd.jupyter.widget-view+json": {
       "model_id": "",
       "version_major": 2,
       "version_minor": 0
      },
      "text/plain": [
       "Training:   0%|          | 0/20 [00:00<?, ?it/s]"
      ]
     },
     "metadata": {},
     "output_type": "display_data"
    },
    {
     "data": {
      "application/vnd.jupyter.widget-view+json": {
       "model_id": "",
       "version_major": 2,
       "version_minor": 0
      },
      "text/plain": [
       "Validating:   0%|          | 0/5 [00:00<?, ?it/s]"
      ]
     },
     "metadata": {},
     "output_type": "display_data"
    },
    {
     "name": "stdout",
     "output_type": "stream",
     "text": [
      "Epoch 8 Summary: Duration: 2.64s\n",
      "  Train Loss: 0.1724, Train Acc: 0.9625\n",
      "  Val Loss:   0.6578, Val Acc:   0.5500\n",
      "\n",
      "Epoch 9/150\n"
     ]
    },
    {
     "data": {
      "application/vnd.jupyter.widget-view+json": {
       "model_id": "",
       "version_major": 2,
       "version_minor": 0
      },
      "text/plain": [
       "Training:   0%|          | 0/20 [00:00<?, ?it/s]"
      ]
     },
     "metadata": {},
     "output_type": "display_data"
    },
    {
     "data": {
      "application/vnd.jupyter.widget-view+json": {
       "model_id": "",
       "version_major": 2,
       "version_minor": 0
      },
      "text/plain": [
       "Validating:   0%|          | 0/5 [00:00<?, ?it/s]"
      ]
     },
     "metadata": {},
     "output_type": "display_data"
    },
    {
     "name": "stdout",
     "output_type": "stream",
     "text": [
      "Epoch 9 Summary: Duration: 2.66s\n",
      "  Train Loss: 0.1089, Train Acc: 0.9750\n",
      "  Val Loss:   0.6632, Val Acc:   0.6000\n",
      "\n",
      "Epoch 10/150\n"
     ]
    },
    {
     "data": {
      "application/vnd.jupyter.widget-view+json": {
       "model_id": "",
       "version_major": 2,
       "version_minor": 0
      },
      "text/plain": [
       "Training:   0%|          | 0/20 [00:00<?, ?it/s]"
      ]
     },
     "metadata": {},
     "output_type": "display_data"
    },
    {
     "data": {
      "application/vnd.jupyter.widget-view+json": {
       "model_id": "",
       "version_major": 2,
       "version_minor": 0
      },
      "text/plain": [
       "Validating:   0%|          | 0/5 [00:00<?, ?it/s]"
      ]
     },
     "metadata": {},
     "output_type": "display_data"
    },
    {
     "name": "stdout",
     "output_type": "stream",
     "text": [
      "Epoch 10 Summary: Duration: 2.64s\n",
      "  Train Loss: 0.1568, Train Acc: 0.9375\n",
      "  Val Loss:   0.6630, Val Acc:   0.6000\n",
      "\n",
      "Epoch 11/150\n"
     ]
    },
    {
     "data": {
      "application/vnd.jupyter.widget-view+json": {
       "model_id": "",
       "version_major": 2,
       "version_minor": 0
      },
      "text/plain": [
       "Training:   0%|          | 0/20 [00:00<?, ?it/s]"
      ]
     },
     "metadata": {},
     "output_type": "display_data"
    },
    {
     "data": {
      "application/vnd.jupyter.widget-view+json": {
       "model_id": "",
       "version_major": 2,
       "version_minor": 0
      },
      "text/plain": [
       "Validating:   0%|          | 0/5 [00:00<?, ?it/s]"
      ]
     },
     "metadata": {},
     "output_type": "display_data"
    },
    {
     "name": "stdout",
     "output_type": "stream",
     "text": [
      "Epoch 11 Summary: Duration: 2.82s\n",
      "  Train Loss: 0.0695, Train Acc: 1.0000\n",
      "  Val Loss:   0.6504, Val Acc:   0.6000\n",
      "\n",
      "Epoch 12/150\n"
     ]
    },
    {
     "data": {
      "application/vnd.jupyter.widget-view+json": {
       "model_id": "",
       "version_major": 2,
       "version_minor": 0
      },
      "text/plain": [
       "Training:   0%|          | 0/20 [00:00<?, ?it/s]"
      ]
     },
     "metadata": {},
     "output_type": "display_data"
    },
    {
     "data": {
      "application/vnd.jupyter.widget-view+json": {
       "model_id": "",
       "version_major": 2,
       "version_minor": 0
      },
      "text/plain": [
       "Validating:   0%|          | 0/5 [00:00<?, ?it/s]"
      ]
     },
     "metadata": {},
     "output_type": "display_data"
    },
    {
     "name": "stdout",
     "output_type": "stream",
     "text": [
      "Epoch 12 Summary: Duration: 2.65s\n",
      "  Train Loss: 0.1958, Train Acc: 0.9000\n",
      "  Val Loss:   0.6730, Val Acc:   0.5000\n",
      "\n",
      "Epoch 13/150\n"
     ]
    },
    {
     "data": {
      "application/vnd.jupyter.widget-view+json": {
       "model_id": "",
       "version_major": 2,
       "version_minor": 0
      },
      "text/plain": [
       "Training:   0%|          | 0/20 [00:00<?, ?it/s]"
      ]
     },
     "metadata": {},
     "output_type": "display_data"
    },
    {
     "data": {
      "application/vnd.jupyter.widget-view+json": {
       "model_id": "",
       "version_major": 2,
       "version_minor": 0
      },
      "text/plain": [
       "Validating:   0%|          | 0/5 [00:00<?, ?it/s]"
      ]
     },
     "metadata": {},
     "output_type": "display_data"
    },
    {
     "name": "stdout",
     "output_type": "stream",
     "text": [
      "Epoch 13 Summary: Duration: 2.65s\n",
      "  Train Loss: 0.2387, Train Acc: 0.8500\n",
      "  Val Loss:   0.6948, Val Acc:   0.6500\n",
      "\n",
      "Epoch 14/150\n"
     ]
    },
    {
     "data": {
      "application/vnd.jupyter.widget-view+json": {
       "model_id": "",
       "version_major": 2,
       "version_minor": 0
      },
      "text/plain": [
       "Training:   0%|          | 0/20 [00:00<?, ?it/s]"
      ]
     },
     "metadata": {},
     "output_type": "display_data"
    },
    {
     "data": {
      "application/vnd.jupyter.widget-view+json": {
       "model_id": "",
       "version_major": 2,
       "version_minor": 0
      },
      "text/plain": [
       "Validating:   0%|          | 0/5 [00:00<?, ?it/s]"
      ]
     },
     "metadata": {},
     "output_type": "display_data"
    },
    {
     "name": "stdout",
     "output_type": "stream",
     "text": [
      "Epoch 14 Summary: Duration: 2.65s\n",
      "  Train Loss: 0.1455, Train Acc: 0.9625\n",
      "  Val Loss:   0.6628, Val Acc:   0.6000\n",
      "\n",
      "Epoch 15/150\n"
     ]
    },
    {
     "data": {
      "application/vnd.jupyter.widget-view+json": {
       "model_id": "",
       "version_major": 2,
       "version_minor": 0
      },
      "text/plain": [
       "Training:   0%|          | 0/20 [00:00<?, ?it/s]"
      ]
     },
     "metadata": {},
     "output_type": "display_data"
    },
    {
     "data": {
      "application/vnd.jupyter.widget-view+json": {
       "model_id": "",
       "version_major": 2,
       "version_minor": 0
      },
      "text/plain": [
       "Validating:   0%|          | 0/5 [00:00<?, ?it/s]"
      ]
     },
     "metadata": {},
     "output_type": "display_data"
    },
    {
     "name": "stdout",
     "output_type": "stream",
     "text": [
      "Epoch 15 Summary: Duration: 2.67s\n",
      "  Train Loss: 0.1578, Train Acc: 0.9250\n",
      "  Val Loss:   0.6730, Val Acc:   0.7000\n",
      "\n",
      "Epoch 16/150\n"
     ]
    },
    {
     "data": {
      "application/vnd.jupyter.widget-view+json": {
       "model_id": "",
       "version_major": 2,
       "version_minor": 0
      },
      "text/plain": [
       "Training:   0%|          | 0/20 [00:00<?, ?it/s]"
      ]
     },
     "metadata": {},
     "output_type": "display_data"
    },
    {
     "data": {
      "application/vnd.jupyter.widget-view+json": {
       "model_id": "875bf7edbf124ff1b7fbec9e5705ae9f",
       "version_major": 2,
       "version_minor": 0
      },
      "text/plain": [
       "Validating:   0%|          | 0/5 [00:00<?, ?it/s]"
      ]
     },
     "metadata": {},
     "output_type": "display_data"
    },
    {
     "name": "stdout",
     "output_type": "stream",
     "text": [
      "Epoch 16 Summary: Duration: 2.66s\n",
      "  Train Loss: 0.2944, Train Acc: 0.8125\n",
      "  Val Loss:   0.6443, Val Acc:   0.5500\n",
      "\n",
      "Epoch 17/150\n"
     ]
    },
    {
     "data": {
      "application/vnd.jupyter.widget-view+json": {
       "model_id": "12fff221e5bc4648b757049eee01ed4c",
       "version_major": 2,
       "version_minor": 0
      },
      "text/plain": [
       "Training:   0%|          | 0/20 [00:00<?, ?it/s]"
      ]
     },
     "metadata": {},
     "output_type": "display_data"
    },
    {
     "data": {
      "application/vnd.jupyter.widget-view+json": {
       "model_id": "bba2333ec8b04d5196e4f1c57aafc913",
       "version_major": 2,
       "version_minor": 0
      },
      "text/plain": [
       "Validating:   0%|          | 0/5 [00:00<?, ?it/s]"
      ]
     },
     "metadata": {},
     "output_type": "display_data"
    },
    {
     "name": "stdout",
     "output_type": "stream",
     "text": [
      "Epoch 17 Summary: Duration: 2.67s\n",
      "  Train Loss: 0.1501, Train Acc: 0.9375\n",
      "  Val Loss:   0.6349, Val Acc:   0.7000\n",
      "  Best model saved to ./preprocessed_dsb_50_each_64cube/simp3dnet_model_50_each_64cube_best.pth (Val Loss: 0.6349)\n",
      "\n",
      "Epoch 18/150\n"
     ]
    },
    {
     "data": {
      "application/vnd.jupyter.widget-view+json": {
       "model_id": "",
       "version_major": 2,
       "version_minor": 0
      },
      "text/plain": [
       "Training:   0%|          | 0/20 [00:00<?, ?it/s]"
      ]
     },
     "metadata": {},
     "output_type": "display_data"
    },
    {
     "data": {
      "application/vnd.jupyter.widget-view+json": {
       "model_id": "",
       "version_major": 2,
       "version_minor": 0
      },
      "text/plain": [
       "Validating:   0%|          | 0/5 [00:00<?, ?it/s]"
      ]
     },
     "metadata": {},
     "output_type": "display_data"
    },
    {
     "name": "stdout",
     "output_type": "stream",
     "text": [
      "Epoch 18 Summary: Duration: 2.65s\n",
      "  Train Loss: 0.0506, Train Acc: 1.0000\n",
      "  Val Loss:   0.6117, Val Acc:   0.7500\n",
      "  Best model saved to ./preprocessed_dsb_50_each_64cube/simp3dnet_model_50_each_64cube_best.pth (Val Loss: 0.6117)\n",
      "\n",
      "Epoch 19/150\n"
     ]
    },
    {
     "data": {
      "application/vnd.jupyter.widget-view+json": {
       "model_id": "",
       "version_major": 2,
       "version_minor": 0
      },
      "text/plain": [
       "Training:   0%|          | 0/20 [00:00<?, ?it/s]"
      ]
     },
     "metadata": {},
     "output_type": "display_data"
    },
    {
     "data": {
      "application/vnd.jupyter.widget-view+json": {
       "model_id": "",
       "version_major": 2,
       "version_minor": 0
      },
      "text/plain": [
       "Validating:   0%|          | 0/5 [00:00<?, ?it/s]"
      ]
     },
     "metadata": {},
     "output_type": "display_data"
    },
    {
     "name": "stdout",
     "output_type": "stream",
     "text": [
      "Epoch 19 Summary: Duration: 2.63s\n",
      "  Train Loss: 0.1304, Train Acc: 0.9500\n",
      "  Val Loss:   0.6278, Val Acc:   0.7000\n",
      "\n",
      "Epoch 20/150\n"
     ]
    },
    {
     "data": {
      "application/vnd.jupyter.widget-view+json": {
       "model_id": "",
       "version_major": 2,
       "version_minor": 0
      },
      "text/plain": [
       "Training:   0%|          | 0/20 [00:00<?, ?it/s]"
      ]
     },
     "metadata": {},
     "output_type": "display_data"
    },
    {
     "data": {
      "application/vnd.jupyter.widget-view+json": {
       "model_id": "",
       "version_major": 2,
       "version_minor": 0
      },
      "text/plain": [
       "Validating:   0%|          | 0/5 [00:00<?, ?it/s]"
      ]
     },
     "metadata": {},
     "output_type": "display_data"
    },
    {
     "name": "stdout",
     "output_type": "stream",
     "text": [
      "Epoch 20 Summary: Duration: 2.65s\n",
      "  Train Loss: 0.1795, Train Acc: 0.9500\n",
      "  Val Loss:   0.6156, Val Acc:   0.7000\n",
      "\n",
      "Epoch 21/150\n"
     ]
    },
    {
     "data": {
      "application/vnd.jupyter.widget-view+json": {
       "model_id": "",
       "version_major": 2,
       "version_minor": 0
      },
      "text/plain": [
       "Training:   0%|          | 0/20 [00:00<?, ?it/s]"
      ]
     },
     "metadata": {},
     "output_type": "display_data"
    },
    {
     "data": {
      "application/vnd.jupyter.widget-view+json": {
       "model_id": "",
       "version_major": 2,
       "version_minor": 0
      },
      "text/plain": [
       "Validating:   0%|          | 0/5 [00:00<?, ?it/s]"
      ]
     },
     "metadata": {},
     "output_type": "display_data"
    },
    {
     "name": "stdout",
     "output_type": "stream",
     "text": [
      "Epoch 21 Summary: Duration: 2.64s\n",
      "  Train Loss: 0.1185, Train Acc: 0.9625\n",
      "  Val Loss:   0.6284, Val Acc:   0.7000\n",
      "\n",
      "Epoch 22/150\n"
     ]
    },
    {
     "data": {
      "application/vnd.jupyter.widget-view+json": {
       "model_id": "",
       "version_major": 2,
       "version_minor": 0
      },
      "text/plain": [
       "Training:   0%|          | 0/20 [00:00<?, ?it/s]"
      ]
     },
     "metadata": {},
     "output_type": "display_data"
    },
    {
     "data": {
      "application/vnd.jupyter.widget-view+json": {
       "model_id": "",
       "version_major": 2,
       "version_minor": 0
      },
      "text/plain": [
       "Validating:   0%|          | 0/5 [00:00<?, ?it/s]"
      ]
     },
     "metadata": {},
     "output_type": "display_data"
    },
    {
     "name": "stdout",
     "output_type": "stream",
     "text": [
      "Epoch 22 Summary: Duration: 2.67s\n",
      "  Train Loss: 0.1522, Train Acc: 0.9125\n",
      "  Val Loss:   0.5788, Val Acc:   0.7500\n",
      "  Best model saved to ./preprocessed_dsb_50_each_64cube/simp3dnet_model_50_each_64cube_best.pth (Val Loss: 0.5788)\n",
      "\n",
      "Epoch 23/150\n"
     ]
    },
    {
     "data": {
      "application/vnd.jupyter.widget-view+json": {
       "model_id": "",
       "version_major": 2,
       "version_minor": 0
      },
      "text/plain": [
       "Training:   0%|          | 0/20 [00:00<?, ?it/s]"
      ]
     },
     "metadata": {},
     "output_type": "display_data"
    },
    {
     "data": {
      "application/vnd.jupyter.widget-view+json": {
       "model_id": "",
       "version_major": 2,
       "version_minor": 0
      },
      "text/plain": [
       "Validating:   0%|          | 0/5 [00:00<?, ?it/s]"
      ]
     },
     "metadata": {},
     "output_type": "display_data"
    },
    {
     "name": "stdout",
     "output_type": "stream",
     "text": [
      "Epoch 23 Summary: Duration: 2.70s\n",
      "  Train Loss: 0.1816, Train Acc: 0.9250\n",
      "  Val Loss:   0.5884, Val Acc:   0.6500\n",
      "\n",
      "Epoch 24/150\n"
     ]
    },
    {
     "data": {
      "application/vnd.jupyter.widget-view+json": {
       "model_id": "",
       "version_major": 2,
       "version_minor": 0
      },
      "text/plain": [
       "Training:   0%|          | 0/20 [00:00<?, ?it/s]"
      ]
     },
     "metadata": {},
     "output_type": "display_data"
    },
    {
     "data": {
      "application/vnd.jupyter.widget-view+json": {
       "model_id": "",
       "version_major": 2,
       "version_minor": 0
      },
      "text/plain": [
       "Validating:   0%|          | 0/5 [00:00<?, ?it/s]"
      ]
     },
     "metadata": {},
     "output_type": "display_data"
    },
    {
     "name": "stdout",
     "output_type": "stream",
     "text": [
      "Epoch 24 Summary: Duration: 2.64s\n",
      "  Train Loss: 0.1862, Train Acc: 0.8875\n",
      "  Val Loss:   0.5714, Val Acc:   0.7500\n",
      "  Best model saved to ./preprocessed_dsb_50_each_64cube/simp3dnet_model_50_each_64cube_best.pth (Val Loss: 0.5714)\n",
      "\n",
      "Epoch 25/150\n"
     ]
    },
    {
     "data": {
      "application/vnd.jupyter.widget-view+json": {
       "model_id": "",
       "version_major": 2,
       "version_minor": 0
      },
      "text/plain": [
       "Training:   0%|          | 0/20 [00:00<?, ?it/s]"
      ]
     },
     "metadata": {},
     "output_type": "display_data"
    },
    {
     "data": {
      "application/vnd.jupyter.widget-view+json": {
       "model_id": "",
       "version_major": 2,
       "version_minor": 0
      },
      "text/plain": [
       "Validating:   0%|          | 0/5 [00:00<?, ?it/s]"
      ]
     },
     "metadata": {},
     "output_type": "display_data"
    },
    {
     "name": "stdout",
     "output_type": "stream",
     "text": [
      "Epoch 25 Summary: Duration: 2.63s\n",
      "  Train Loss: 0.1606, Train Acc: 0.9375\n",
      "  Val Loss:   0.5881, Val Acc:   0.8000\n",
      "\n",
      "Epoch 26/150\n"
     ]
    },
    {
     "data": {
      "application/vnd.jupyter.widget-view+json": {
       "model_id": "",
       "version_major": 2,
       "version_minor": 0
      },
      "text/plain": [
       "Training:   0%|          | 0/20 [00:00<?, ?it/s]"
      ]
     },
     "metadata": {},
     "output_type": "display_data"
    },
    {
     "data": {
      "application/vnd.jupyter.widget-view+json": {
       "model_id": "",
       "version_major": 2,
       "version_minor": 0
      },
      "text/plain": [
       "Validating:   0%|          | 0/5 [00:00<?, ?it/s]"
      ]
     },
     "metadata": {},
     "output_type": "display_data"
    },
    {
     "name": "stdout",
     "output_type": "stream",
     "text": [
      "Epoch 26 Summary: Duration: 2.66s\n",
      "  Train Loss: 0.1333, Train Acc: 0.9375\n",
      "  Val Loss:   0.6580, Val Acc:   0.7000\n",
      "\n",
      "Epoch 27/150\n"
     ]
    },
    {
     "data": {
      "application/vnd.jupyter.widget-view+json": {
       "model_id": "",
       "version_major": 2,
       "version_minor": 0
      },
      "text/plain": [
       "Training:   0%|          | 0/20 [00:00<?, ?it/s]"
      ]
     },
     "metadata": {},
     "output_type": "display_data"
    },
    {
     "data": {
      "application/vnd.jupyter.widget-view+json": {
       "model_id": "",
       "version_major": 2,
       "version_minor": 0
      },
      "text/plain": [
       "Validating:   0%|          | 0/5 [00:00<?, ?it/s]"
      ]
     },
     "metadata": {},
     "output_type": "display_data"
    },
    {
     "name": "stdout",
     "output_type": "stream",
     "text": [
      "Epoch 27 Summary: Duration: 2.65s\n",
      "  Train Loss: 0.1834, Train Acc: 0.8875\n",
      "  Val Loss:   0.6693, Val Acc:   0.6500\n",
      "\n",
      "Epoch 28/150\n"
     ]
    },
    {
     "data": {
      "application/vnd.jupyter.widget-view+json": {
       "model_id": "",
       "version_major": 2,
       "version_minor": 0
      },
      "text/plain": [
       "Training:   0%|          | 0/20 [00:00<?, ?it/s]"
      ]
     },
     "metadata": {},
     "output_type": "display_data"
    },
    {
     "data": {
      "application/vnd.jupyter.widget-view+json": {
       "model_id": "",
       "version_major": 2,
       "version_minor": 0
      },
      "text/plain": [
       "Validating:   0%|          | 0/5 [00:00<?, ?it/s]"
      ]
     },
     "metadata": {},
     "output_type": "display_data"
    },
    {
     "name": "stdout",
     "output_type": "stream",
     "text": [
      "Epoch 28 Summary: Duration: 2.66s\n",
      "  Train Loss: 0.0709, Train Acc: 0.9625\n",
      "  Val Loss:   0.6239, Val Acc:   0.7500\n",
      "\n",
      "Epoch 29/150\n"
     ]
    },
    {
     "data": {
      "application/vnd.jupyter.widget-view+json": {
       "model_id": "",
       "version_major": 2,
       "version_minor": 0
      },
      "text/plain": [
       "Training:   0%|          | 0/20 [00:00<?, ?it/s]"
      ]
     },
     "metadata": {},
     "output_type": "display_data"
    },
    {
     "data": {
      "application/vnd.jupyter.widget-view+json": {
       "model_id": "",
       "version_major": 2,
       "version_minor": 0
      },
      "text/plain": [
       "Validating:   0%|          | 0/5 [00:00<?, ?it/s]"
      ]
     },
     "metadata": {},
     "output_type": "display_data"
    },
    {
     "name": "stdout",
     "output_type": "stream",
     "text": [
      "Epoch 29 Summary: Duration: 2.69s\n",
      "  Train Loss: 0.1491, Train Acc: 0.9125\n",
      "  Val Loss:   0.6671, Val Acc:   0.5500\n",
      "\n",
      "Epoch 30/150\n"
     ]
    },
    {
     "data": {
      "application/vnd.jupyter.widget-view+json": {
       "model_id": "",
       "version_major": 2,
       "version_minor": 0
      },
      "text/plain": [
       "Training:   0%|          | 0/20 [00:00<?, ?it/s]"
      ]
     },
     "metadata": {},
     "output_type": "display_data"
    },
    {
     "data": {
      "application/vnd.jupyter.widget-view+json": {
       "model_id": "",
       "version_major": 2,
       "version_minor": 0
      },
      "text/plain": [
       "Validating:   0%|          | 0/5 [00:00<?, ?it/s]"
      ]
     },
     "metadata": {},
     "output_type": "display_data"
    },
    {
     "name": "stdout",
     "output_type": "stream",
     "text": [
      "Epoch 30 Summary: Duration: 2.65s\n",
      "  Train Loss: 0.0877, Train Acc: 0.9500\n",
      "  Val Loss:   0.6317, Val Acc:   0.7000\n",
      "\n",
      "Epoch 31/150\n"
     ]
    },
    {
     "data": {
      "application/vnd.jupyter.widget-view+json": {
       "model_id": "",
       "version_major": 2,
       "version_minor": 0
      },
      "text/plain": [
       "Training:   0%|          | 0/20 [00:00<?, ?it/s]"
      ]
     },
     "metadata": {},
     "output_type": "display_data"
    },
    {
     "data": {
      "application/vnd.jupyter.widget-view+json": {
       "model_id": "",
       "version_major": 2,
       "version_minor": 0
      },
      "text/plain": [
       "Validating:   0%|          | 0/5 [00:00<?, ?it/s]"
      ]
     },
     "metadata": {},
     "output_type": "display_data"
    },
    {
     "name": "stdout",
     "output_type": "stream",
     "text": [
      "Epoch 31 Summary: Duration: 2.67s\n",
      "  Train Loss: 0.2343, Train Acc: 0.9000\n",
      "  Val Loss:   0.6082, Val Acc:   0.8000\n",
      "\n",
      "Epoch 32/150\n"
     ]
    },
    {
     "data": {
      "application/vnd.jupyter.widget-view+json": {
       "model_id": "",
       "version_major": 2,
       "version_minor": 0
      },
      "text/plain": [
       "Training:   0%|          | 0/20 [00:00<?, ?it/s]"
      ]
     },
     "metadata": {},
     "output_type": "display_data"
    },
    {
     "data": {
      "application/vnd.jupyter.widget-view+json": {
       "model_id": "",
       "version_major": 2,
       "version_minor": 0
      },
      "text/plain": [
       "Validating:   0%|          | 0/5 [00:00<?, ?it/s]"
      ]
     },
     "metadata": {},
     "output_type": "display_data"
    },
    {
     "name": "stdout",
     "output_type": "stream",
     "text": [
      "Epoch 32 Summary: Duration: 2.67s\n",
      "  Train Loss: 0.1206, Train Acc: 0.9500\n",
      "  Val Loss:   0.6262, Val Acc:   0.7000\n",
      "\n",
      "Epoch 33/150\n"
     ]
    },
    {
     "data": {
      "application/vnd.jupyter.widget-view+json": {
       "model_id": "",
       "version_major": 2,
       "version_minor": 0
      },
      "text/plain": [
       "Training:   0%|          | 0/20 [00:00<?, ?it/s]"
      ]
     },
     "metadata": {},
     "output_type": "display_data"
    },
    {
     "data": {
      "application/vnd.jupyter.widget-view+json": {
       "model_id": "",
       "version_major": 2,
       "version_minor": 0
      },
      "text/plain": [
       "Validating:   0%|          | 0/5 [00:00<?, ?it/s]"
      ]
     },
     "metadata": {},
     "output_type": "display_data"
    },
    {
     "name": "stdout",
     "output_type": "stream",
     "text": [
      "Epoch 33 Summary: Duration: 2.64s\n",
      "  Train Loss: 0.1824, Train Acc: 0.9000\n",
      "  Val Loss:   0.6854, Val Acc:   0.6500\n",
      "\n",
      "Epoch 34/150\n"
     ]
    },
    {
     "data": {
      "application/vnd.jupyter.widget-view+json": {
       "model_id": "",
       "version_major": 2,
       "version_minor": 0
      },
      "text/plain": [
       "Training:   0%|          | 0/20 [00:00<?, ?it/s]"
      ]
     },
     "metadata": {},
     "output_type": "display_data"
    },
    {
     "data": {
      "application/vnd.jupyter.widget-view+json": {
       "model_id": "",
       "version_major": 2,
       "version_minor": 0
      },
      "text/plain": [
       "Validating:   0%|          | 0/5 [00:00<?, ?it/s]"
      ]
     },
     "metadata": {},
     "output_type": "display_data"
    },
    {
     "name": "stdout",
     "output_type": "stream",
     "text": [
      "Epoch 34 Summary: Duration: 2.64s\n",
      "  Train Loss: 0.0426, Train Acc: 1.0000\n",
      "  Val Loss:   0.6933, Val Acc:   0.6500\n",
      "\n",
      "Epoch 35/150\n"
     ]
    },
    {
     "data": {
      "application/vnd.jupyter.widget-view+json": {
       "model_id": "",
       "version_major": 2,
       "version_minor": 0
      },
      "text/plain": [
       "Training:   0%|          | 0/20 [00:00<?, ?it/s]"
      ]
     },
     "metadata": {},
     "output_type": "display_data"
    },
    {
     "data": {
      "application/vnd.jupyter.widget-view+json": {
       "model_id": "",
       "version_major": 2,
       "version_minor": 0
      },
      "text/plain": [
       "Validating:   0%|          | 0/5 [00:00<?, ?it/s]"
      ]
     },
     "metadata": {},
     "output_type": "display_data"
    },
    {
     "name": "stdout",
     "output_type": "stream",
     "text": [
      "Epoch 35 Summary: Duration: 2.69s\n",
      "  Train Loss: 0.1489, Train Acc: 0.9375\n",
      "  Val Loss:   0.6520, Val Acc:   0.6000\n",
      "\n",
      "Epoch 36/150\n"
     ]
    },
    {
     "data": {
      "application/vnd.jupyter.widget-view+json": {
       "model_id": "",
       "version_major": 2,
       "version_minor": 0
      },
      "text/plain": [
       "Training:   0%|          | 0/20 [00:00<?, ?it/s]"
      ]
     },
     "metadata": {},
     "output_type": "display_data"
    },
    {
     "data": {
      "application/vnd.jupyter.widget-view+json": {
       "model_id": "",
       "version_major": 2,
       "version_minor": 0
      },
      "text/plain": [
       "Validating:   0%|          | 0/5 [00:00<?, ?it/s]"
      ]
     },
     "metadata": {},
     "output_type": "display_data"
    },
    {
     "name": "stdout",
     "output_type": "stream",
     "text": [
      "Epoch 36 Summary: Duration: 2.70s\n",
      "  Train Loss: 0.1270, Train Acc: 0.9500\n",
      "  Val Loss:   0.6389, Val Acc:   0.6000\n",
      "\n",
      "Epoch 37/150\n"
     ]
    },
    {
     "data": {
      "application/vnd.jupyter.widget-view+json": {
       "model_id": "",
       "version_major": 2,
       "version_minor": 0
      },
      "text/plain": [
       "Training:   0%|          | 0/20 [00:00<?, ?it/s]"
      ]
     },
     "metadata": {},
     "output_type": "display_data"
    },
    {
     "data": {
      "application/vnd.jupyter.widget-view+json": {
       "model_id": "",
       "version_major": 2,
       "version_minor": 0
      },
      "text/plain": [
       "Validating:   0%|          | 0/5 [00:00<?, ?it/s]"
      ]
     },
     "metadata": {},
     "output_type": "display_data"
    },
    {
     "name": "stdout",
     "output_type": "stream",
     "text": [
      "Epoch 37 Summary: Duration: 2.65s\n",
      "  Train Loss: 0.1998, Train Acc: 0.8875\n",
      "  Val Loss:   0.6196, Val Acc:   0.7500\n",
      "\n",
      "Epoch 38/150\n"
     ]
    },
    {
     "data": {
      "application/vnd.jupyter.widget-view+json": {
       "model_id": "",
       "version_major": 2,
       "version_minor": 0
      },
      "text/plain": [
       "Training:   0%|          | 0/20 [00:00<?, ?it/s]"
      ]
     },
     "metadata": {},
     "output_type": "display_data"
    },
    {
     "data": {
      "application/vnd.jupyter.widget-view+json": {
       "model_id": "",
       "version_major": 2,
       "version_minor": 0
      },
      "text/plain": [
       "Validating:   0%|          | 0/5 [00:00<?, ?it/s]"
      ]
     },
     "metadata": {},
     "output_type": "display_data"
    },
    {
     "name": "stdout",
     "output_type": "stream",
     "text": [
      "Epoch 38 Summary: Duration: 2.66s\n",
      "  Train Loss: 0.0986, Train Acc: 0.9625\n",
      "  Val Loss:   0.6461, Val Acc:   0.7000\n",
      "\n",
      "Epoch 39/150\n"
     ]
    },
    {
     "data": {
      "application/vnd.jupyter.widget-view+json": {
       "model_id": "",
       "version_major": 2,
       "version_minor": 0
      },
      "text/plain": [
       "Training:   0%|          | 0/20 [00:00<?, ?it/s]"
      ]
     },
     "metadata": {},
     "output_type": "display_data"
    },
    {
     "data": {
      "application/vnd.jupyter.widget-view+json": {
       "model_id": "",
       "version_major": 2,
       "version_minor": 0
      },
      "text/plain": [
       "Validating:   0%|          | 0/5 [00:00<?, ?it/s]"
      ]
     },
     "metadata": {},
     "output_type": "display_data"
    },
    {
     "name": "stdout",
     "output_type": "stream",
     "text": [
      "Epoch 39 Summary: Duration: 2.68s\n",
      "  Train Loss: 0.0959, Train Acc: 0.9750\n",
      "  Val Loss:   0.6438, Val Acc:   0.6500\n",
      "\n",
      "Epoch 40/150\n"
     ]
    },
    {
     "data": {
      "application/vnd.jupyter.widget-view+json": {
       "model_id": "",
       "version_major": 2,
       "version_minor": 0
      },
      "text/plain": [
       "Training:   0%|          | 0/20 [00:00<?, ?it/s]"
      ]
     },
     "metadata": {},
     "output_type": "display_data"
    },
    {
     "data": {
      "application/vnd.jupyter.widget-view+json": {
       "model_id": "",
       "version_major": 2,
       "version_minor": 0
      },
      "text/plain": [
       "Validating:   0%|          | 0/5 [00:00<?, ?it/s]"
      ]
     },
     "metadata": {},
     "output_type": "display_data"
    },
    {
     "name": "stdout",
     "output_type": "stream",
     "text": [
      "Epoch 40 Summary: Duration: 2.65s\n",
      "  Train Loss: 0.1496, Train Acc: 0.9250\n",
      "  Val Loss:   0.6200, Val Acc:   0.7000\n",
      "\n",
      "Epoch 41/150\n"
     ]
    },
    {
     "data": {
      "application/vnd.jupyter.widget-view+json": {
       "model_id": "",
       "version_major": 2,
       "version_minor": 0
      },
      "text/plain": [
       "Training:   0%|          | 0/20 [00:00<?, ?it/s]"
      ]
     },
     "metadata": {},
     "output_type": "display_data"
    },
    {
     "data": {
      "application/vnd.jupyter.widget-view+json": {
       "model_id": "",
       "version_major": 2,
       "version_minor": 0
      },
      "text/plain": [
       "Validating:   0%|          | 0/5 [00:00<?, ?it/s]"
      ]
     },
     "metadata": {},
     "output_type": "display_data"
    },
    {
     "name": "stdout",
     "output_type": "stream",
     "text": [
      "Epoch 41 Summary: Duration: 2.67s\n",
      "  Train Loss: 0.0835, Train Acc: 0.9750\n",
      "  Val Loss:   0.6412, Val Acc:   0.7000\n",
      "\n",
      "Epoch 42/150\n"
     ]
    },
    {
     "data": {
      "application/vnd.jupyter.widget-view+json": {
       "model_id": "",
       "version_major": 2,
       "version_minor": 0
      },
      "text/plain": [
       "Training:   0%|          | 0/20 [00:00<?, ?it/s]"
      ]
     },
     "metadata": {},
     "output_type": "display_data"
    },
    {
     "data": {
      "application/vnd.jupyter.widget-view+json": {
       "model_id": "",
       "version_major": 2,
       "version_minor": 0
      },
      "text/plain": [
       "Validating:   0%|          | 0/5 [00:00<?, ?it/s]"
      ]
     },
     "metadata": {},
     "output_type": "display_data"
    },
    {
     "name": "stdout",
     "output_type": "stream",
     "text": [
      "Epoch 42 Summary: Duration: 2.66s\n",
      "  Train Loss: 0.2455, Train Acc: 0.8500\n",
      "  Val Loss:   0.5741, Val Acc:   0.7000\n",
      "\n",
      "Epoch 43/150\n"
     ]
    },
    {
     "data": {
      "application/vnd.jupyter.widget-view+json": {
       "model_id": "",
       "version_major": 2,
       "version_minor": 0
      },
      "text/plain": [
       "Training:   0%|          | 0/20 [00:00<?, ?it/s]"
      ]
     },
     "metadata": {},
     "output_type": "display_data"
    },
    {
     "data": {
      "application/vnd.jupyter.widget-view+json": {
       "model_id": "",
       "version_major": 2,
       "version_minor": 0
      },
      "text/plain": [
       "Validating:   0%|          | 0/5 [00:00<?, ?it/s]"
      ]
     },
     "metadata": {},
     "output_type": "display_data"
    },
    {
     "name": "stdout",
     "output_type": "stream",
     "text": [
      "Epoch 43 Summary: Duration: 2.68s\n",
      "  Train Loss: 0.1715, Train Acc: 0.9250\n",
      "  Val Loss:   0.5872, Val Acc:   0.7500\n",
      "\n",
      "Epoch 44/150\n"
     ]
    },
    {
     "data": {
      "application/vnd.jupyter.widget-view+json": {
       "model_id": "",
       "version_major": 2,
       "version_minor": 0
      },
      "text/plain": [
       "Training:   0%|          | 0/20 [00:00<?, ?it/s]"
      ]
     },
     "metadata": {},
     "output_type": "display_data"
    },
    {
     "data": {
      "application/vnd.jupyter.widget-view+json": {
       "model_id": "",
       "version_major": 2,
       "version_minor": 0
      },
      "text/plain": [
       "Validating:   0%|          | 0/5 [00:00<?, ?it/s]"
      ]
     },
     "metadata": {},
     "output_type": "display_data"
    },
    {
     "name": "stdout",
     "output_type": "stream",
     "text": [
      "Epoch 44 Summary: Duration: 2.67s\n",
      "  Train Loss: 0.2622, Train Acc: 0.8750\n",
      "  Val Loss:   0.6427, Val Acc:   0.7500\n",
      "\n",
      "Epoch 45/150\n"
     ]
    },
    {
     "data": {
      "application/vnd.jupyter.widget-view+json": {
       "model_id": "",
       "version_major": 2,
       "version_minor": 0
      },
      "text/plain": [
       "Training:   0%|          | 0/20 [00:00<?, ?it/s]"
      ]
     },
     "metadata": {},
     "output_type": "display_data"
    },
    {
     "data": {
      "application/vnd.jupyter.widget-view+json": {
       "model_id": "",
       "version_major": 2,
       "version_minor": 0
      },
      "text/plain": [
       "Validating:   0%|          | 0/5 [00:00<?, ?it/s]"
      ]
     },
     "metadata": {},
     "output_type": "display_data"
    },
    {
     "name": "stdout",
     "output_type": "stream",
     "text": [
      "Epoch 45 Summary: Duration: 2.67s\n",
      "  Train Loss: 0.0939, Train Acc: 0.9750\n",
      "  Val Loss:   0.6347, Val Acc:   0.7500\n",
      "\n",
      "Epoch 46/150\n"
     ]
    },
    {
     "data": {
      "application/vnd.jupyter.widget-view+json": {
       "model_id": "",
       "version_major": 2,
       "version_minor": 0
      },
      "text/plain": [
       "Training:   0%|          | 0/20 [00:00<?, ?it/s]"
      ]
     },
     "metadata": {},
     "output_type": "display_data"
    },
    {
     "data": {
      "application/vnd.jupyter.widget-view+json": {
       "model_id": "",
       "version_major": 2,
       "version_minor": 0
      },
      "text/plain": [
       "Validating:   0%|          | 0/5 [00:00<?, ?it/s]"
      ]
     },
     "metadata": {},
     "output_type": "display_data"
    },
    {
     "name": "stdout",
     "output_type": "stream",
     "text": [
      "Epoch 46 Summary: Duration: 2.73s\n",
      "  Train Loss: 0.1101, Train Acc: 0.9500\n",
      "  Val Loss:   0.6178, Val Acc:   0.6000\n",
      "\n",
      "Epoch 47/150\n"
     ]
    },
    {
     "data": {
      "application/vnd.jupyter.widget-view+json": {
       "model_id": "",
       "version_major": 2,
       "version_minor": 0
      },
      "text/plain": [
       "Training:   0%|          | 0/20 [00:00<?, ?it/s]"
      ]
     },
     "metadata": {},
     "output_type": "display_data"
    },
    {
     "data": {
      "application/vnd.jupyter.widget-view+json": {
       "model_id": "",
       "version_major": 2,
       "version_minor": 0
      },
      "text/plain": [
       "Validating:   0%|          | 0/5 [00:00<?, ?it/s]"
      ]
     },
     "metadata": {},
     "output_type": "display_data"
    },
    {
     "name": "stdout",
     "output_type": "stream",
     "text": [
      "Epoch 47 Summary: Duration: 2.79s\n",
      "  Train Loss: 0.1478, Train Acc: 0.9250\n",
      "  Val Loss:   0.6646, Val Acc:   0.7000\n",
      "\n",
      "Epoch 48/150\n"
     ]
    },
    {
     "data": {
      "application/vnd.jupyter.widget-view+json": {
       "model_id": "",
       "version_major": 2,
       "version_minor": 0
      },
      "text/plain": [
       "Training:   0%|          | 0/20 [00:00<?, ?it/s]"
      ]
     },
     "metadata": {},
     "output_type": "display_data"
    },
    {
     "data": {
      "application/vnd.jupyter.widget-view+json": {
       "model_id": "",
       "version_major": 2,
       "version_minor": 0
      },
      "text/plain": [
       "Validating:   0%|          | 0/5 [00:00<?, ?it/s]"
      ]
     },
     "metadata": {},
     "output_type": "display_data"
    },
    {
     "name": "stdout",
     "output_type": "stream",
     "text": [
      "Epoch 48 Summary: Duration: 2.85s\n",
      "  Train Loss: 0.1591, Train Acc: 0.9375\n",
      "  Val Loss:   0.6408, Val Acc:   0.7000\n",
      "\n",
      "Epoch 49/150\n"
     ]
    },
    {
     "data": {
      "application/vnd.jupyter.widget-view+json": {
       "model_id": "",
       "version_major": 2,
       "version_minor": 0
      },
      "text/plain": [
       "Training:   0%|          | 0/20 [00:00<?, ?it/s]"
      ]
     },
     "metadata": {},
     "output_type": "display_data"
    },
    {
     "data": {
      "application/vnd.jupyter.widget-view+json": {
       "model_id": "",
       "version_major": 2,
       "version_minor": 0
      },
      "text/plain": [
       "Validating:   0%|          | 0/5 [00:00<?, ?it/s]"
      ]
     },
     "metadata": {},
     "output_type": "display_data"
    },
    {
     "name": "stdout",
     "output_type": "stream",
     "text": [
      "Epoch 49 Summary: Duration: 2.94s\n",
      "  Train Loss: 0.1932, Train Acc: 0.9250\n",
      "  Val Loss:   0.6150, Val Acc:   0.5500\n",
      "\n",
      "Epoch 50/150\n"
     ]
    },
    {
     "data": {
      "application/vnd.jupyter.widget-view+json": {
       "model_id": "",
       "version_major": 2,
       "version_minor": 0
      },
      "text/plain": [
       "Training:   0%|          | 0/20 [00:00<?, ?it/s]"
      ]
     },
     "metadata": {},
     "output_type": "display_data"
    },
    {
     "data": {
      "application/vnd.jupyter.widget-view+json": {
       "model_id": "",
       "version_major": 2,
       "version_minor": 0
      },
      "text/plain": [
       "Validating:   0%|          | 0/5 [00:00<?, ?it/s]"
      ]
     },
     "metadata": {},
     "output_type": "display_data"
    },
    {
     "name": "stdout",
     "output_type": "stream",
     "text": [
      "Epoch 50 Summary: Duration: 2.87s\n",
      "  Train Loss: 0.0943, Train Acc: 0.9750\n",
      "  Val Loss:   0.6383, Val Acc:   0.7000\n",
      "\n",
      "Epoch 51/150\n"
     ]
    },
    {
     "data": {
      "application/vnd.jupyter.widget-view+json": {
       "model_id": "",
       "version_major": 2,
       "version_minor": 0
      },
      "text/plain": [
       "Training:   0%|          | 0/20 [00:00<?, ?it/s]"
      ]
     },
     "metadata": {},
     "output_type": "display_data"
    },
    {
     "data": {
      "application/vnd.jupyter.widget-view+json": {
       "model_id": "",
       "version_major": 2,
       "version_minor": 0
      },
      "text/plain": [
       "Validating:   0%|          | 0/5 [00:00<?, ?it/s]"
      ]
     },
     "metadata": {},
     "output_type": "display_data"
    },
    {
     "name": "stdout",
     "output_type": "stream",
     "text": [
      "Epoch 51 Summary: Duration: 2.66s\n",
      "  Train Loss: 0.0729, Train Acc: 0.9875\n",
      "  Val Loss:   0.6495, Val Acc:   0.7000\n",
      "\n",
      "Epoch 52/150\n"
     ]
    },
    {
     "data": {
      "application/vnd.jupyter.widget-view+json": {
       "model_id": "",
       "version_major": 2,
       "version_minor": 0
      },
      "text/plain": [
       "Training:   0%|          | 0/20 [00:00<?, ?it/s]"
      ]
     },
     "metadata": {},
     "output_type": "display_data"
    },
    {
     "data": {
      "application/vnd.jupyter.widget-view+json": {
       "model_id": "",
       "version_major": 2,
       "version_minor": 0
      },
      "text/plain": [
       "Validating:   0%|          | 0/5 [00:00<?, ?it/s]"
      ]
     },
     "metadata": {},
     "output_type": "display_data"
    },
    {
     "name": "stdout",
     "output_type": "stream",
     "text": [
      "Epoch 52 Summary: Duration: 2.74s\n",
      "  Train Loss: 0.1778, Train Acc: 0.9125\n",
      "  Val Loss:   0.6620, Val Acc:   0.5500\n",
      "\n",
      "Epoch 53/150\n"
     ]
    },
    {
     "data": {
      "application/vnd.jupyter.widget-view+json": {
       "model_id": "",
       "version_major": 2,
       "version_minor": 0
      },
      "text/plain": [
       "Training:   0%|          | 0/20 [00:00<?, ?it/s]"
      ]
     },
     "metadata": {},
     "output_type": "display_data"
    },
    {
     "data": {
      "application/vnd.jupyter.widget-view+json": {
       "model_id": "",
       "version_major": 2,
       "version_minor": 0
      },
      "text/plain": [
       "Validating:   0%|          | 0/5 [00:00<?, ?it/s]"
      ]
     },
     "metadata": {},
     "output_type": "display_data"
    },
    {
     "name": "stdout",
     "output_type": "stream",
     "text": [
      "Epoch 53 Summary: Duration: 3.20s\n",
      "  Train Loss: 0.2463, Train Acc: 0.8875\n",
      "  Val Loss:   0.6732, Val Acc:   0.7000\n",
      "\n",
      "Epoch 54/150\n"
     ]
    },
    {
     "data": {
      "application/vnd.jupyter.widget-view+json": {
       "model_id": "",
       "version_major": 2,
       "version_minor": 0
      },
      "text/plain": [
       "Training:   0%|          | 0/20 [00:00<?, ?it/s]"
      ]
     },
     "metadata": {},
     "output_type": "display_data"
    },
    {
     "data": {
      "application/vnd.jupyter.widget-view+json": {
       "model_id": "",
       "version_major": 2,
       "version_minor": 0
      },
      "text/plain": [
       "Validating:   0%|          | 0/5 [00:00<?, ?it/s]"
      ]
     },
     "metadata": {},
     "output_type": "display_data"
    },
    {
     "name": "stdout",
     "output_type": "stream",
     "text": [
      "Epoch 54 Summary: Duration: 2.83s\n",
      "  Train Loss: 0.0862, Train Acc: 0.9625\n",
      "  Val Loss:   0.6509, Val Acc:   0.6000\n",
      "\n",
      "Epoch 55/150\n"
     ]
    },
    {
     "data": {
      "application/vnd.jupyter.widget-view+json": {
       "model_id": "",
       "version_major": 2,
       "version_minor": 0
      },
      "text/plain": [
       "Training:   0%|          | 0/20 [00:00<?, ?it/s]"
      ]
     },
     "metadata": {},
     "output_type": "display_data"
    },
    {
     "data": {
      "application/vnd.jupyter.widget-view+json": {
       "model_id": "",
       "version_major": 2,
       "version_minor": 0
      },
      "text/plain": [
       "Validating:   0%|          | 0/5 [00:00<?, ?it/s]"
      ]
     },
     "metadata": {},
     "output_type": "display_data"
    },
    {
     "name": "stdout",
     "output_type": "stream",
     "text": [
      "Epoch 55 Summary: Duration: 2.68s\n",
      "  Train Loss: 0.0475, Train Acc: 1.0000\n",
      "  Val Loss:   0.6629, Val Acc:   0.7000\n",
      "\n",
      "Epoch 56/150\n"
     ]
    },
    {
     "data": {
      "application/vnd.jupyter.widget-view+json": {
       "model_id": "",
       "version_major": 2,
       "version_minor": 0
      },
      "text/plain": [
       "Training:   0%|          | 0/20 [00:00<?, ?it/s]"
      ]
     },
     "metadata": {},
     "output_type": "display_data"
    },
    {
     "data": {
      "application/vnd.jupyter.widget-view+json": {
       "model_id": "",
       "version_major": 2,
       "version_minor": 0
      },
      "text/plain": [
       "Validating:   0%|          | 0/5 [00:00<?, ?it/s]"
      ]
     },
     "metadata": {},
     "output_type": "display_data"
    },
    {
     "name": "stdout",
     "output_type": "stream",
     "text": [
      "Epoch 56 Summary: Duration: 2.68s\n",
      "  Train Loss: 0.1662, Train Acc: 0.9250\n",
      "  Val Loss:   0.6375, Val Acc:   0.7000\n",
      "\n",
      "Epoch 57/150\n"
     ]
    },
    {
     "data": {
      "application/vnd.jupyter.widget-view+json": {
       "model_id": "",
       "version_major": 2,
       "version_minor": 0
      },
      "text/plain": [
       "Training:   0%|          | 0/20 [00:00<?, ?it/s]"
      ]
     },
     "metadata": {},
     "output_type": "display_data"
    },
    {
     "data": {
      "application/vnd.jupyter.widget-view+json": {
       "model_id": "",
       "version_major": 2,
       "version_minor": 0
      },
      "text/plain": [
       "Validating:   0%|          | 0/5 [00:00<?, ?it/s]"
      ]
     },
     "metadata": {},
     "output_type": "display_data"
    },
    {
     "name": "stdout",
     "output_type": "stream",
     "text": [
      "Epoch 57 Summary: Duration: 2.66s\n",
      "  Train Loss: 0.0732, Train Acc: 0.9750\n",
      "  Val Loss:   0.6257, Val Acc:   0.7000\n",
      "\n",
      "Epoch 58/150\n"
     ]
    },
    {
     "data": {
      "application/vnd.jupyter.widget-view+json": {
       "model_id": "",
       "version_major": 2,
       "version_minor": 0
      },
      "text/plain": [
       "Training:   0%|          | 0/20 [00:00<?, ?it/s]"
      ]
     },
     "metadata": {},
     "output_type": "display_data"
    },
    {
     "data": {
      "application/vnd.jupyter.widget-view+json": {
       "model_id": "",
       "version_major": 2,
       "version_minor": 0
      },
      "text/plain": [
       "Validating:   0%|          | 0/5 [00:00<?, ?it/s]"
      ]
     },
     "metadata": {},
     "output_type": "display_data"
    },
    {
     "name": "stdout",
     "output_type": "stream",
     "text": [
      "Epoch 58 Summary: Duration: 2.68s\n",
      "  Train Loss: 0.0791, Train Acc: 0.9875\n",
      "  Val Loss:   0.6179, Val Acc:   0.7500\n",
      "\n",
      "Epoch 59/150\n"
     ]
    },
    {
     "data": {
      "application/vnd.jupyter.widget-view+json": {
       "model_id": "",
       "version_major": 2,
       "version_minor": 0
      },
      "text/plain": [
       "Training:   0%|          | 0/20 [00:00<?, ?it/s]"
      ]
     },
     "metadata": {},
     "output_type": "display_data"
    },
    {
     "data": {
      "application/vnd.jupyter.widget-view+json": {
       "model_id": "",
       "version_major": 2,
       "version_minor": 0
      },
      "text/plain": [
       "Validating:   0%|          | 0/5 [00:00<?, ?it/s]"
      ]
     },
     "metadata": {},
     "output_type": "display_data"
    },
    {
     "name": "stdout",
     "output_type": "stream",
     "text": [
      "Epoch 59 Summary: Duration: 2.69s\n",
      "  Train Loss: 0.1490, Train Acc: 0.9375\n",
      "  Val Loss:   0.6792, Val Acc:   0.6500\n",
      "\n",
      "Epoch 60/150\n"
     ]
    },
    {
     "data": {
      "application/vnd.jupyter.widget-view+json": {
       "model_id": "",
       "version_major": 2,
       "version_minor": 0
      },
      "text/plain": [
       "Training:   0%|          | 0/20 [00:00<?, ?it/s]"
      ]
     },
     "metadata": {},
     "output_type": "display_data"
    },
    {
     "data": {
      "application/vnd.jupyter.widget-view+json": {
       "model_id": "",
       "version_major": 2,
       "version_minor": 0
      },
      "text/plain": [
       "Validating:   0%|          | 0/5 [00:00<?, ?it/s]"
      ]
     },
     "metadata": {},
     "output_type": "display_data"
    },
    {
     "name": "stdout",
     "output_type": "stream",
     "text": [
      "Epoch 60 Summary: Duration: 2.66s\n",
      "  Train Loss: 0.1568, Train Acc: 0.9250\n",
      "  Val Loss:   0.6594, Val Acc:   0.5000\n",
      "\n",
      "Epoch 61/150\n"
     ]
    },
    {
     "data": {
      "application/vnd.jupyter.widget-view+json": {
       "model_id": "",
       "version_major": 2,
       "version_minor": 0
      },
      "text/plain": [
       "Training:   0%|          | 0/20 [00:00<?, ?it/s]"
      ]
     },
     "metadata": {},
     "output_type": "display_data"
    },
    {
     "data": {
      "application/vnd.jupyter.widget-view+json": {
       "model_id": "",
       "version_major": 2,
       "version_minor": 0
      },
      "text/plain": [
       "Validating:   0%|          | 0/5 [00:00<?, ?it/s]"
      ]
     },
     "metadata": {},
     "output_type": "display_data"
    },
    {
     "name": "stdout",
     "output_type": "stream",
     "text": [
      "Epoch 61 Summary: Duration: 2.65s\n",
      "  Train Loss: 0.1593, Train Acc: 0.9375\n",
      "  Val Loss:   0.7099, Val Acc:   0.6500\n",
      "\n",
      "Epoch 62/150\n"
     ]
    },
    {
     "data": {
      "application/vnd.jupyter.widget-view+json": {
       "model_id": "",
       "version_major": 2,
       "version_minor": 0
      },
      "text/plain": [
       "Training:   0%|          | 0/20 [00:00<?, ?it/s]"
      ]
     },
     "metadata": {},
     "output_type": "display_data"
    },
    {
     "data": {
      "application/vnd.jupyter.widget-view+json": {
       "model_id": "",
       "version_major": 2,
       "version_minor": 0
      },
      "text/plain": [
       "Validating:   0%|          | 0/5 [00:00<?, ?it/s]"
      ]
     },
     "metadata": {},
     "output_type": "display_data"
    },
    {
     "name": "stdout",
     "output_type": "stream",
     "text": [
      "Epoch 62 Summary: Duration: 2.69s\n",
      "  Train Loss: 0.2222, Train Acc: 0.9125\n",
      "  Val Loss:   0.7360, Val Acc:   0.5500\n",
      "\n",
      "Epoch 63/150\n"
     ]
    },
    {
     "data": {
      "application/vnd.jupyter.widget-view+json": {
       "model_id": "",
       "version_major": 2,
       "version_minor": 0
      },
      "text/plain": [
       "Training:   0%|          | 0/20 [00:00<?, ?it/s]"
      ]
     },
     "metadata": {},
     "output_type": "display_data"
    },
    {
     "data": {
      "application/vnd.jupyter.widget-view+json": {
       "model_id": "",
       "version_major": 2,
       "version_minor": 0
      },
      "text/plain": [
       "Validating:   0%|          | 0/5 [00:00<?, ?it/s]"
      ]
     },
     "metadata": {},
     "output_type": "display_data"
    },
    {
     "name": "stdout",
     "output_type": "stream",
     "text": [
      "Epoch 63 Summary: Duration: 2.65s\n",
      "  Train Loss: 0.0925, Train Acc: 0.9750\n",
      "  Val Loss:   0.6668, Val Acc:   0.6000\n",
      "\n",
      "Epoch 64/150\n"
     ]
    },
    {
     "data": {
      "application/vnd.jupyter.widget-view+json": {
       "model_id": "",
       "version_major": 2,
       "version_minor": 0
      },
      "text/plain": [
       "Training:   0%|          | 0/20 [00:00<?, ?it/s]"
      ]
     },
     "metadata": {},
     "output_type": "display_data"
    },
    {
     "data": {
      "application/vnd.jupyter.widget-view+json": {
       "model_id": "",
       "version_major": 2,
       "version_minor": 0
      },
      "text/plain": [
       "Validating:   0%|          | 0/5 [00:00<?, ?it/s]"
      ]
     },
     "metadata": {},
     "output_type": "display_data"
    },
    {
     "name": "stdout",
     "output_type": "stream",
     "text": [
      "Epoch 64 Summary: Duration: 2.72s\n",
      "  Train Loss: 0.0924, Train Acc: 0.9750\n",
      "  Val Loss:   0.5982, Val Acc:   0.7000\n",
      "\n",
      "Epoch 65/150\n"
     ]
    },
    {
     "data": {
      "application/vnd.jupyter.widget-view+json": {
       "model_id": "",
       "version_major": 2,
       "version_minor": 0
      },
      "text/plain": [
       "Training:   0%|          | 0/20 [00:00<?, ?it/s]"
      ]
     },
     "metadata": {},
     "output_type": "display_data"
    },
    {
     "data": {
      "application/vnd.jupyter.widget-view+json": {
       "model_id": "",
       "version_major": 2,
       "version_minor": 0
      },
      "text/plain": [
       "Validating:   0%|          | 0/5 [00:00<?, ?it/s]"
      ]
     },
     "metadata": {},
     "output_type": "display_data"
    },
    {
     "name": "stdout",
     "output_type": "stream",
     "text": [
      "Epoch 65 Summary: Duration: 2.67s\n",
      "  Train Loss: 0.1457, Train Acc: 0.9250\n",
      "  Val Loss:   0.6185, Val Acc:   0.7000\n",
      "\n",
      "Epoch 66/150\n"
     ]
    },
    {
     "data": {
      "application/vnd.jupyter.widget-view+json": {
       "model_id": "",
       "version_major": 2,
       "version_minor": 0
      },
      "text/plain": [
       "Training:   0%|          | 0/20 [00:00<?, ?it/s]"
      ]
     },
     "metadata": {},
     "output_type": "display_data"
    },
    {
     "data": {
      "application/vnd.jupyter.widget-view+json": {
       "model_id": "",
       "version_major": 2,
       "version_minor": 0
      },
      "text/plain": [
       "Validating:   0%|          | 0/5 [00:00<?, ?it/s]"
      ]
     },
     "metadata": {},
     "output_type": "display_data"
    },
    {
     "name": "stdout",
     "output_type": "stream",
     "text": [
      "Epoch 66 Summary: Duration: 2.63s\n",
      "  Train Loss: 0.1245, Train Acc: 0.9500\n",
      "  Val Loss:   0.6437, Val Acc:   0.6000\n",
      "\n",
      "Epoch 67/150\n"
     ]
    },
    {
     "data": {
      "application/vnd.jupyter.widget-view+json": {
       "model_id": "",
       "version_major": 2,
       "version_minor": 0
      },
      "text/plain": [
       "Training:   0%|          | 0/20 [00:00<?, ?it/s]"
      ]
     },
     "metadata": {},
     "output_type": "display_data"
    },
    {
     "data": {
      "application/vnd.jupyter.widget-view+json": {
       "model_id": "",
       "version_major": 2,
       "version_minor": 0
      },
      "text/plain": [
       "Validating:   0%|          | 0/5 [00:00<?, ?it/s]"
      ]
     },
     "metadata": {},
     "output_type": "display_data"
    },
    {
     "name": "stdout",
     "output_type": "stream",
     "text": [
      "Epoch 67 Summary: Duration: 2.63s\n",
      "  Train Loss: 0.2173, Train Acc: 0.9125\n",
      "  Val Loss:   0.6368, Val Acc:   0.6500\n",
      "\n",
      "Epoch 68/150\n"
     ]
    },
    {
     "data": {
      "application/vnd.jupyter.widget-view+json": {
       "model_id": "",
       "version_major": 2,
       "version_minor": 0
      },
      "text/plain": [
       "Training:   0%|          | 0/20 [00:00<?, ?it/s]"
      ]
     },
     "metadata": {},
     "output_type": "display_data"
    },
    {
     "data": {
      "application/vnd.jupyter.widget-view+json": {
       "model_id": "",
       "version_major": 2,
       "version_minor": 0
      },
      "text/plain": [
       "Validating:   0%|          | 0/5 [00:00<?, ?it/s]"
      ]
     },
     "metadata": {},
     "output_type": "display_data"
    },
    {
     "name": "stdout",
     "output_type": "stream",
     "text": [
      "Epoch 68 Summary: Duration: 2.69s\n",
      "  Train Loss: 0.1873, Train Acc: 0.9125\n",
      "  Val Loss:   0.6831, Val Acc:   0.6500\n",
      "\n",
      "Epoch 69/150\n"
     ]
    },
    {
     "data": {
      "application/vnd.jupyter.widget-view+json": {
       "model_id": "",
       "version_major": 2,
       "version_minor": 0
      },
      "text/plain": [
       "Training:   0%|          | 0/20 [00:00<?, ?it/s]"
      ]
     },
     "metadata": {},
     "output_type": "display_data"
    },
    {
     "data": {
      "application/vnd.jupyter.widget-view+json": {
       "model_id": "",
       "version_major": 2,
       "version_minor": 0
      },
      "text/plain": [
       "Validating:   0%|          | 0/5 [00:00<?, ?it/s]"
      ]
     },
     "metadata": {},
     "output_type": "display_data"
    },
    {
     "name": "stdout",
     "output_type": "stream",
     "text": [
      "Epoch 69 Summary: Duration: 2.68s\n",
      "  Train Loss: 0.1225, Train Acc: 0.9250\n",
      "  Val Loss:   0.6743, Val Acc:   0.6000\n",
      "\n",
      "Epoch 70/150\n"
     ]
    },
    {
     "data": {
      "application/vnd.jupyter.widget-view+json": {
       "model_id": "",
       "version_major": 2,
       "version_minor": 0
      },
      "text/plain": [
       "Training:   0%|          | 0/20 [00:00<?, ?it/s]"
      ]
     },
     "metadata": {},
     "output_type": "display_data"
    },
    {
     "data": {
      "application/vnd.jupyter.widget-view+json": {
       "model_id": "",
       "version_major": 2,
       "version_minor": 0
      },
      "text/plain": [
       "Validating:   0%|          | 0/5 [00:00<?, ?it/s]"
      ]
     },
     "metadata": {},
     "output_type": "display_data"
    },
    {
     "name": "stdout",
     "output_type": "stream",
     "text": [
      "Epoch 70 Summary: Duration: 2.69s\n",
      "  Train Loss: 0.2103, Train Acc: 0.9125\n",
      "  Val Loss:   0.7581, Val Acc:   0.5500\n",
      "\n",
      "Epoch 71/150\n"
     ]
    },
    {
     "data": {
      "application/vnd.jupyter.widget-view+json": {
       "model_id": "",
       "version_major": 2,
       "version_minor": 0
      },
      "text/plain": [
       "Training:   0%|          | 0/20 [00:00<?, ?it/s]"
      ]
     },
     "metadata": {},
     "output_type": "display_data"
    },
    {
     "data": {
      "application/vnd.jupyter.widget-view+json": {
       "model_id": "",
       "version_major": 2,
       "version_minor": 0
      },
      "text/plain": [
       "Validating:   0%|          | 0/5 [00:00<?, ?it/s]"
      ]
     },
     "metadata": {},
     "output_type": "display_data"
    },
    {
     "name": "stdout",
     "output_type": "stream",
     "text": [
      "Epoch 71 Summary: Duration: 2.65s\n",
      "  Train Loss: 0.2403, Train Acc: 0.9125\n",
      "  Val Loss:   0.6287, Val Acc:   0.7500\n",
      "\n",
      "Epoch 72/150\n"
     ]
    },
    {
     "data": {
      "application/vnd.jupyter.widget-view+json": {
       "model_id": "",
       "version_major": 2,
       "version_minor": 0
      },
      "text/plain": [
       "Training:   0%|          | 0/20 [00:00<?, ?it/s]"
      ]
     },
     "metadata": {},
     "output_type": "display_data"
    },
    {
     "data": {
      "application/vnd.jupyter.widget-view+json": {
       "model_id": "",
       "version_major": 2,
       "version_minor": 0
      },
      "text/plain": [
       "Validating:   0%|          | 0/5 [00:00<?, ?it/s]"
      ]
     },
     "metadata": {},
     "output_type": "display_data"
    },
    {
     "name": "stdout",
     "output_type": "stream",
     "text": [
      "Epoch 72 Summary: Duration: 2.63s\n",
      "  Train Loss: 0.0923, Train Acc: 0.9625\n",
      "  Val Loss:   0.6334, Val Acc:   0.7500\n",
      "\n",
      "Epoch 73/150\n"
     ]
    },
    {
     "data": {
      "application/vnd.jupyter.widget-view+json": {
       "model_id": "",
       "version_major": 2,
       "version_minor": 0
      },
      "text/plain": [
       "Training:   0%|          | 0/20 [00:00<?, ?it/s]"
      ]
     },
     "metadata": {},
     "output_type": "display_data"
    },
    {
     "data": {
      "application/vnd.jupyter.widget-view+json": {
       "model_id": "",
       "version_major": 2,
       "version_minor": 0
      },
      "text/plain": [
       "Validating:   0%|          | 0/5 [00:00<?, ?it/s]"
      ]
     },
     "metadata": {},
     "output_type": "display_data"
    },
    {
     "name": "stdout",
     "output_type": "stream",
     "text": [
      "Epoch 73 Summary: Duration: 2.62s\n",
      "  Train Loss: 0.0678, Train Acc: 0.9750\n",
      "  Val Loss:   0.6614, Val Acc:   0.6500\n",
      "\n",
      "Epoch 74/150\n"
     ]
    },
    {
     "data": {
      "application/vnd.jupyter.widget-view+json": {
       "model_id": "",
       "version_major": 2,
       "version_minor": 0
      },
      "text/plain": [
       "Training:   0%|          | 0/20 [00:00<?, ?it/s]"
      ]
     },
     "metadata": {},
     "output_type": "display_data"
    },
    {
     "data": {
      "application/vnd.jupyter.widget-view+json": {
       "model_id": "",
       "version_major": 2,
       "version_minor": 0
      },
      "text/plain": [
       "Validating:   0%|          | 0/5 [00:00<?, ?it/s]"
      ]
     },
     "metadata": {},
     "output_type": "display_data"
    },
    {
     "name": "stdout",
     "output_type": "stream",
     "text": [
      "Epoch 74 Summary: Duration: 2.63s\n",
      "  Train Loss: 0.0487, Train Acc: 1.0000\n",
      "  Val Loss:   0.6831, Val Acc:   0.6500\n",
      "\n",
      "Epoch 75/150\n"
     ]
    },
    {
     "data": {
      "application/vnd.jupyter.widget-view+json": {
       "model_id": "",
       "version_major": 2,
       "version_minor": 0
      },
      "text/plain": [
       "Training:   0%|          | 0/20 [00:00<?, ?it/s]"
      ]
     },
     "metadata": {},
     "output_type": "display_data"
    },
    {
     "data": {
      "application/vnd.jupyter.widget-view+json": {
       "model_id": "",
       "version_major": 2,
       "version_minor": 0
      },
      "text/plain": [
       "Validating:   0%|          | 0/5 [00:00<?, ?it/s]"
      ]
     },
     "metadata": {},
     "output_type": "display_data"
    },
    {
     "name": "stdout",
     "output_type": "stream",
     "text": [
      "Epoch 75 Summary: Duration: 2.65s\n",
      "  Train Loss: 0.1066, Train Acc: 0.9625\n",
      "  Val Loss:   0.7098, Val Acc:   0.6000\n",
      "\n",
      "Epoch 76/150\n"
     ]
    },
    {
     "data": {
      "application/vnd.jupyter.widget-view+json": {
       "model_id": "",
       "version_major": 2,
       "version_minor": 0
      },
      "text/plain": [
       "Training:   0%|          | 0/20 [00:00<?, ?it/s]"
      ]
     },
     "metadata": {},
     "output_type": "display_data"
    },
    {
     "data": {
      "application/vnd.jupyter.widget-view+json": {
       "model_id": "",
       "version_major": 2,
       "version_minor": 0
      },
      "text/plain": [
       "Validating:   0%|          | 0/5 [00:00<?, ?it/s]"
      ]
     },
     "metadata": {},
     "output_type": "display_data"
    },
    {
     "name": "stdout",
     "output_type": "stream",
     "text": [
      "Epoch 76 Summary: Duration: 2.66s\n",
      "  Train Loss: 0.1098, Train Acc: 0.9500\n",
      "  Val Loss:   0.6872, Val Acc:   0.5500\n",
      "\n",
      "Epoch 77/150\n"
     ]
    },
    {
     "data": {
      "application/vnd.jupyter.widget-view+json": {
       "model_id": "",
       "version_major": 2,
       "version_minor": 0
      },
      "text/plain": [
       "Training:   0%|          | 0/20 [00:00<?, ?it/s]"
      ]
     },
     "metadata": {},
     "output_type": "display_data"
    },
    {
     "data": {
      "application/vnd.jupyter.widget-view+json": {
       "model_id": "",
       "version_major": 2,
       "version_minor": 0
      },
      "text/plain": [
       "Validating:   0%|          | 0/5 [00:00<?, ?it/s]"
      ]
     },
     "metadata": {},
     "output_type": "display_data"
    },
    {
     "name": "stdout",
     "output_type": "stream",
     "text": [
      "Epoch 77 Summary: Duration: 2.66s\n",
      "  Train Loss: 0.1119, Train Acc: 0.9375\n",
      "  Val Loss:   0.6676, Val Acc:   0.5500\n",
      "\n",
      "Epoch 78/150\n"
     ]
    },
    {
     "data": {
      "application/vnd.jupyter.widget-view+json": {
       "model_id": "",
       "version_major": 2,
       "version_minor": 0
      },
      "text/plain": [
       "Training:   0%|          | 0/20 [00:00<?, ?it/s]"
      ]
     },
     "metadata": {},
     "output_type": "display_data"
    },
    {
     "data": {
      "application/vnd.jupyter.widget-view+json": {
       "model_id": "",
       "version_major": 2,
       "version_minor": 0
      },
      "text/plain": [
       "Validating:   0%|          | 0/5 [00:00<?, ?it/s]"
      ]
     },
     "metadata": {},
     "output_type": "display_data"
    },
    {
     "name": "stdout",
     "output_type": "stream",
     "text": [
      "Epoch 78 Summary: Duration: 2.64s\n",
      "  Train Loss: 0.1626, Train Acc: 0.9250\n",
      "  Val Loss:   0.7195, Val Acc:   0.6000\n",
      "\n",
      "Epoch 79/150\n"
     ]
    },
    {
     "data": {
      "application/vnd.jupyter.widget-view+json": {
       "model_id": "",
       "version_major": 2,
       "version_minor": 0
      },
      "text/plain": [
       "Training:   0%|          | 0/20 [00:00<?, ?it/s]"
      ]
     },
     "metadata": {},
     "output_type": "display_data"
    },
    {
     "data": {
      "application/vnd.jupyter.widget-view+json": {
       "model_id": "",
       "version_major": 2,
       "version_minor": 0
      },
      "text/plain": [
       "Validating:   0%|          | 0/5 [00:00<?, ?it/s]"
      ]
     },
     "metadata": {},
     "output_type": "display_data"
    },
    {
     "name": "stdout",
     "output_type": "stream",
     "text": [
      "Epoch 79 Summary: Duration: 2.63s\n",
      "  Train Loss: 0.0601, Train Acc: 0.9750\n",
      "  Val Loss:   0.7027, Val Acc:   0.5500\n",
      "\n",
      "Epoch 80/150\n"
     ]
    },
    {
     "data": {
      "application/vnd.jupyter.widget-view+json": {
       "model_id": "",
       "version_major": 2,
       "version_minor": 0
      },
      "text/plain": [
       "Training:   0%|          | 0/20 [00:00<?, ?it/s]"
      ]
     },
     "metadata": {},
     "output_type": "display_data"
    },
    {
     "data": {
      "application/vnd.jupyter.widget-view+json": {
       "model_id": "",
       "version_major": 2,
       "version_minor": 0
      },
      "text/plain": [
       "Validating:   0%|          | 0/5 [00:00<?, ?it/s]"
      ]
     },
     "metadata": {},
     "output_type": "display_data"
    },
    {
     "name": "stdout",
     "output_type": "stream",
     "text": [
      "Epoch 80 Summary: Duration: 2.64s\n",
      "  Train Loss: 0.0373, Train Acc: 0.9875\n",
      "  Val Loss:   0.6848, Val Acc:   0.5500\n",
      "\n",
      "Epoch 81/150\n"
     ]
    },
    {
     "data": {
      "application/vnd.jupyter.widget-view+json": {
       "model_id": "",
       "version_major": 2,
       "version_minor": 0
      },
      "text/plain": [
       "Training:   0%|          | 0/20 [00:00<?, ?it/s]"
      ]
     },
     "metadata": {},
     "output_type": "display_data"
    },
    {
     "data": {
      "application/vnd.jupyter.widget-view+json": {
       "model_id": "",
       "version_major": 2,
       "version_minor": 0
      },
      "text/plain": [
       "Validating:   0%|          | 0/5 [00:00<?, ?it/s]"
      ]
     },
     "metadata": {},
     "output_type": "display_data"
    },
    {
     "name": "stdout",
     "output_type": "stream",
     "text": [
      "Epoch 81 Summary: Duration: 2.70s\n",
      "  Train Loss: 0.2357, Train Acc: 0.8875\n",
      "  Val Loss:   0.6279, Val Acc:   0.6500\n",
      "\n",
      "Epoch 82/150\n"
     ]
    },
    {
     "data": {
      "application/vnd.jupyter.widget-view+json": {
       "model_id": "",
       "version_major": 2,
       "version_minor": 0
      },
      "text/plain": [
       "Training:   0%|          | 0/20 [00:00<?, ?it/s]"
      ]
     },
     "metadata": {},
     "output_type": "display_data"
    },
    {
     "data": {
      "application/vnd.jupyter.widget-view+json": {
       "model_id": "",
       "version_major": 2,
       "version_minor": 0
      },
      "text/plain": [
       "Validating:   0%|          | 0/5 [00:00<?, ?it/s]"
      ]
     },
     "metadata": {},
     "output_type": "display_data"
    },
    {
     "name": "stdout",
     "output_type": "stream",
     "text": [
      "Epoch 82 Summary: Duration: 2.79s\n",
      "  Train Loss: 0.1948, Train Acc: 0.9125\n",
      "  Val Loss:   0.6476, Val Acc:   0.7000\n",
      "\n",
      "Epoch 83/150\n"
     ]
    },
    {
     "data": {
      "application/vnd.jupyter.widget-view+json": {
       "model_id": "",
       "version_major": 2,
       "version_minor": 0
      },
      "text/plain": [
       "Training:   0%|          | 0/20 [00:00<?, ?it/s]"
      ]
     },
     "metadata": {},
     "output_type": "display_data"
    },
    {
     "data": {
      "application/vnd.jupyter.widget-view+json": {
       "model_id": "",
       "version_major": 2,
       "version_minor": 0
      },
      "text/plain": [
       "Validating:   0%|          | 0/5 [00:00<?, ?it/s]"
      ]
     },
     "metadata": {},
     "output_type": "display_data"
    },
    {
     "name": "stdout",
     "output_type": "stream",
     "text": [
      "Epoch 83 Summary: Duration: 2.78s\n",
      "  Train Loss: 0.1334, Train Acc: 0.9625\n",
      "  Val Loss:   0.6345, Val Acc:   0.7000\n",
      "\n",
      "Epoch 84/150\n"
     ]
    },
    {
     "data": {
      "application/vnd.jupyter.widget-view+json": {
       "model_id": "",
       "version_major": 2,
       "version_minor": 0
      },
      "text/plain": [
       "Training:   0%|          | 0/20 [00:00<?, ?it/s]"
      ]
     },
     "metadata": {},
     "output_type": "display_data"
    },
    {
     "data": {
      "application/vnd.jupyter.widget-view+json": {
       "model_id": "",
       "version_major": 2,
       "version_minor": 0
      },
      "text/plain": [
       "Validating:   0%|          | 0/5 [00:00<?, ?it/s]"
      ]
     },
     "metadata": {},
     "output_type": "display_data"
    },
    {
     "name": "stdout",
     "output_type": "stream",
     "text": [
      "Epoch 84 Summary: Duration: 2.63s\n",
      "  Train Loss: 0.2209, Train Acc: 0.8875\n",
      "  Val Loss:   0.6810, Val Acc:   0.7000\n",
      "\n",
      "Epoch 85/150\n"
     ]
    },
    {
     "data": {
      "application/vnd.jupyter.widget-view+json": {
       "model_id": "",
       "version_major": 2,
       "version_minor": 0
      },
      "text/plain": [
       "Training:   0%|          | 0/20 [00:00<?, ?it/s]"
      ]
     },
     "metadata": {},
     "output_type": "display_data"
    },
    {
     "data": {
      "application/vnd.jupyter.widget-view+json": {
       "model_id": "",
       "version_major": 2,
       "version_minor": 0
      },
      "text/plain": [
       "Validating:   0%|          | 0/5 [00:00<?, ?it/s]"
      ]
     },
     "metadata": {},
     "output_type": "display_data"
    },
    {
     "name": "stdout",
     "output_type": "stream",
     "text": [
      "Epoch 85 Summary: Duration: 2.67s\n",
      "  Train Loss: 0.2072, Train Acc: 0.9125\n",
      "  Val Loss:   0.6864, Val Acc:   0.6500\n",
      "\n",
      "Epoch 86/150\n"
     ]
    },
    {
     "data": {
      "application/vnd.jupyter.widget-view+json": {
       "model_id": "",
       "version_major": 2,
       "version_minor": 0
      },
      "text/plain": [
       "Training:   0%|          | 0/20 [00:00<?, ?it/s]"
      ]
     },
     "metadata": {},
     "output_type": "display_data"
    },
    {
     "data": {
      "application/vnd.jupyter.widget-view+json": {
       "model_id": "",
       "version_major": 2,
       "version_minor": 0
      },
      "text/plain": [
       "Validating:   0%|          | 0/5 [00:00<?, ?it/s]"
      ]
     },
     "metadata": {},
     "output_type": "display_data"
    },
    {
     "name": "stdout",
     "output_type": "stream",
     "text": [
      "Epoch 86 Summary: Duration: 2.77s\n",
      "  Train Loss: 0.0942, Train Acc: 0.9750\n",
      "  Val Loss:   0.7623, Val Acc:   0.6000\n",
      "\n",
      "Epoch 87/150\n"
     ]
    },
    {
     "data": {
      "application/vnd.jupyter.widget-view+json": {
       "model_id": "",
       "version_major": 2,
       "version_minor": 0
      },
      "text/plain": [
       "Training:   0%|          | 0/20 [00:00<?, ?it/s]"
      ]
     },
     "metadata": {},
     "output_type": "display_data"
    },
    {
     "data": {
      "application/vnd.jupyter.widget-view+json": {
       "model_id": "",
       "version_major": 2,
       "version_minor": 0
      },
      "text/plain": [
       "Validating:   0%|          | 0/5 [00:00<?, ?it/s]"
      ]
     },
     "metadata": {},
     "output_type": "display_data"
    },
    {
     "name": "stdout",
     "output_type": "stream",
     "text": [
      "Epoch 87 Summary: Duration: 2.70s\n",
      "  Train Loss: 0.2724, Train Acc: 0.8625\n",
      "  Val Loss:   0.7261, Val Acc:   0.6500\n",
      "\n",
      "Epoch 88/150\n"
     ]
    },
    {
     "data": {
      "application/vnd.jupyter.widget-view+json": {
       "model_id": "",
       "version_major": 2,
       "version_minor": 0
      },
      "text/plain": [
       "Training:   0%|          | 0/20 [00:00<?, ?it/s]"
      ]
     },
     "metadata": {},
     "output_type": "display_data"
    },
    {
     "data": {
      "application/vnd.jupyter.widget-view+json": {
       "model_id": "",
       "version_major": 2,
       "version_minor": 0
      },
      "text/plain": [
       "Validating:   0%|          | 0/5 [00:00<?, ?it/s]"
      ]
     },
     "metadata": {},
     "output_type": "display_data"
    },
    {
     "name": "stdout",
     "output_type": "stream",
     "text": [
      "Epoch 88 Summary: Duration: 2.76s\n",
      "  Train Loss: 0.1182, Train Acc: 0.9625\n",
      "  Val Loss:   0.5907, Val Acc:   0.7500\n",
      "\n",
      "Epoch 89/150\n"
     ]
    },
    {
     "data": {
      "application/vnd.jupyter.widget-view+json": {
       "model_id": "",
       "version_major": 2,
       "version_minor": 0
      },
      "text/plain": [
       "Training:   0%|          | 0/20 [00:00<?, ?it/s]"
      ]
     },
     "metadata": {},
     "output_type": "display_data"
    },
    {
     "data": {
      "application/vnd.jupyter.widget-view+json": {
       "model_id": "",
       "version_major": 2,
       "version_minor": 0
      },
      "text/plain": [
       "Validating:   0%|          | 0/5 [00:00<?, ?it/s]"
      ]
     },
     "metadata": {},
     "output_type": "display_data"
    },
    {
     "name": "stdout",
     "output_type": "stream",
     "text": [
      "Epoch 89 Summary: Duration: 2.67s\n",
      "  Train Loss: 0.2338, Train Acc: 0.8750\n",
      "  Val Loss:   0.6351, Val Acc:   0.7000\n",
      "\n",
      "Epoch 90/150\n"
     ]
    },
    {
     "data": {
      "application/vnd.jupyter.widget-view+json": {
       "model_id": "",
       "version_major": 2,
       "version_minor": 0
      },
      "text/plain": [
       "Training:   0%|          | 0/20 [00:00<?, ?it/s]"
      ]
     },
     "metadata": {},
     "output_type": "display_data"
    },
    {
     "data": {
      "application/vnd.jupyter.widget-view+json": {
       "model_id": "",
       "version_major": 2,
       "version_minor": 0
      },
      "text/plain": [
       "Validating:   0%|          | 0/5 [00:00<?, ?it/s]"
      ]
     },
     "metadata": {},
     "output_type": "display_data"
    },
    {
     "name": "stdout",
     "output_type": "stream",
     "text": [
      "Epoch 90 Summary: Duration: 2.68s\n",
      "  Train Loss: 0.1099, Train Acc: 0.9375\n",
      "  Val Loss:   0.6438, Val Acc:   0.7000\n",
      "\n",
      "Epoch 91/150\n"
     ]
    },
    {
     "data": {
      "application/vnd.jupyter.widget-view+json": {
       "model_id": "",
       "version_major": 2,
       "version_minor": 0
      },
      "text/plain": [
       "Training:   0%|          | 0/20 [00:00<?, ?it/s]"
      ]
     },
     "metadata": {},
     "output_type": "display_data"
    },
    {
     "data": {
      "application/vnd.jupyter.widget-view+json": {
       "model_id": "",
       "version_major": 2,
       "version_minor": 0
      },
      "text/plain": [
       "Validating:   0%|          | 0/5 [00:00<?, ?it/s]"
      ]
     },
     "metadata": {},
     "output_type": "display_data"
    },
    {
     "name": "stdout",
     "output_type": "stream",
     "text": [
      "Epoch 91 Summary: Duration: 2.63s\n",
      "  Train Loss: 0.1613, Train Acc: 0.9375\n",
      "  Val Loss:   0.5969, Val Acc:   0.7500\n",
      "\n",
      "Epoch 92/150\n"
     ]
    },
    {
     "data": {
      "application/vnd.jupyter.widget-view+json": {
       "model_id": "",
       "version_major": 2,
       "version_minor": 0
      },
      "text/plain": [
       "Training:   0%|          | 0/20 [00:00<?, ?it/s]"
      ]
     },
     "metadata": {},
     "output_type": "display_data"
    },
    {
     "data": {
      "application/vnd.jupyter.widget-view+json": {
       "model_id": "",
       "version_major": 2,
       "version_minor": 0
      },
      "text/plain": [
       "Validating:   0%|          | 0/5 [00:00<?, ?it/s]"
      ]
     },
     "metadata": {},
     "output_type": "display_data"
    },
    {
     "name": "stdout",
     "output_type": "stream",
     "text": [
      "Epoch 92 Summary: Duration: 2.65s\n",
      "  Train Loss: 0.1267, Train Acc: 0.9625\n",
      "  Val Loss:   0.6040, Val Acc:   0.8000\n",
      "\n",
      "Epoch 93/150\n"
     ]
    },
    {
     "data": {
      "application/vnd.jupyter.widget-view+json": {
       "model_id": "",
       "version_major": 2,
       "version_minor": 0
      },
      "text/plain": [
       "Training:   0%|          | 0/20 [00:00<?, ?it/s]"
      ]
     },
     "metadata": {},
     "output_type": "display_data"
    },
    {
     "data": {
      "application/vnd.jupyter.widget-view+json": {
       "model_id": "",
       "version_major": 2,
       "version_minor": 0
      },
      "text/plain": [
       "Validating:   0%|          | 0/5 [00:00<?, ?it/s]"
      ]
     },
     "metadata": {},
     "output_type": "display_data"
    },
    {
     "name": "stdout",
     "output_type": "stream",
     "text": [
      "Epoch 93 Summary: Duration: 2.65s\n",
      "  Train Loss: 0.1147, Train Acc: 0.9625\n",
      "  Val Loss:   0.6166, Val Acc:   0.8000\n",
      "\n",
      "Epoch 94/150\n"
     ]
    },
    {
     "data": {
      "application/vnd.jupyter.widget-view+json": {
       "model_id": "",
       "version_major": 2,
       "version_minor": 0
      },
      "text/plain": [
       "Training:   0%|          | 0/20 [00:00<?, ?it/s]"
      ]
     },
     "metadata": {},
     "output_type": "display_data"
    },
    {
     "data": {
      "application/vnd.jupyter.widget-view+json": {
       "model_id": "",
       "version_major": 2,
       "version_minor": 0
      },
      "text/plain": [
       "Validating:   0%|          | 0/5 [00:00<?, ?it/s]"
      ]
     },
     "metadata": {},
     "output_type": "display_data"
    },
    {
     "name": "stdout",
     "output_type": "stream",
     "text": [
      "Epoch 94 Summary: Duration: 2.75s\n",
      "  Train Loss: 0.1908, Train Acc: 0.9250\n",
      "  Val Loss:   0.6409, Val Acc:   0.7000\n",
      "\n",
      "Epoch 95/150\n"
     ]
    },
    {
     "data": {
      "application/vnd.jupyter.widget-view+json": {
       "model_id": "",
       "version_major": 2,
       "version_minor": 0
      },
      "text/plain": [
       "Training:   0%|          | 0/20 [00:00<?, ?it/s]"
      ]
     },
     "metadata": {},
     "output_type": "display_data"
    },
    {
     "data": {
      "application/vnd.jupyter.widget-view+json": {
       "model_id": "",
       "version_major": 2,
       "version_minor": 0
      },
      "text/plain": [
       "Validating:   0%|          | 0/5 [00:00<?, ?it/s]"
      ]
     },
     "metadata": {},
     "output_type": "display_data"
    },
    {
     "name": "stdout",
     "output_type": "stream",
     "text": [
      "Epoch 95 Summary: Duration: 2.67s\n",
      "  Train Loss: 0.2022, Train Acc: 0.9375\n",
      "  Val Loss:   0.6150, Val Acc:   0.8000\n",
      "\n",
      "Epoch 96/150\n"
     ]
    },
    {
     "data": {
      "application/vnd.jupyter.widget-view+json": {
       "model_id": "",
       "version_major": 2,
       "version_minor": 0
      },
      "text/plain": [
       "Training:   0%|          | 0/20 [00:00<?, ?it/s]"
      ]
     },
     "metadata": {},
     "output_type": "display_data"
    },
    {
     "data": {
      "application/vnd.jupyter.widget-view+json": {
       "model_id": "",
       "version_major": 2,
       "version_minor": 0
      },
      "text/plain": [
       "Validating:   0%|          | 0/5 [00:00<?, ?it/s]"
      ]
     },
     "metadata": {},
     "output_type": "display_data"
    },
    {
     "name": "stdout",
     "output_type": "stream",
     "text": [
      "Epoch 96 Summary: Duration: 2.68s\n",
      "  Train Loss: 0.1537, Train Acc: 0.9250\n",
      "  Val Loss:   0.6102, Val Acc:   0.8500\n",
      "\n",
      "Epoch 97/150\n"
     ]
    },
    {
     "data": {
      "application/vnd.jupyter.widget-view+json": {
       "model_id": "",
       "version_major": 2,
       "version_minor": 0
      },
      "text/plain": [
       "Training:   0%|          | 0/20 [00:00<?, ?it/s]"
      ]
     },
     "metadata": {},
     "output_type": "display_data"
    },
    {
     "data": {
      "application/vnd.jupyter.widget-view+json": {
       "model_id": "",
       "version_major": 2,
       "version_minor": 0
      },
      "text/plain": [
       "Validating:   0%|          | 0/5 [00:00<?, ?it/s]"
      ]
     },
     "metadata": {},
     "output_type": "display_data"
    },
    {
     "name": "stdout",
     "output_type": "stream",
     "text": [
      "Epoch 97 Summary: Duration: 2.66s\n",
      "  Train Loss: 0.1549, Train Acc: 0.9125\n",
      "  Val Loss:   0.6202, Val Acc:   0.6500\n",
      "\n",
      "Epoch 98/150\n"
     ]
    },
    {
     "data": {
      "application/vnd.jupyter.widget-view+json": {
       "model_id": "",
       "version_major": 2,
       "version_minor": 0
      },
      "text/plain": [
       "Training:   0%|          | 0/20 [00:00<?, ?it/s]"
      ]
     },
     "metadata": {},
     "output_type": "display_data"
    },
    {
     "data": {
      "application/vnd.jupyter.widget-view+json": {
       "model_id": "",
       "version_major": 2,
       "version_minor": 0
      },
      "text/plain": [
       "Validating:   0%|          | 0/5 [00:00<?, ?it/s]"
      ]
     },
     "metadata": {},
     "output_type": "display_data"
    },
    {
     "name": "stdout",
     "output_type": "stream",
     "text": [
      "Epoch 98 Summary: Duration: 2.64s\n",
      "  Train Loss: 0.1270, Train Acc: 0.9625\n",
      "  Val Loss:   0.6461, Val Acc:   0.6000\n",
      "\n",
      "Epoch 99/150\n"
     ]
    },
    {
     "data": {
      "application/vnd.jupyter.widget-view+json": {
       "model_id": "",
       "version_major": 2,
       "version_minor": 0
      },
      "text/plain": [
       "Training:   0%|          | 0/20 [00:00<?, ?it/s]"
      ]
     },
     "metadata": {},
     "output_type": "display_data"
    },
    {
     "data": {
      "application/vnd.jupyter.widget-view+json": {
       "model_id": "",
       "version_major": 2,
       "version_minor": 0
      },
      "text/plain": [
       "Validating:   0%|          | 0/5 [00:00<?, ?it/s]"
      ]
     },
     "metadata": {},
     "output_type": "display_data"
    },
    {
     "name": "stdout",
     "output_type": "stream",
     "text": [
      "Epoch 99 Summary: Duration: 2.66s\n",
      "  Train Loss: 0.0858, Train Acc: 0.9625\n",
      "  Val Loss:   0.6403, Val Acc:   0.6500\n",
      "\n",
      "Epoch 100/150\n"
     ]
    },
    {
     "data": {
      "application/vnd.jupyter.widget-view+json": {
       "model_id": "",
       "version_major": 2,
       "version_minor": 0
      },
      "text/plain": [
       "Training:   0%|          | 0/20 [00:00<?, ?it/s]"
      ]
     },
     "metadata": {},
     "output_type": "display_data"
    },
    {
     "data": {
      "application/vnd.jupyter.widget-view+json": {
       "model_id": "",
       "version_major": 2,
       "version_minor": 0
      },
      "text/plain": [
       "Validating:   0%|          | 0/5 [00:00<?, ?it/s]"
      ]
     },
     "metadata": {},
     "output_type": "display_data"
    },
    {
     "name": "stdout",
     "output_type": "stream",
     "text": [
      "Epoch 100 Summary: Duration: 2.72s\n",
      "  Train Loss: 0.1163, Train Acc: 0.9250\n",
      "  Val Loss:   0.6572, Val Acc:   0.7000\n",
      "\n",
      "Epoch 101/150\n"
     ]
    },
    {
     "data": {
      "application/vnd.jupyter.widget-view+json": {
       "model_id": "",
       "version_major": 2,
       "version_minor": 0
      },
      "text/plain": [
       "Training:   0%|          | 0/20 [00:00<?, ?it/s]"
      ]
     },
     "metadata": {},
     "output_type": "display_data"
    },
    {
     "data": {
      "application/vnd.jupyter.widget-view+json": {
       "model_id": "",
       "version_major": 2,
       "version_minor": 0
      },
      "text/plain": [
       "Validating:   0%|          | 0/5 [00:00<?, ?it/s]"
      ]
     },
     "metadata": {},
     "output_type": "display_data"
    },
    {
     "name": "stdout",
     "output_type": "stream",
     "text": [
      "Epoch 101 Summary: Duration: 2.68s\n",
      "  Train Loss: 0.1094, Train Acc: 0.9375\n",
      "  Val Loss:   0.6875, Val Acc:   0.6500\n",
      "\n",
      "Epoch 102/150\n"
     ]
    },
    {
     "data": {
      "application/vnd.jupyter.widget-view+json": {
       "model_id": "",
       "version_major": 2,
       "version_minor": 0
      },
      "text/plain": [
       "Training:   0%|          | 0/20 [00:00<?, ?it/s]"
      ]
     },
     "metadata": {},
     "output_type": "display_data"
    },
    {
     "data": {
      "application/vnd.jupyter.widget-view+json": {
       "model_id": "",
       "version_major": 2,
       "version_minor": 0
      },
      "text/plain": [
       "Validating:   0%|          | 0/5 [00:00<?, ?it/s]"
      ]
     },
     "metadata": {},
     "output_type": "display_data"
    },
    {
     "name": "stdout",
     "output_type": "stream",
     "text": [
      "Epoch 102 Summary: Duration: 2.64s\n",
      "  Train Loss: 0.1981, Train Acc: 0.9250\n",
      "  Val Loss:   0.6035, Val Acc:   0.6500\n",
      "\n",
      "Epoch 103/150\n"
     ]
    },
    {
     "data": {
      "application/vnd.jupyter.widget-view+json": {
       "model_id": "",
       "version_major": 2,
       "version_minor": 0
      },
      "text/plain": [
       "Training:   0%|          | 0/20 [00:00<?, ?it/s]"
      ]
     },
     "metadata": {},
     "output_type": "display_data"
    },
    {
     "data": {
      "application/vnd.jupyter.widget-view+json": {
       "model_id": "",
       "version_major": 2,
       "version_minor": 0
      },
      "text/plain": [
       "Validating:   0%|          | 0/5 [00:00<?, ?it/s]"
      ]
     },
     "metadata": {},
     "output_type": "display_data"
    },
    {
     "name": "stdout",
     "output_type": "stream",
     "text": [
      "Epoch 103 Summary: Duration: 2.64s\n",
      "  Train Loss: 0.1206, Train Acc: 0.9500\n",
      "  Val Loss:   0.6181, Val Acc:   0.6500\n",
      "\n",
      "Epoch 104/150\n"
     ]
    },
    {
     "data": {
      "application/vnd.jupyter.widget-view+json": {
       "model_id": "",
       "version_major": 2,
       "version_minor": 0
      },
      "text/plain": [
       "Training:   0%|          | 0/20 [00:00<?, ?it/s]"
      ]
     },
     "metadata": {},
     "output_type": "display_data"
    },
    {
     "data": {
      "application/vnd.jupyter.widget-view+json": {
       "model_id": "",
       "version_major": 2,
       "version_minor": 0
      },
      "text/plain": [
       "Validating:   0%|          | 0/5 [00:00<?, ?it/s]"
      ]
     },
     "metadata": {},
     "output_type": "display_data"
    },
    {
     "name": "stdout",
     "output_type": "stream",
     "text": [
      "Epoch 104 Summary: Duration: 2.64s\n",
      "  Train Loss: 0.0680, Train Acc: 0.9625\n",
      "  Val Loss:   0.5907, Val Acc:   0.7000\n",
      "\n",
      "Epoch 105/150\n"
     ]
    },
    {
     "data": {
      "application/vnd.jupyter.widget-view+json": {
       "model_id": "",
       "version_major": 2,
       "version_minor": 0
      },
      "text/plain": [
       "Training:   0%|          | 0/20 [00:00<?, ?it/s]"
      ]
     },
     "metadata": {},
     "output_type": "display_data"
    },
    {
     "data": {
      "application/vnd.jupyter.widget-view+json": {
       "model_id": "",
       "version_major": 2,
       "version_minor": 0
      },
      "text/plain": [
       "Validating:   0%|          | 0/5 [00:00<?, ?it/s]"
      ]
     },
     "metadata": {},
     "output_type": "display_data"
    },
    {
     "name": "stdout",
     "output_type": "stream",
     "text": [
      "Epoch 105 Summary: Duration: 2.65s\n",
      "  Train Loss: 0.0945, Train Acc: 0.9375\n",
      "  Val Loss:   0.6255, Val Acc:   0.7500\n",
      "\n",
      "Epoch 106/150\n"
     ]
    },
    {
     "data": {
      "application/vnd.jupyter.widget-view+json": {
       "model_id": "",
       "version_major": 2,
       "version_minor": 0
      },
      "text/plain": [
       "Training:   0%|          | 0/20 [00:00<?, ?it/s]"
      ]
     },
     "metadata": {},
     "output_type": "display_data"
    },
    {
     "data": {
      "application/vnd.jupyter.widget-view+json": {
       "model_id": "",
       "version_major": 2,
       "version_minor": 0
      },
      "text/plain": [
       "Validating:   0%|          | 0/5 [00:00<?, ?it/s]"
      ]
     },
     "metadata": {},
     "output_type": "display_data"
    },
    {
     "name": "stdout",
     "output_type": "stream",
     "text": [
      "Epoch 106 Summary: Duration: 2.71s\n",
      "  Train Loss: 0.1047, Train Acc: 0.9500\n",
      "  Val Loss:   0.6431, Val Acc:   0.7500\n",
      "\n",
      "Epoch 107/150\n"
     ]
    },
    {
     "data": {
      "application/vnd.jupyter.widget-view+json": {
       "model_id": "",
       "version_major": 2,
       "version_minor": 0
      },
      "text/plain": [
       "Training:   0%|          | 0/20 [00:00<?, ?it/s]"
      ]
     },
     "metadata": {},
     "output_type": "display_data"
    },
    {
     "data": {
      "application/vnd.jupyter.widget-view+json": {
       "model_id": "",
       "version_major": 2,
       "version_minor": 0
      },
      "text/plain": [
       "Validating:   0%|          | 0/5 [00:00<?, ?it/s]"
      ]
     },
     "metadata": {},
     "output_type": "display_data"
    },
    {
     "name": "stdout",
     "output_type": "stream",
     "text": [
      "Epoch 107 Summary: Duration: 2.68s\n",
      "  Train Loss: 0.1130, Train Acc: 0.9625\n",
      "  Val Loss:   0.6475, Val Acc:   0.7000\n",
      "\n",
      "Epoch 108/150\n"
     ]
    },
    {
     "data": {
      "application/vnd.jupyter.widget-view+json": {
       "model_id": "",
       "version_major": 2,
       "version_minor": 0
      },
      "text/plain": [
       "Training:   0%|          | 0/20 [00:00<?, ?it/s]"
      ]
     },
     "metadata": {},
     "output_type": "display_data"
    },
    {
     "data": {
      "application/vnd.jupyter.widget-view+json": {
       "model_id": "",
       "version_major": 2,
       "version_minor": 0
      },
      "text/plain": [
       "Validating:   0%|          | 0/5 [00:00<?, ?it/s]"
      ]
     },
     "metadata": {},
     "output_type": "display_data"
    },
    {
     "name": "stdout",
     "output_type": "stream",
     "text": [
      "Epoch 108 Summary: Duration: 2.64s\n",
      "  Train Loss: 0.0607, Train Acc: 0.9625\n",
      "  Val Loss:   0.6567, Val Acc:   0.7000\n",
      "\n",
      "Epoch 109/150\n"
     ]
    },
    {
     "data": {
      "application/vnd.jupyter.widget-view+json": {
       "model_id": "",
       "version_major": 2,
       "version_minor": 0
      },
      "text/plain": [
       "Training:   0%|          | 0/20 [00:00<?, ?it/s]"
      ]
     },
     "metadata": {},
     "output_type": "display_data"
    },
    {
     "data": {
      "application/vnd.jupyter.widget-view+json": {
       "model_id": "",
       "version_major": 2,
       "version_minor": 0
      },
      "text/plain": [
       "Validating:   0%|          | 0/5 [00:00<?, ?it/s]"
      ]
     },
     "metadata": {},
     "output_type": "display_data"
    },
    {
     "name": "stdout",
     "output_type": "stream",
     "text": [
      "Epoch 109 Summary: Duration: 2.70s\n",
      "  Train Loss: 0.1573, Train Acc: 0.9250\n",
      "  Val Loss:   0.6269, Val Acc:   0.6000\n",
      "\n",
      "Epoch 110/150\n"
     ]
    },
    {
     "data": {
      "application/vnd.jupyter.widget-view+json": {
       "model_id": "",
       "version_major": 2,
       "version_minor": 0
      },
      "text/plain": [
       "Training:   0%|          | 0/20 [00:00<?, ?it/s]"
      ]
     },
     "metadata": {},
     "output_type": "display_data"
    },
    {
     "data": {
      "application/vnd.jupyter.widget-view+json": {
       "model_id": "",
       "version_major": 2,
       "version_minor": 0
      },
      "text/plain": [
       "Validating:   0%|          | 0/5 [00:00<?, ?it/s]"
      ]
     },
     "metadata": {},
     "output_type": "display_data"
    },
    {
     "name": "stdout",
     "output_type": "stream",
     "text": [
      "Epoch 110 Summary: Duration: 2.67s\n",
      "  Train Loss: 0.1353, Train Acc: 0.9375\n",
      "  Val Loss:   0.5870, Val Acc:   0.7000\n",
      "\n",
      "Epoch 111/150\n"
     ]
    },
    {
     "data": {
      "application/vnd.jupyter.widget-view+json": {
       "model_id": "",
       "version_major": 2,
       "version_minor": 0
      },
      "text/plain": [
       "Training:   0%|          | 0/20 [00:00<?, ?it/s]"
      ]
     },
     "metadata": {},
     "output_type": "display_data"
    },
    {
     "data": {
      "application/vnd.jupyter.widget-view+json": {
       "model_id": "",
       "version_major": 2,
       "version_minor": 0
      },
      "text/plain": [
       "Validating:   0%|          | 0/5 [00:00<?, ?it/s]"
      ]
     },
     "metadata": {},
     "output_type": "display_data"
    },
    {
     "name": "stdout",
     "output_type": "stream",
     "text": [
      "Epoch 111 Summary: Duration: 2.66s\n",
      "  Train Loss: 0.1632, Train Acc: 0.9125\n",
      "  Val Loss:   0.5996, Val Acc:   0.6500\n",
      "\n",
      "Epoch 112/150\n"
     ]
    },
    {
     "data": {
      "application/vnd.jupyter.widget-view+json": {
       "model_id": "",
       "version_major": 2,
       "version_minor": 0
      },
      "text/plain": [
       "Training:   0%|          | 0/20 [00:00<?, ?it/s]"
      ]
     },
     "metadata": {},
     "output_type": "display_data"
    },
    {
     "data": {
      "application/vnd.jupyter.widget-view+json": {
       "model_id": "",
       "version_major": 2,
       "version_minor": 0
      },
      "text/plain": [
       "Validating:   0%|          | 0/5 [00:00<?, ?it/s]"
      ]
     },
     "metadata": {},
     "output_type": "display_data"
    },
    {
     "name": "stdout",
     "output_type": "stream",
     "text": [
      "Epoch 112 Summary: Duration: 2.72s\n",
      "  Train Loss: 0.1821, Train Acc: 0.9125\n",
      "  Val Loss:   0.5727, Val Acc:   0.6500\n",
      "\n",
      "Epoch 113/150\n"
     ]
    },
    {
     "data": {
      "application/vnd.jupyter.widget-view+json": {
       "model_id": "",
       "version_major": 2,
       "version_minor": 0
      },
      "text/plain": [
       "Training:   0%|          | 0/20 [00:00<?, ?it/s]"
      ]
     },
     "metadata": {},
     "output_type": "display_data"
    },
    {
     "data": {
      "application/vnd.jupyter.widget-view+json": {
       "model_id": "",
       "version_major": 2,
       "version_minor": 0
      },
      "text/plain": [
       "Validating:   0%|          | 0/5 [00:00<?, ?it/s]"
      ]
     },
     "metadata": {},
     "output_type": "display_data"
    },
    {
     "name": "stdout",
     "output_type": "stream",
     "text": [
      "Epoch 113 Summary: Duration: 2.65s\n",
      "  Train Loss: 0.2064, Train Acc: 0.9125\n",
      "  Val Loss:   0.6571, Val Acc:   0.5500\n",
      "\n",
      "Epoch 114/150\n"
     ]
    },
    {
     "data": {
      "application/vnd.jupyter.widget-view+json": {
       "model_id": "",
       "version_major": 2,
       "version_minor": 0
      },
      "text/plain": [
       "Training:   0%|          | 0/20 [00:00<?, ?it/s]"
      ]
     },
     "metadata": {},
     "output_type": "display_data"
    },
    {
     "data": {
      "application/vnd.jupyter.widget-view+json": {
       "model_id": "",
       "version_major": 2,
       "version_minor": 0
      },
      "text/plain": [
       "Validating:   0%|          | 0/5 [00:00<?, ?it/s]"
      ]
     },
     "metadata": {},
     "output_type": "display_data"
    },
    {
     "name": "stdout",
     "output_type": "stream",
     "text": [
      "Epoch 114 Summary: Duration: 2.65s\n",
      "  Train Loss: 0.1595, Train Acc: 0.9000\n",
      "  Val Loss:   0.5971, Val Acc:   0.6000\n",
      "\n",
      "Epoch 115/150\n"
     ]
    },
    {
     "data": {
      "application/vnd.jupyter.widget-view+json": {
       "model_id": "",
       "version_major": 2,
       "version_minor": 0
      },
      "text/plain": [
       "Training:   0%|          | 0/20 [00:00<?, ?it/s]"
      ]
     },
     "metadata": {},
     "output_type": "display_data"
    },
    {
     "data": {
      "application/vnd.jupyter.widget-view+json": {
       "model_id": "",
       "version_major": 2,
       "version_minor": 0
      },
      "text/plain": [
       "Validating:   0%|          | 0/5 [00:00<?, ?it/s]"
      ]
     },
     "metadata": {},
     "output_type": "display_data"
    },
    {
     "name": "stdout",
     "output_type": "stream",
     "text": [
      "Epoch 115 Summary: Duration: 2.64s\n",
      "  Train Loss: 0.0242, Train Acc: 1.0000\n",
      "  Val Loss:   0.6251, Val Acc:   0.7500\n",
      "\n",
      "Epoch 116/150\n"
     ]
    },
    {
     "data": {
      "application/vnd.jupyter.widget-view+json": {
       "model_id": "",
       "version_major": 2,
       "version_minor": 0
      },
      "text/plain": [
       "Training:   0%|          | 0/20 [00:00<?, ?it/s]"
      ]
     },
     "metadata": {},
     "output_type": "display_data"
    },
    {
     "data": {
      "application/vnd.jupyter.widget-view+json": {
       "model_id": "",
       "version_major": 2,
       "version_minor": 0
      },
      "text/plain": [
       "Validating:   0%|          | 0/5 [00:00<?, ?it/s]"
      ]
     },
     "metadata": {},
     "output_type": "display_data"
    },
    {
     "name": "stdout",
     "output_type": "stream",
     "text": [
      "Epoch 116 Summary: Duration: 2.65s\n",
      "  Train Loss: 0.1324, Train Acc: 0.9500\n",
      "  Val Loss:   0.6267, Val Acc:   0.7000\n",
      "\n",
      "Epoch 117/150\n"
     ]
    },
    {
     "data": {
      "application/vnd.jupyter.widget-view+json": {
       "model_id": "",
       "version_major": 2,
       "version_minor": 0
      },
      "text/plain": [
       "Training:   0%|          | 0/20 [00:00<?, ?it/s]"
      ]
     },
     "metadata": {},
     "output_type": "display_data"
    },
    {
     "data": {
      "application/vnd.jupyter.widget-view+json": {
       "model_id": "",
       "version_major": 2,
       "version_minor": 0
      },
      "text/plain": [
       "Validating:   0%|          | 0/5 [00:00<?, ?it/s]"
      ]
     },
     "metadata": {},
     "output_type": "display_data"
    },
    {
     "name": "stdout",
     "output_type": "stream",
     "text": [
      "Epoch 117 Summary: Duration: 2.67s\n",
      "  Train Loss: 0.1137, Train Acc: 0.9375\n",
      "  Val Loss:   0.6147, Val Acc:   0.5500\n",
      "\n",
      "Epoch 118/150\n"
     ]
    },
    {
     "data": {
      "application/vnd.jupyter.widget-view+json": {
       "model_id": "",
       "version_major": 2,
       "version_minor": 0
      },
      "text/plain": [
       "Training:   0%|          | 0/20 [00:00<?, ?it/s]"
      ]
     },
     "metadata": {},
     "output_type": "display_data"
    },
    {
     "data": {
      "application/vnd.jupyter.widget-view+json": {
       "model_id": "",
       "version_major": 2,
       "version_minor": 0
      },
      "text/plain": [
       "Validating:   0%|          | 0/5 [00:00<?, ?it/s]"
      ]
     },
     "metadata": {},
     "output_type": "display_data"
    },
    {
     "name": "stdout",
     "output_type": "stream",
     "text": [
      "Epoch 118 Summary: Duration: 2.70s\n",
      "  Train Loss: 0.0757, Train Acc: 0.9750\n",
      "  Val Loss:   0.6437, Val Acc:   0.7000\n",
      "\n",
      "Epoch 119/150\n"
     ]
    },
    {
     "data": {
      "application/vnd.jupyter.widget-view+json": {
       "model_id": "",
       "version_major": 2,
       "version_minor": 0
      },
      "text/plain": [
       "Training:   0%|          | 0/20 [00:00<?, ?it/s]"
      ]
     },
     "metadata": {},
     "output_type": "display_data"
    },
    {
     "data": {
      "application/vnd.jupyter.widget-view+json": {
       "model_id": "",
       "version_major": 2,
       "version_minor": 0
      },
      "text/plain": [
       "Validating:   0%|          | 0/5 [00:00<?, ?it/s]"
      ]
     },
     "metadata": {},
     "output_type": "display_data"
    },
    {
     "name": "stdout",
     "output_type": "stream",
     "text": [
      "Epoch 119 Summary: Duration: 2.85s\n",
      "  Train Loss: 0.1399, Train Acc: 0.9250\n",
      "  Val Loss:   0.6402, Val Acc:   0.6000\n",
      "\n",
      "Epoch 120/150\n"
     ]
    },
    {
     "data": {
      "application/vnd.jupyter.widget-view+json": {
       "model_id": "",
       "version_major": 2,
       "version_minor": 0
      },
      "text/plain": [
       "Training:   0%|          | 0/20 [00:00<?, ?it/s]"
      ]
     },
     "metadata": {},
     "output_type": "display_data"
    },
    {
     "data": {
      "application/vnd.jupyter.widget-view+json": {
       "model_id": "",
       "version_major": 2,
       "version_minor": 0
      },
      "text/plain": [
       "Validating:   0%|          | 0/5 [00:00<?, ?it/s]"
      ]
     },
     "metadata": {},
     "output_type": "display_data"
    },
    {
     "name": "stdout",
     "output_type": "stream",
     "text": [
      "Epoch 120 Summary: Duration: 2.67s\n",
      "  Train Loss: 0.1234, Train Acc: 0.9625\n",
      "  Val Loss:   0.7179, Val Acc:   0.6000\n",
      "\n",
      "Epoch 121/150\n"
     ]
    },
    {
     "data": {
      "application/vnd.jupyter.widget-view+json": {
       "model_id": "",
       "version_major": 2,
       "version_minor": 0
      },
      "text/plain": [
       "Training:   0%|          | 0/20 [00:00<?, ?it/s]"
      ]
     },
     "metadata": {},
     "output_type": "display_data"
    },
    {
     "data": {
      "application/vnd.jupyter.widget-view+json": {
       "model_id": "",
       "version_major": 2,
       "version_minor": 0
      },
      "text/plain": [
       "Validating:   0%|          | 0/5 [00:00<?, ?it/s]"
      ]
     },
     "metadata": {},
     "output_type": "display_data"
    },
    {
     "name": "stdout",
     "output_type": "stream",
     "text": [
      "Epoch 121 Summary: Duration: 2.69s\n",
      "  Train Loss: 0.1434, Train Acc: 0.9125\n",
      "  Val Loss:   0.6644, Val Acc:   0.5000\n",
      "\n",
      "Epoch 122/150\n"
     ]
    },
    {
     "data": {
      "application/vnd.jupyter.widget-view+json": {
       "model_id": "",
       "version_major": 2,
       "version_minor": 0
      },
      "text/plain": [
       "Training:   0%|          | 0/20 [00:00<?, ?it/s]"
      ]
     },
     "metadata": {},
     "output_type": "display_data"
    },
    {
     "data": {
      "application/vnd.jupyter.widget-view+json": {
       "model_id": "",
       "version_major": 2,
       "version_minor": 0
      },
      "text/plain": [
       "Validating:   0%|          | 0/5 [00:00<?, ?it/s]"
      ]
     },
     "metadata": {},
     "output_type": "display_data"
    },
    {
     "name": "stdout",
     "output_type": "stream",
     "text": [
      "Epoch 122 Summary: Duration: 2.65s\n",
      "  Train Loss: 0.1446, Train Acc: 0.9375\n",
      "  Val Loss:   0.6943, Val Acc:   0.7000\n",
      "\n",
      "Epoch 123/150\n"
     ]
    },
    {
     "data": {
      "application/vnd.jupyter.widget-view+json": {
       "model_id": "",
       "version_major": 2,
       "version_minor": 0
      },
      "text/plain": [
       "Training:   0%|          | 0/20 [00:00<?, ?it/s]"
      ]
     },
     "metadata": {},
     "output_type": "display_data"
    },
    {
     "data": {
      "application/vnd.jupyter.widget-view+json": {
       "model_id": "",
       "version_major": 2,
       "version_minor": 0
      },
      "text/plain": [
       "Validating:   0%|          | 0/5 [00:00<?, ?it/s]"
      ]
     },
     "metadata": {},
     "output_type": "display_data"
    },
    {
     "name": "stdout",
     "output_type": "stream",
     "text": [
      "Epoch 123 Summary: Duration: 2.69s\n",
      "  Train Loss: 0.0812, Train Acc: 0.9625\n",
      "  Val Loss:   0.6839, Val Acc:   0.6500\n",
      "\n",
      "Epoch 124/150\n"
     ]
    },
    {
     "data": {
      "application/vnd.jupyter.widget-view+json": {
       "model_id": "",
       "version_major": 2,
       "version_minor": 0
      },
      "text/plain": [
       "Training:   0%|          | 0/20 [00:00<?, ?it/s]"
      ]
     },
     "metadata": {},
     "output_type": "display_data"
    },
    {
     "data": {
      "application/vnd.jupyter.widget-view+json": {
       "model_id": "",
       "version_major": 2,
       "version_minor": 0
      },
      "text/plain": [
       "Validating:   0%|          | 0/5 [00:00<?, ?it/s]"
      ]
     },
     "metadata": {},
     "output_type": "display_data"
    },
    {
     "name": "stdout",
     "output_type": "stream",
     "text": [
      "Epoch 124 Summary: Duration: 2.84s\n",
      "  Train Loss: 0.1842, Train Acc: 0.9000\n",
      "  Val Loss:   0.6889, Val Acc:   0.6500\n",
      "\n",
      "Epoch 125/150\n"
     ]
    },
    {
     "data": {
      "application/vnd.jupyter.widget-view+json": {
       "model_id": "",
       "version_major": 2,
       "version_minor": 0
      },
      "text/plain": [
       "Training:   0%|          | 0/20 [00:00<?, ?it/s]"
      ]
     },
     "metadata": {},
     "output_type": "display_data"
    },
    {
     "data": {
      "application/vnd.jupyter.widget-view+json": {
       "model_id": "",
       "version_major": 2,
       "version_minor": 0
      },
      "text/plain": [
       "Validating:   0%|          | 0/5 [00:00<?, ?it/s]"
      ]
     },
     "metadata": {},
     "output_type": "display_data"
    },
    {
     "name": "stdout",
     "output_type": "stream",
     "text": [
      "Epoch 125 Summary: Duration: 2.70s\n",
      "  Train Loss: 0.0326, Train Acc: 1.0000\n",
      "  Val Loss:   0.7549, Val Acc:   0.6000\n",
      "\n",
      "Epoch 126/150\n"
     ]
    },
    {
     "data": {
      "application/vnd.jupyter.widget-view+json": {
       "model_id": "",
       "version_major": 2,
       "version_minor": 0
      },
      "text/plain": [
       "Training:   0%|          | 0/20 [00:00<?, ?it/s]"
      ]
     },
     "metadata": {},
     "output_type": "display_data"
    },
    {
     "data": {
      "application/vnd.jupyter.widget-view+json": {
       "model_id": "",
       "version_major": 2,
       "version_minor": 0
      },
      "text/plain": [
       "Validating:   0%|          | 0/5 [00:00<?, ?it/s]"
      ]
     },
     "metadata": {},
     "output_type": "display_data"
    },
    {
     "name": "stdout",
     "output_type": "stream",
     "text": [
      "Epoch 126 Summary: Duration: 2.85s\n",
      "  Train Loss: 0.1448, Train Acc: 0.9125\n",
      "  Val Loss:   0.7628, Val Acc:   0.5500\n",
      "\n",
      "Epoch 127/150\n"
     ]
    },
    {
     "data": {
      "application/vnd.jupyter.widget-view+json": {
       "model_id": "",
       "version_major": 2,
       "version_minor": 0
      },
      "text/plain": [
       "Training:   0%|          | 0/20 [00:00<?, ?it/s]"
      ]
     },
     "metadata": {},
     "output_type": "display_data"
    },
    {
     "data": {
      "application/vnd.jupyter.widget-view+json": {
       "model_id": "",
       "version_major": 2,
       "version_minor": 0
      },
      "text/plain": [
       "Validating:   0%|          | 0/5 [00:00<?, ?it/s]"
      ]
     },
     "metadata": {},
     "output_type": "display_data"
    },
    {
     "name": "stdout",
     "output_type": "stream",
     "text": [
      "Epoch 127 Summary: Duration: 2.74s\n",
      "  Train Loss: 0.2156, Train Acc: 0.9000\n",
      "  Val Loss:   0.6959, Val Acc:   0.6000\n",
      "\n",
      "Epoch 128/150\n"
     ]
    },
    {
     "data": {
      "application/vnd.jupyter.widget-view+json": {
       "model_id": "",
       "version_major": 2,
       "version_minor": 0
      },
      "text/plain": [
       "Training:   0%|          | 0/20 [00:00<?, ?it/s]"
      ]
     },
     "metadata": {},
     "output_type": "display_data"
    },
    {
     "data": {
      "application/vnd.jupyter.widget-view+json": {
       "model_id": "",
       "version_major": 2,
       "version_minor": 0
      },
      "text/plain": [
       "Validating:   0%|          | 0/5 [00:00<?, ?it/s]"
      ]
     },
     "metadata": {},
     "output_type": "display_data"
    },
    {
     "name": "stdout",
     "output_type": "stream",
     "text": [
      "Epoch 128 Summary: Duration: 2.70s\n",
      "  Train Loss: 0.2395, Train Acc: 0.9000\n",
      "  Val Loss:   0.6663, Val Acc:   0.5500\n",
      "\n",
      "Epoch 129/150\n"
     ]
    },
    {
     "data": {
      "application/vnd.jupyter.widget-view+json": {
       "model_id": "",
       "version_major": 2,
       "version_minor": 0
      },
      "text/plain": [
       "Training:   0%|          | 0/20 [00:00<?, ?it/s]"
      ]
     },
     "metadata": {},
     "output_type": "display_data"
    },
    {
     "data": {
      "application/vnd.jupyter.widget-view+json": {
       "model_id": "",
       "version_major": 2,
       "version_minor": 0
      },
      "text/plain": [
       "Validating:   0%|          | 0/5 [00:00<?, ?it/s]"
      ]
     },
     "metadata": {},
     "output_type": "display_data"
    },
    {
     "name": "stdout",
     "output_type": "stream",
     "text": [
      "Epoch 129 Summary: Duration: 2.67s\n",
      "  Train Loss: 0.1150, Train Acc: 0.9625\n",
      "  Val Loss:   0.6389, Val Acc:   0.5500\n",
      "\n",
      "Epoch 130/150\n"
     ]
    },
    {
     "data": {
      "application/vnd.jupyter.widget-view+json": {
       "model_id": "",
       "version_major": 2,
       "version_minor": 0
      },
      "text/plain": [
       "Training:   0%|          | 0/20 [00:00<?, ?it/s]"
      ]
     },
     "metadata": {},
     "output_type": "display_data"
    },
    {
     "data": {
      "application/vnd.jupyter.widget-view+json": {
       "model_id": "",
       "version_major": 2,
       "version_minor": 0
      },
      "text/plain": [
       "Validating:   0%|          | 0/5 [00:00<?, ?it/s]"
      ]
     },
     "metadata": {},
     "output_type": "display_data"
    },
    {
     "name": "stdout",
     "output_type": "stream",
     "text": [
      "Epoch 130 Summary: Duration: 2.72s\n",
      "  Train Loss: 0.2035, Train Acc: 0.9000\n",
      "  Val Loss:   0.7533, Val Acc:   0.7000\n",
      "\n",
      "Epoch 131/150\n"
     ]
    },
    {
     "data": {
      "application/vnd.jupyter.widget-view+json": {
       "model_id": "",
       "version_major": 2,
       "version_minor": 0
      },
      "text/plain": [
       "Training:   0%|          | 0/20 [00:00<?, ?it/s]"
      ]
     },
     "metadata": {},
     "output_type": "display_data"
    },
    {
     "data": {
      "application/vnd.jupyter.widget-view+json": {
       "model_id": "",
       "version_major": 2,
       "version_minor": 0
      },
      "text/plain": [
       "Validating:   0%|          | 0/5 [00:00<?, ?it/s]"
      ]
     },
     "metadata": {},
     "output_type": "display_data"
    },
    {
     "name": "stdout",
     "output_type": "stream",
     "text": [
      "Epoch 131 Summary: Duration: 2.67s\n",
      "  Train Loss: 0.2750, Train Acc: 0.9000\n",
      "  Val Loss:   0.7641, Val Acc:   0.5500\n",
      "\n",
      "Epoch 132/150\n"
     ]
    },
    {
     "data": {
      "application/vnd.jupyter.widget-view+json": {
       "model_id": "",
       "version_major": 2,
       "version_minor": 0
      },
      "text/plain": [
       "Training:   0%|          | 0/20 [00:00<?, ?it/s]"
      ]
     },
     "metadata": {},
     "output_type": "display_data"
    },
    {
     "data": {
      "application/vnd.jupyter.widget-view+json": {
       "model_id": "",
       "version_major": 2,
       "version_minor": 0
      },
      "text/plain": [
       "Validating:   0%|          | 0/5 [00:00<?, ?it/s]"
      ]
     },
     "metadata": {},
     "output_type": "display_data"
    },
    {
     "name": "stdout",
     "output_type": "stream",
     "text": [
      "Epoch 132 Summary: Duration: 2.65s\n",
      "  Train Loss: 0.0900, Train Acc: 0.9625\n",
      "  Val Loss:   0.7373, Val Acc:   0.6500\n",
      "\n",
      "Epoch 133/150\n"
     ]
    },
    {
     "data": {
      "application/vnd.jupyter.widget-view+json": {
       "model_id": "",
       "version_major": 2,
       "version_minor": 0
      },
      "text/plain": [
       "Training:   0%|          | 0/20 [00:00<?, ?it/s]"
      ]
     },
     "metadata": {},
     "output_type": "display_data"
    },
    {
     "data": {
      "application/vnd.jupyter.widget-view+json": {
       "model_id": "",
       "version_major": 2,
       "version_minor": 0
      },
      "text/plain": [
       "Validating:   0%|          | 0/5 [00:00<?, ?it/s]"
      ]
     },
     "metadata": {},
     "output_type": "display_data"
    },
    {
     "name": "stdout",
     "output_type": "stream",
     "text": [
      "Epoch 133 Summary: Duration: 2.69s\n",
      "  Train Loss: 0.1501, Train Acc: 0.9375\n",
      "  Val Loss:   0.6967, Val Acc:   0.6500\n",
      "\n",
      "Epoch 134/150\n"
     ]
    },
    {
     "data": {
      "application/vnd.jupyter.widget-view+json": {
       "model_id": "",
       "version_major": 2,
       "version_minor": 0
      },
      "text/plain": [
       "Training:   0%|          | 0/20 [00:00<?, ?it/s]"
      ]
     },
     "metadata": {},
     "output_type": "display_data"
    },
    {
     "data": {
      "application/vnd.jupyter.widget-view+json": {
       "model_id": "",
       "version_major": 2,
       "version_minor": 0
      },
      "text/plain": [
       "Validating:   0%|          | 0/5 [00:00<?, ?it/s]"
      ]
     },
     "metadata": {},
     "output_type": "display_data"
    },
    {
     "name": "stdout",
     "output_type": "stream",
     "text": [
      "Epoch 134 Summary: Duration: 2.66s\n",
      "  Train Loss: 0.1559, Train Acc: 0.9375\n",
      "  Val Loss:   0.7787, Val Acc:   0.6000\n",
      "\n",
      "Epoch 135/150\n"
     ]
    },
    {
     "data": {
      "application/vnd.jupyter.widget-view+json": {
       "model_id": "",
       "version_major": 2,
       "version_minor": 0
      },
      "text/plain": [
       "Training:   0%|          | 0/20 [00:00<?, ?it/s]"
      ]
     },
     "metadata": {},
     "output_type": "display_data"
    },
    {
     "data": {
      "application/vnd.jupyter.widget-view+json": {
       "model_id": "",
       "version_major": 2,
       "version_minor": 0
      },
      "text/plain": [
       "Validating:   0%|          | 0/5 [00:00<?, ?it/s]"
      ]
     },
     "metadata": {},
     "output_type": "display_data"
    },
    {
     "name": "stdout",
     "output_type": "stream",
     "text": [
      "Epoch 135 Summary: Duration: 2.68s\n",
      "  Train Loss: 0.2475, Train Acc: 0.8750\n",
      "  Val Loss:   0.7297, Val Acc:   0.6500\n",
      "\n",
      "Epoch 136/150\n"
     ]
    },
    {
     "data": {
      "application/vnd.jupyter.widget-view+json": {
       "model_id": "",
       "version_major": 2,
       "version_minor": 0
      },
      "text/plain": [
       "Training:   0%|          | 0/20 [00:00<?, ?it/s]"
      ]
     },
     "metadata": {},
     "output_type": "display_data"
    },
    {
     "data": {
      "application/vnd.jupyter.widget-view+json": {
       "model_id": "",
       "version_major": 2,
       "version_minor": 0
      },
      "text/plain": [
       "Validating:   0%|          | 0/5 [00:00<?, ?it/s]"
      ]
     },
     "metadata": {},
     "output_type": "display_data"
    },
    {
     "name": "stdout",
     "output_type": "stream",
     "text": [
      "Epoch 136 Summary: Duration: 2.72s\n",
      "  Train Loss: 0.0334, Train Acc: 1.0000\n",
      "  Val Loss:   0.7413, Val Acc:   0.5500\n",
      "\n",
      "Epoch 137/150\n"
     ]
    },
    {
     "data": {
      "application/vnd.jupyter.widget-view+json": {
       "model_id": "",
       "version_major": 2,
       "version_minor": 0
      },
      "text/plain": [
       "Training:   0%|          | 0/20 [00:00<?, ?it/s]"
      ]
     },
     "metadata": {},
     "output_type": "display_data"
    },
    {
     "data": {
      "application/vnd.jupyter.widget-view+json": {
       "model_id": "",
       "version_major": 2,
       "version_minor": 0
      },
      "text/plain": [
       "Validating:   0%|          | 0/5 [00:00<?, ?it/s]"
      ]
     },
     "metadata": {},
     "output_type": "display_data"
    },
    {
     "name": "stdout",
     "output_type": "stream",
     "text": [
      "Epoch 137 Summary: Duration: 2.68s\n",
      "  Train Loss: 0.1131, Train Acc: 0.9500\n",
      "  Val Loss:   0.8103, Val Acc:   0.6500\n",
      "\n",
      "Epoch 138/150\n"
     ]
    },
    {
     "data": {
      "application/vnd.jupyter.widget-view+json": {
       "model_id": "",
       "version_major": 2,
       "version_minor": 0
      },
      "text/plain": [
       "Training:   0%|          | 0/20 [00:00<?, ?it/s]"
      ]
     },
     "metadata": {},
     "output_type": "display_data"
    },
    {
     "data": {
      "application/vnd.jupyter.widget-view+json": {
       "model_id": "",
       "version_major": 2,
       "version_minor": 0
      },
      "text/plain": [
       "Validating:   0%|          | 0/5 [00:00<?, ?it/s]"
      ]
     },
     "metadata": {},
     "output_type": "display_data"
    },
    {
     "name": "stdout",
     "output_type": "stream",
     "text": [
      "Epoch 138 Summary: Duration: 2.70s\n",
      "  Train Loss: 0.1117, Train Acc: 0.9500\n",
      "  Val Loss:   0.6768, Val Acc:   0.6500\n",
      "\n",
      "Epoch 139/150\n"
     ]
    },
    {
     "data": {
      "application/vnd.jupyter.widget-view+json": {
       "model_id": "",
       "version_major": 2,
       "version_minor": 0
      },
      "text/plain": [
       "Training:   0%|          | 0/20 [00:00<?, ?it/s]"
      ]
     },
     "metadata": {},
     "output_type": "display_data"
    },
    {
     "data": {
      "application/vnd.jupyter.widget-view+json": {
       "model_id": "",
       "version_major": 2,
       "version_minor": 0
      },
      "text/plain": [
       "Validating:   0%|          | 0/5 [00:00<?, ?it/s]"
      ]
     },
     "metadata": {},
     "output_type": "display_data"
    },
    {
     "name": "stdout",
     "output_type": "stream",
     "text": [
      "Epoch 139 Summary: Duration: 2.65s\n",
      "  Train Loss: 0.2937, Train Acc: 0.8625\n",
      "  Val Loss:   0.6667, Val Acc:   0.6000\n",
      "\n",
      "Epoch 140/150\n"
     ]
    },
    {
     "data": {
      "application/vnd.jupyter.widget-view+json": {
       "model_id": "",
       "version_major": 2,
       "version_minor": 0
      },
      "text/plain": [
       "Training:   0%|          | 0/20 [00:00<?, ?it/s]"
      ]
     },
     "metadata": {},
     "output_type": "display_data"
    },
    {
     "data": {
      "application/vnd.jupyter.widget-view+json": {
       "model_id": "",
       "version_major": 2,
       "version_minor": 0
      },
      "text/plain": [
       "Validating:   0%|          | 0/5 [00:00<?, ?it/s]"
      ]
     },
     "metadata": {},
     "output_type": "display_data"
    },
    {
     "name": "stdout",
     "output_type": "stream",
     "text": [
      "Epoch 140 Summary: Duration: 2.65s\n",
      "  Train Loss: 0.0925, Train Acc: 0.9625\n",
      "  Val Loss:   0.6605, Val Acc:   0.7000\n",
      "\n",
      "Epoch 141/150\n"
     ]
    },
    {
     "data": {
      "application/vnd.jupyter.widget-view+json": {
       "model_id": "",
       "version_major": 2,
       "version_minor": 0
      },
      "text/plain": [
       "Training:   0%|          | 0/20 [00:00<?, ?it/s]"
      ]
     },
     "metadata": {},
     "output_type": "display_data"
    },
    {
     "data": {
      "application/vnd.jupyter.widget-view+json": {
       "model_id": "",
       "version_major": 2,
       "version_minor": 0
      },
      "text/plain": [
       "Validating:   0%|          | 0/5 [00:00<?, ?it/s]"
      ]
     },
     "metadata": {},
     "output_type": "display_data"
    },
    {
     "name": "stdout",
     "output_type": "stream",
     "text": [
      "Epoch 141 Summary: Duration: 2.67s\n",
      "  Train Loss: 0.0389, Train Acc: 1.0000\n",
      "  Val Loss:   0.6916, Val Acc:   0.7000\n",
      "\n",
      "Epoch 142/150\n"
     ]
    },
    {
     "data": {
      "application/vnd.jupyter.widget-view+json": {
       "model_id": "",
       "version_major": 2,
       "version_minor": 0
      },
      "text/plain": [
       "Training:   0%|          | 0/20 [00:00<?, ?it/s]"
      ]
     },
     "metadata": {},
     "output_type": "display_data"
    },
    {
     "data": {
      "application/vnd.jupyter.widget-view+json": {
       "model_id": "",
       "version_major": 2,
       "version_minor": 0
      },
      "text/plain": [
       "Validating:   0%|          | 0/5 [00:00<?, ?it/s]"
      ]
     },
     "metadata": {},
     "output_type": "display_data"
    },
    {
     "name": "stdout",
     "output_type": "stream",
     "text": [
      "Epoch 142 Summary: Duration: 2.67s\n",
      "  Train Loss: 0.0984, Train Acc: 0.9500\n",
      "  Val Loss:   0.6879, Val Acc:   0.6500\n",
      "\n",
      "Epoch 143/150\n"
     ]
    },
    {
     "data": {
      "application/vnd.jupyter.widget-view+json": {
       "model_id": "",
       "version_major": 2,
       "version_minor": 0
      },
      "text/plain": [
       "Training:   0%|          | 0/20 [00:00<?, ?it/s]"
      ]
     },
     "metadata": {},
     "output_type": "display_data"
    },
    {
     "data": {
      "application/vnd.jupyter.widget-view+json": {
       "model_id": "",
       "version_major": 2,
       "version_minor": 0
      },
      "text/plain": [
       "Validating:   0%|          | 0/5 [00:00<?, ?it/s]"
      ]
     },
     "metadata": {},
     "output_type": "display_data"
    },
    {
     "name": "stdout",
     "output_type": "stream",
     "text": [
      "Epoch 143 Summary: Duration: 2.66s\n",
      "  Train Loss: 0.0777, Train Acc: 0.9750\n",
      "  Val Loss:   0.7168, Val Acc:   0.6500\n",
      "\n",
      "Epoch 144/150\n"
     ]
    },
    {
     "data": {
      "application/vnd.jupyter.widget-view+json": {
       "model_id": "",
       "version_major": 2,
       "version_minor": 0
      },
      "text/plain": [
       "Training:   0%|          | 0/20 [00:00<?, ?it/s]"
      ]
     },
     "metadata": {},
     "output_type": "display_data"
    },
    {
     "data": {
      "application/vnd.jupyter.widget-view+json": {
       "model_id": "",
       "version_major": 2,
       "version_minor": 0
      },
      "text/plain": [
       "Validating:   0%|          | 0/5 [00:00<?, ?it/s]"
      ]
     },
     "metadata": {},
     "output_type": "display_data"
    },
    {
     "name": "stdout",
     "output_type": "stream",
     "text": [
      "Epoch 144 Summary: Duration: 2.63s\n",
      "  Train Loss: 0.0642, Train Acc: 0.9750\n",
      "  Val Loss:   0.6868, Val Acc:   0.5500\n",
      "\n",
      "Epoch 145/150\n"
     ]
    },
    {
     "data": {
      "application/vnd.jupyter.widget-view+json": {
       "model_id": "",
       "version_major": 2,
       "version_minor": 0
      },
      "text/plain": [
       "Training:   0%|          | 0/20 [00:00<?, ?it/s]"
      ]
     },
     "metadata": {},
     "output_type": "display_data"
    },
    {
     "data": {
      "application/vnd.jupyter.widget-view+json": {
       "model_id": "",
       "version_major": 2,
       "version_minor": 0
      },
      "text/plain": [
       "Validating:   0%|          | 0/5 [00:00<?, ?it/s]"
      ]
     },
     "metadata": {},
     "output_type": "display_data"
    },
    {
     "name": "stdout",
     "output_type": "stream",
     "text": [
      "Epoch 145 Summary: Duration: 2.66s\n",
      "  Train Loss: 0.0985, Train Acc: 0.9375\n",
      "  Val Loss:   0.7079, Val Acc:   0.5000\n",
      "\n",
      "Epoch 146/150\n"
     ]
    },
    {
     "data": {
      "application/vnd.jupyter.widget-view+json": {
       "model_id": "",
       "version_major": 2,
       "version_minor": 0
      },
      "text/plain": [
       "Training:   0%|          | 0/20 [00:00<?, ?it/s]"
      ]
     },
     "metadata": {},
     "output_type": "display_data"
    },
    {
     "data": {
      "application/vnd.jupyter.widget-view+json": {
       "model_id": "",
       "version_major": 2,
       "version_minor": 0
      },
      "text/plain": [
       "Validating:   0%|          | 0/5 [00:00<?, ?it/s]"
      ]
     },
     "metadata": {},
     "output_type": "display_data"
    },
    {
     "name": "stdout",
     "output_type": "stream",
     "text": [
      "Epoch 146 Summary: Duration: 2.64s\n",
      "  Train Loss: 0.1167, Train Acc: 0.9375\n",
      "  Val Loss:   0.6872, Val Acc:   0.5500\n",
      "\n",
      "Epoch 147/150\n"
     ]
    },
    {
     "data": {
      "application/vnd.jupyter.widget-view+json": {
       "model_id": "",
       "version_major": 2,
       "version_minor": 0
      },
      "text/plain": [
       "Training:   0%|          | 0/20 [00:00<?, ?it/s]"
      ]
     },
     "metadata": {},
     "output_type": "display_data"
    },
    {
     "data": {
      "application/vnd.jupyter.widget-view+json": {
       "model_id": "",
       "version_major": 2,
       "version_minor": 0
      },
      "text/plain": [
       "Validating:   0%|          | 0/5 [00:00<?, ?it/s]"
      ]
     },
     "metadata": {},
     "output_type": "display_data"
    },
    {
     "name": "stdout",
     "output_type": "stream",
     "text": [
      "Epoch 147 Summary: Duration: 2.65s\n",
      "  Train Loss: 0.0898, Train Acc: 0.9250\n",
      "  Val Loss:   0.6830, Val Acc:   0.5500\n",
      "\n",
      "Epoch 148/150\n"
     ]
    },
    {
     "data": {
      "application/vnd.jupyter.widget-view+json": {
       "model_id": "",
       "version_major": 2,
       "version_minor": 0
      },
      "text/plain": [
       "Training:   0%|          | 0/20 [00:00<?, ?it/s]"
      ]
     },
     "metadata": {},
     "output_type": "display_data"
    },
    {
     "data": {
      "application/vnd.jupyter.widget-view+json": {
       "model_id": "",
       "version_major": 2,
       "version_minor": 0
      },
      "text/plain": [
       "Validating:   0%|          | 0/5 [00:00<?, ?it/s]"
      ]
     },
     "metadata": {},
     "output_type": "display_data"
    },
    {
     "name": "stdout",
     "output_type": "stream",
     "text": [
      "Epoch 148 Summary: Duration: 2.76s\n",
      "  Train Loss: 0.1648, Train Acc: 0.9250\n",
      "  Val Loss:   0.7149, Val Acc:   0.6000\n",
      "\n",
      "Epoch 149/150\n"
     ]
    },
    {
     "data": {
      "application/vnd.jupyter.widget-view+json": {
       "model_id": "",
       "version_major": 2,
       "version_minor": 0
      },
      "text/plain": [
       "Training:   0%|          | 0/20 [00:00<?, ?it/s]"
      ]
     },
     "metadata": {},
     "output_type": "display_data"
    },
    {
     "data": {
      "application/vnd.jupyter.widget-view+json": {
       "model_id": "",
       "version_major": 2,
       "version_minor": 0
      },
      "text/plain": [
       "Validating:   0%|          | 0/5 [00:00<?, ?it/s]"
      ]
     },
     "metadata": {},
     "output_type": "display_data"
    },
    {
     "name": "stdout",
     "output_type": "stream",
     "text": [
      "Epoch 149 Summary: Duration: 2.70s\n",
      "  Train Loss: 0.1407, Train Acc: 0.9250\n",
      "  Val Loss:   0.7061, Val Acc:   0.7000\n",
      "\n",
      "Epoch 150/150\n"
     ]
    },
    {
     "data": {
      "application/vnd.jupyter.widget-view+json": {
       "model_id": "",
       "version_major": 2,
       "version_minor": 0
      },
      "text/plain": [
       "Training:   0%|          | 0/20 [00:00<?, ?it/s]"
      ]
     },
     "metadata": {},
     "output_type": "display_data"
    },
    {
     "data": {
      "application/vnd.jupyter.widget-view+json": {
       "model_id": "",
       "version_major": 2,
       "version_minor": 0
      },
      "text/plain": [
       "Validating:   0%|          | 0/5 [00:00<?, ?it/s]"
      ]
     },
     "metadata": {},
     "output_type": "display_data"
    },
    {
     "name": "stdout",
     "output_type": "stream",
     "text": [
      "Epoch 150 Summary: Duration: 3.07s\n",
      "  Train Loss: 0.0224, Train Acc: 1.0000\n",
      "  Val Loss:   0.6522, Val Acc:   0.6500\n",
      "\n",
      "Simp3DNet Model Training Finished.\n",
      "Training curves saved to ./preprocessed_dsb_50_each_64cube/simp3dnet_training_curves_64cube.png\n"
     ]
    },
    {
     "data": {
      "image/png": "[encoded data removed]",
      "text/plain": [
       "<Figure size 1200x500 with 2 Axes>"
      ]
     },
     "metadata": {},
     "output_type": "display_data"
    },
    {
     "name": "stdout",
     "output_type": "stream",
     "text": [
      "\n",
      "Evaluating Simp3DNet Model on Validation Set...\n",
      "Loaded best model from ./preprocessed_dsb_50_each_64cube/simp3dnet_model_50_each_64cube_best.pth for evaluation.\n"
     ]
    },
    {
     "data": {
      "application/vnd.jupyter.widget-view+json": {
       "model_id": "",
       "version_major": 2,
       "version_minor": 0
      },
      "text/plain": [
       "Validating:   0%|          | 0/5 [00:00<?, ?it/s]"
      ]
     },
     "metadata": {},
     "output_type": "display_data"
    },
    {
     "name": "stdout",
     "output_type": "stream",
     "text": [
      "\n",
      "Final Validation Loss: 0.5714\n",
      "\n",
      "--- Final Validation Metrics (Simp3DNet, 64cube) ---\n",
      "Accuracy:  0.7500\n",
      "Precision: 0.7273\n",
      "Recall:    0.8000\n",
      "F1-Score:  0.7619\n",
      "AUC-ROC:   0.8000\n",
      "\n",
      "Classification Report (Simp3DNet, 64cube):\n",
      "                precision    recall  f1-score   support\n",
      "\n",
      "Non-Cancer (0)       0.78      0.70      0.74        10\n",
      "    Cancer (1)       0.73      0.80      0.76        10\n",
      "\n",
      "      accuracy                           0.75        20\n",
      "     macro avg       0.75      0.75      0.75        20\n",
      "  weighted avg       0.75      0.75      0.75        20\n",
      "\n",
      "\n",
      "Confusion Matrix (Simp3DNet, 64cube):\n",
      "Confusion matrix saved to ./preprocessed_dsb_50_each_64cube/simp3dnet_confusion_matrix_64cube.png\n"
     ]
    },
    {
     "data": {
      "image/png": "[encoded data removed]",
      "text/plain": [
       "<Figure size 640x480 with 2 Axes>"
      ]
     },
     "metadata": {},
     "output_type": "display_data"
    },
    {
     "name": "stdout",
     "output_type": "stream",
     "text": [
      "ROC curve saved to ./preprocessed_dsb_50_each_64cube/simp3dnet_roc_curve_64cube.png\n"
     ]
    },
    {
     "data": {
      "image/png": "[encoded data removed]",
      "text/plain": [
       "<Figure size 800x600 with 1 Axes>"
      ]
     },
     "metadata": {},
     "output_type": "display_data"
    }
   ],
   "source": [
    "import torch.nn.functional as F\n",
    "# <<< --- MODIFIED: New output path for the limited dataset --- >>>\n",
    "PREPROCESSED_DSB_PATH = './preprocessed_dsb_50_each_64cube/' # Changed suffix to reflect size\n",
    "# ---\n",
    "\n",
    "# Preprocessing & Model Params\n",
    "TARGET_SPACING = [1.5, 1.5, 1.5]\n",
    "# <<< --- !!! CRITICAL: Changed FINAL_SCAN_SIZE to match Keras model input !!! --- >>>\n",
    "FINAL_SCAN_SIZE = (64, 64, 64)\n",
    "# <<< --- END CRITICAL CHANGE --- >>>\n",
    "print(f\"*** Using FINAL_SCAN_SIZE: {FINAL_SCAN_SIZE} to match Simp3D model ***\")\n",
    "\n",
    "CLIP_BOUND_HU = [-1000.0, 400.0]\n",
    "PIXEL_MEAN = 0.25\n",
    "\n",
    "# Training Params\n",
    "NUM_CLASSES = 1 # For BCEWithLogitsLoss\n",
    "BATCH_SIZE = 4  # Adjust based on GPU memory with the new model\n",
    "LEARNING_RATE = 4e-5 # Using the LR from the Keras model definition\n",
    "EPOCHS = 150\n",
    "DEVICE = torch.device(\"cuda\" if torch.cuda.is_available() else \"cpu\")\n",
    "print(f\"Using device: {DEVICE}\")\n",
    "\n",
    "# Scan limit per class\n",
    "SCAN_LIMIT_PER_CLASS = 50\n",
    "\n",
    "# Ensure output directory exists\n",
    "os.makedirs(PREPROCESSED_DSB_PATH, exist_ok=True) # Use new path\n",
    "\n",
    "# Random seed\n",
    "SEED = 42\n",
    "random.seed(SEED)\n",
    "np.random.seed(SEED)\n",
    "torch.manual_seed(SEED)\n",
    "if torch.cuda.is_available():\n",
    "    torch.cuda.manual_seed_all(SEED)\n",
    "    torch.backends.cudnn.deterministic = True\n",
    "    torch.backends.cudnn.benchmark = False\n",
    "\n",
    "# %% --- Data Loading and Selection ---\n",
    "# (This section remains the same as your provided code)\n",
    "# It will select 50 cancer and 50 non-cancer scans if available.\n",
    "# ... (Keep the existing data loading/selection code here) ...\n",
    "print(f\"--- Loading Data and Selecting up to {SCAN_LIMIT_PER_CLASS} Scans Per Class ---\")\n",
    "\n",
    "# --- Verify Paths ---\n",
    "if not os.path.isdir(DSB_PATH): raise SystemExit(f\"ERROR: DSB Scans path not found: {DSB_PATH}\")\n",
    "if not os.path.isfile(DSB_LABELS_CSV): raise SystemExit(f\"ERROR: DSB Labels CSV not found: {DSB_LABELS_CSV}\")\n",
    "print(f\"DSB Scans path: {DSB_PATH}\")\n",
    "print(f\"DSB Labels CSV: {DSB_LABELS_CSV}\")\n",
    "\n",
    "# --- Load Labels ---\n",
    "try:\n",
    "    dsb_labels_df = pd.read_csv(DSB_LABELS_CSV)\n",
    "    dsb_labels_df = dsb_labels_df.rename(columns={'id': 'patient_id'})\n",
    "    print(f\"Loaded {len(dsb_labels_df)} total DSB patient labels.\")\n",
    "    if 'cancer' not in dsb_labels_df.columns: raise ValueError(\"Labels CSV needs 'cancer' column.\")\n",
    "    print(\"Original label distribution:\\n\", dsb_labels_df['cancer'].value_counts())\n",
    "    patient_labels_all = dsb_labels_df.set_index('patient_id')['cancer'].to_dict()\n",
    "except Exception as e: raise SystemExit(f\"ERROR: Failed to load labels CSV: {e}\")\n",
    "\n",
    "# --- Check Scan Folders ---\n",
    "scan_folders = [f for f in os.listdir(DSB_PATH) if os.path.isdir(os.path.join(DSB_PATH, f))]\n",
    "print(f\"Found {len(scan_folders)} potential patient scan folders.\")\n",
    "found_scan_ids = set(scan_folders)\n",
    "\n",
    "# --- Find Common IDs (patients with both label and scan folder) ---\n",
    "labeled_patient_ids_all = set(dsb_labels_df['patient_id'])\n",
    "common_ids_all = labeled_patient_ids_all.intersection(found_scan_ids)\n",
    "print(f\"Found {len(common_ids_all)} patient IDs with both labels and scan folders.\")\n",
    "if not common_ids_all: raise SystemExit(\"No matching patient IDs found. Cannot continue.\")\n",
    "\n",
    "# --- Separate Common IDs by Class ---\n",
    "common_ids_cancer = []\n",
    "common_ids_non_cancer = []\n",
    "for pid in common_ids_all:\n",
    "    label = patient_labels_all.get(pid)\n",
    "    if label == 1: common_ids_cancer.append(pid)\n",
    "    elif label == 0: common_ids_non_cancer.append(pid)\n",
    "\n",
    "print(f\"Available Cancerous scans with labels: {len(common_ids_cancer)}\")\n",
    "print(f\"Available Non-Cancerous scans with labels: {len(common_ids_non_cancer)}\")\n",
    "\n",
    "# --- Shuffle and Select Limited Number Per Class ---\n",
    "random.shuffle(common_ids_cancer); random.shuffle(common_ids_non_cancer)\n",
    "selected_cancer_ids = common_ids_cancer[:SCAN_LIMIT_PER_CLASS]\n",
    "selected_non_cancer_ids = common_ids_non_cancer[:SCAN_LIMIT_PER_CLASS]\n",
    "print(f\"Selected {len(selected_cancer_ids)} Cancerous scans.\")\n",
    "print(f\"Selected {len(selected_non_cancer_ids)} Non-Cancerous scans.\")\n",
    "\n",
    "# --- Combine selected IDs for processing ---\n",
    "scans_to_process = selected_cancer_ids + selected_non_cancer_ids\n",
    "random.shuffle(scans_to_process)\n",
    "print(f\"Total scans selected for preprocessing: {len(scans_to_process)}\")\n",
    "patient_labels = {pid: patient_labels_all[pid] for pid in scans_to_process}\n",
    "\n",
    "\n",
    "# %% --- Preprocessing Functions ---\n",
    "# (Functions load_scan_series, resample, get_segmented_lungs,\n",
    "#  normalize_hu, zero_center remain unchanged)\n",
    "def load_scan_series(dicom_folder_path):\n",
    "    try:\n",
    "        series_ids = sitk.ImageSeriesReader.GetGDCMSeriesIDs(dicom_folder_path)\n",
    "        if not series_ids: return None, None, None\n",
    "        series_file_names = sitk.ImageSeriesReader.GetGDCMSeriesFileNames(dicom_folder_path, series_ids[0])\n",
    "        series_reader = sitk.ImageSeriesReader(); series_reader.SetFileNames(series_file_names)\n",
    "        itkimage = series_reader.Execute()\n",
    "        image_array = sitk.GetArrayFromImage(itkimage); origin = np.array(list(reversed(itkimage.GetOrigin()))); spacing = np.array(list(reversed(itkimage.GetSpacing())))\n",
    "        return image_array, origin, spacing\n",
    "    except Exception as e: print(f\"Error reading DICOM {os.path.basename(dicom_folder_path)}: {e}\"); return None, None, None\n",
    "\n",
    "def resample(image, original_spacing, new_spacing=TARGET_SPACING):\n",
    "    try:\n",
    "        resize_factor = np.array(original_spacing) / np.array(new_spacing)\n",
    "        new_real_shape = image.shape * resize_factor; new_shape = np.round(new_real_shape)\n",
    "        real_resize_factor = new_shape / image.shape; actual_new_spacing = original_spacing / real_resize_factor\n",
    "        resampled_image = scipy.ndimage.zoom(image, real_resize_factor, mode='nearest', order=1)\n",
    "        return resampled_image, actual_new_spacing\n",
    "    except Exception as e: print(f\"Error resamping: {e}\"); return None, None\n",
    "\n",
    "def get_segmented_lungs(im_slice, hu_threshold=-320):\n",
    "    if im_slice.ndim != 2: return im_slice\n",
    "    binary = im_slice < hu_threshold; cleared = clear_border(binary)\n",
    "    label_image = skimage_label(cleared); areas = [r.area for r in regionprops(label_image)]; areas.sort()\n",
    "    area_threshold = areas[-2] if len(areas) >= 2 else (areas[-1] if len(areas) == 1 else 0)\n",
    "    if area_threshold > 0:\n",
    "        for region in regionprops(label_image):\n",
    "            if region.area < area_threshold:\n",
    "                for coordinates in region.coords: label_image[coordinates[0], coordinates[1]] = 0\n",
    "    binary = label_image > 0; selem = disk(2); binary = binary_closing(binary, selem)\n",
    "    selem_dilate = disk(5); final_mask = ndi.binary_dilation(binary, structure=selem_dilate)\n",
    "    background_val = CLIP_BOUND_HU[0] - 1; segmented_slice = im_slice.copy()\n",
    "    segmented_slice[final_mask == 0] = background_val\n",
    "    return segmented_slice\n",
    "\n",
    "def normalize_hu(image, clip_bounds=CLIP_BOUND_HU):\n",
    "    min_bound, max_bound = clip_bounds\n",
    "    image = np.clip(image, min_bound, max_bound)\n",
    "    image = (image - min_bound) / (max_bound - min_bound)\n",
    "    return image.astype(np.float32)\n",
    "\n",
    "def zero_center(image, pixel_mean=PIXEL_MEAN):\n",
    "    image = image - pixel_mean\n",
    "    return image.astype(np.float32)\n",
    "\n",
    "\n",
    "# --- Modified resize_scan_to_target to use the new FINAL_SCAN_SIZE ---\n",
    "def resize_scan_to_target(image, target_shape=FINAL_SCAN_SIZE): # Uses global FINAL_SCAN_SIZE\n",
    "     if image.shape == target_shape: return image\n",
    "     resize_factor = np.array(target_shape) / np.array(image.shape)\n",
    "     try:\n",
    "         # Using order=1 (bilinear) for resizing, 'nearest' might lose info\n",
    "         resized_image = scipy.ndimage.zoom(image, resize_factor, order=1, mode='nearest')\n",
    "         # Simple crop/pad if zoom result is slightly off due to rounding\n",
    "         if resized_image.shape != target_shape:\n",
    "              current_shape = resized_image.shape\n",
    "              diff = np.array(target_shape) - np.array(current_shape)\n",
    "              pad = np.maximum(diff, 0); crop = np.maximum(-diff, 0)\n",
    "              pad_width = tuple((p // 2, p - p // 2) for p in pad)\n",
    "              resized_image = np.pad(resized_image, pad_width, mode='edge') # Pad with edge value\n",
    "              crop_slice = tuple(slice(c // 2, s - (c - c // 2)) for c, s in zip(crop, resized_image.shape))\n",
    "              resized_image = resized_image[crop_slice]\n",
    "         # Final check\n",
    "         if resized_image.shape != target_shape:\n",
    "             print(f\"ERROR: Resize failed. Target: {target_shape}, Got: {resized_image.shape}\")\n",
    "             return None\n",
    "         return resized_image.astype(np.float32)\n",
    "     except Exception as e:\n",
    "         print(f\"Error resizing image of shape {image.shape} to target {target_shape}: {e}\")\n",
    "         return None\n",
    "\n",
    "\n",
    "# --- Full Preprocessing Pipeline (Unchanged Logic, uses correct paths and FINAL_SCAN_SIZE) ---\n",
    "def preprocess_scan_dsb(patient_id, input_base_path, output_base_path, force_preprocess=False):\n",
    "    scan_folder_path = os.path.join(input_base_path, patient_id)\n",
    "    output_filename = os.path.join(output_base_path, f\"{patient_id}.npz\")\n",
    "    if os.path.exists(output_filename) and not force_preprocess:\n",
    "        # print(f\"Skipping {patient_id}, already preprocessed.\")\n",
    "        return True # Already exists\n",
    "\n",
    "    # print(f\"Processing {patient_id}...\")\n",
    "    image, origin, spacing = load_scan_series(scan_folder_path)\n",
    "    if image is None: return False\n",
    "\n",
    "    # print(f\"  Original shape: {image.shape}, spacing: {np.round(spacing, 2)}\")\n",
    "    resampled_image, new_spacing = resample(image, spacing, TARGET_SPACING)\n",
    "    if resampled_image is None: del image; return False\n",
    "    # print(f\"  Resampled shape: {resampled_image.shape}, spacing: {np.round(new_spacing, 2)}\")\n",
    "    del image\n",
    "\n",
    "    # Segment lungs slice by slice\n",
    "    segmented_lungs = np.zeros_like(resampled_image, dtype=np.float32)\n",
    "    for i in range(resampled_image.shape[0]):\n",
    "        segmented_lungs[i] = get_segmented_lungs(resampled_image[i])\n",
    "    del resampled_image\n",
    "\n",
    "    # Normalize HU\n",
    "    normalized_image = normalize_hu(segmented_lungs, clip_bounds=CLIP_BOUND_HU)\n",
    "    del segmented_lungs\n",
    "\n",
    "    # Zero center\n",
    "    centered_image = zero_center(normalized_image, pixel_mean=PIXEL_MEAN)\n",
    "    del normalized_image\n",
    "\n",
    "    # Resize to final target shape (e.g., 64x64x64)\n",
    "    final_image = resize_scan_to_target(centered_image, target_shape=FINAL_SCAN_SIZE) # Uses the global\n",
    "    del centered_image\n",
    "    if final_image is None: return False\n",
    "    # print(f\"  Final shape: {final_image.shape}\")\n",
    "\n",
    "    # Save compressed\n",
    "    try:\n",
    "        np.savez_compressed(output_filename, image=final_image.astype(np.float32))\n",
    "        # print(f\"  Saved to {output_filename}\")\n",
    "        return True\n",
    "    except Exception as e:\n",
    "        print(f\"Error saving {patient_id}: {e}\")\n",
    "        return False\n",
    "\n",
    "\n",
    "# %% --- Preprocessing Execution (Using Selected IDs) ---\n",
    "# Ensure you re-run this if you changed FINAL_SCAN_SIZE\n",
    "print(f\"\\n--- Starting Preprocessing for {len(scans_to_process)} scans to size {FINAL_SCAN_SIZE} ---\")\n",
    "print(f\"Output directory: {PREPROCESSED_DSB_PATH}\")\n",
    "# Set force_preprocess=True if you need to overwrite existing files with the new size\n",
    "FORCE_REPROCESS = False # Set to True to re-process all selected scans\n",
    "\n",
    "successful_processed_ids = []\n",
    "failed_processed_ids = []\n",
    "start_time = time.time()\n",
    "\n",
    "for patient_id in tqdm(scans_to_process, desc=f\"Preprocessing {len(scans_to_process)} Scans ({FINAL_SCAN_SIZE})\"):\n",
    "    success = preprocess_scan_dsb(patient_id, DSB_PATH, PREPROCESSED_DSB_PATH, force_preprocess=FORCE_REPROCESS)\n",
    "    if success:\n",
    "        successful_processed_ids.append(patient_id)\n",
    "    else:\n",
    "        failed_processed_ids.append(patient_id)\n",
    "\n",
    "end_time = time.time()\n",
    "print(f\"\\nPreprocessing finished in {end_time - start_time:.2f} seconds.\")\n",
    "print(f\"Successfully processed/found: {len(successful_processed_ids)} scans.\")\n",
    "if failed_processed_ids: print(f\"Failed to process: {len(failed_processed_ids)} scans. IDs: {failed_processed_ids}\")\n",
    "\n",
    "# --- Final list for Dataset (only successfully processed from the selection) ---\n",
    "final_patient_list = successful_processed_ids\n",
    "if not final_patient_list: raise SystemExit(\"No scans processed successfully. Cannot continue.\")\n",
    "\n",
    "# Update patient_labels to only include successfully processed patients\n",
    "patient_labels = {pid: patient_labels[pid] for pid in final_patient_list}\n",
    "print(f\"Final patient count for training/validation: {len(final_patient_list)}\")\n",
    "final_cancer_count = sum(1 for pid in final_patient_list if patient_labels[pid] == 1)\n",
    "final_non_cancer_count = len(final_patient_list) - final_cancer_count\n",
    "print(f\"  Cancerous: {final_cancer_count}, Non-Cancerous: {final_non_cancer_count}\")\n",
    "\n",
    "\n",
    "# %% --- Dataset and DataLoader ---\n",
    "\n",
    "class PatientLevelDataset(Dataset):\n",
    "    # --- Dataset class remains UNCHANGED ---\n",
    "    def __init__(self, patient_ids, labels_dict, preprocessed_path):\n",
    "        self.patient_ids = patient_ids; self.labels_dict = labels_dict; self.preprocessed_path = preprocessed_path\n",
    "        self.target_size = FINAL_SCAN_SIZE # Store target size for checks\n",
    "\n",
    "    def __len__(self): return len(self.patient_ids)\n",
    "\n",
    "    def __getitem__(self, idx):\n",
    "        patient_id = self.patient_ids[idx]; label = self.labels_dict[patient_id]\n",
    "        scan_path = os.path.join(self.preprocessed_path, f\"{patient_id}.npz\")\n",
    "        try:\n",
    "            with np.load(scan_path) as npz_data: image = npz_data['image']\n",
    "            # Verify shape\n",
    "            if image.shape != self.target_size:\n",
    "                print(f\"ERROR: Shape mismatch for {patient_id}. Expected {self.target_size}, got {image.shape}. Skipping.\")\n",
    "                dummy = torch.zeros((1, *self.target_size), dtype=torch.float32)\n",
    "                return dummy, torch.tensor(-1, dtype=torch.float32) # Error label\n",
    "\n",
    "            image_tensor = torch.from_numpy(image).float().unsqueeze(0) # Add channel dim\n",
    "            label_tensor = torch.tensor(label, dtype=torch.float32)\n",
    "            return image_tensor, label_tensor\n",
    "        except FileNotFoundError:\n",
    "             print(f\"ERROR: File not found {scan_path}. Skipping.\")\n",
    "             dummy = torch.zeros((1, *self.target_size), dtype=torch.float32)\n",
    "             return dummy, torch.tensor(-1, dtype=torch.float32) # Error label\n",
    "        except Exception as e:\n",
    "            print(f\"ERROR loading {patient_id}: {e}. Skipping.\")\n",
    "            dummy = torch.zeros((1, *self.target_size), dtype=torch.float32)\n",
    "            return dummy, torch.tensor(-1, dtype=torch.float32) # Error label\n",
    "\n",
    "# --- Split Data (Train/Validation) ---\n",
    "train_ids, val_ids = train_test_split(\n",
    "    final_patient_list,\n",
    "    test_size=0.2,\n",
    "    random_state=SEED,\n",
    "    stratify=[patient_labels[pid] for pid in final_patient_list] # Stratify\n",
    ")\n",
    "print(f\"\\nTraining patients: {len(train_ids)}\")\n",
    "print(f\"Validation patients: {len(val_ids)}\")\n",
    "\n",
    "# --- Create Datasets and DataLoaders ---\n",
    "train_dataset = PatientLevelDataset(train_ids, patient_labels, PREPROCESSED_DSB_PATH)\n",
    "val_dataset = PatientLevelDataset(val_ids, patient_labels, PREPROCESSED_DSB_PATH)\n",
    "\n",
    "NUM_WORKERS = 0 # Set to 0 for easier debugging if issues arise\n",
    "print(f\"Using {NUM_WORKERS} workers for DataLoader.\")\n",
    "train_loader = DataLoader(train_dataset, batch_size=BATCH_SIZE, shuffle=True, num_workers=NUM_WORKERS, pin_memory=torch.cuda.is_available())\n",
    "val_loader = DataLoader(val_dataset, batch_size=BATCH_SIZE, shuffle=False, num_workers=NUM_WORKERS, pin_memory=torch.cuda.is_available())\n",
    "\n",
    "# --- Check DataLoader Output ---\n",
    "try:\n",
    "    print(\"\\nChecking DataLoader output...\")\n",
    "    if len(train_loader) > 0:\n",
    "        sample_batch, sample_labels = next(iter(train_loader))\n",
    "        print(f\"Sample batch shape: {sample_batch.shape}\") # Should be [B, 1, 64, 64, 64]\n",
    "        print(f\"Sample labels shape: {sample_labels.shape}\")\n",
    "        print(f\"Sample labels: {sample_labels}\")\n",
    "        if torch.any(sample_labels == -1): print(\"WARNING: Error labels (-1) detected in first batch.\")\n",
    "    else: print(\"Train loader empty.\")\n",
    "    if len(val_loader) > 0:\n",
    "        sample_batch_val, _ = next(iter(val_loader))\n",
    "        print(f\"Validation batch shape: {sample_batch_val.shape}\")\n",
    "    else: print(\"Validation loader empty.\")\n",
    "except Exception as e: print(f\"Error checking DataLoader: {e}\")\n",
    "\n",
    "\n",
    "# %% --- Model Definition (Simp3DNet - PyTorch version of get_simp3d) ---\n",
    "\n",
    "# Filter numbers from the Keras model definition\n",
    "num_filters = [16, 32, 64, 128, 256, 1028]\n",
    "\n",
    "class Simp3DNet(nn.Module):\n",
    "    def __init__(self, input_channels=1, num_classes=1): # num_classes=1 for BCEWithLogitsLoss\n",
    "        super(Simp3DNet, self).__init__()\n",
    "\n",
    "        # Block 1: Input (B, 1, 64, 64, 64)\n",
    "        # Conv 9x9x9, valid -> (B, 16, 56, 56, 56)\n",
    "        self.conv1a = nn.Conv3d(input_channels, num_filters[0], kernel_size=9, padding=0)\n",
    "        self.bn1a = nn.BatchNorm3d(num_filters[0])\n",
    "        # Conv 3x3x3, valid -> (B, 16, 54, 54, 54)\n",
    "        self.conv1b = nn.Conv3d(num_filters[0], num_filters[0], kernel_size=3, padding=0)\n",
    "        self.bn1b = nn.BatchNorm3d(num_filters[0])\n",
    "        # Conv 5x5x5, valid -> (B, 16, 50, 50, 50)\n",
    "        self.conv1c = nn.Conv3d(num_filters[0], num_filters[0], kernel_size=5, padding=0)\n",
    "        self.bn1c = nn.BatchNorm3d(num_filters[0])\n",
    "        # Pool 2x2x2 -> (B, 16, 25, 25, 25)\n",
    "        self.pool1 = nn.MaxPool3d(kernel_size=2, stride=2)\n",
    "\n",
    "        # Block 2\n",
    "        # Conv 3x3x3, valid -> (B, 32, 23, 23, 23)\n",
    "        self.conv2a = nn.Conv3d(num_filters[0], num_filters[1], kernel_size=3, padding=0)\n",
    "        self.bn2a = nn.BatchNorm3d(num_filters[1])\n",
    "        # Conv 3x3x3, valid -> (B, 32, 21, 21, 21)\n",
    "        self.conv2b = nn.Conv3d(num_filters[1], num_filters[1], kernel_size=3, padding=0)\n",
    "        self.bn2b = nn.BatchNorm3d(num_filters[1])\n",
    "        # Pool 2x2x2 -> (B, 32, 10, 10, 10) - Note: floor(21/2) = 10\n",
    "        self.pool2 = nn.MaxPool3d(kernel_size=2, stride=2)\n",
    "\n",
    "        # Block 3\n",
    "        # Conv 3x3x3, valid -> (B, 64, 8, 8, 8)\n",
    "        self.conv3a = nn.Conv3d(num_filters[1], num_filters[2], kernel_size=3, padding=0)\n",
    "        self.bn3a = nn.BatchNorm3d(num_filters[2])\n",
    "        # Conv 3x3x3, valid -> (B, 64, 6, 6, 6)\n",
    "        self.conv3b = nn.Conv3d(num_filters[2], num_filters[2], kernel_size=3, padding=0)\n",
    "        self.bn3b = nn.BatchNorm3d(num_filters[2])\n",
    "        # No pooling\n",
    "\n",
    "        # Block 4\n",
    "        # Conv 3x3x3, valid -> (B, 128, 4, 4, 4)\n",
    "        self.conv4a = nn.Conv3d(num_filters[2], num_filters[3], kernel_size=3, padding=0)\n",
    "        self.bn4a = nn.BatchNorm3d(num_filters[3])\n",
    "        # No pooling\n",
    "\n",
    "        # Flatten Layer\n",
    "        self.flatten = nn.Flatten()\n",
    "\n",
    "        # Calculate flattened features: 128 filters * 4 * 4 * 4 volume\n",
    "        flattened_features = num_filters[3] * 4 * 4 * 4 # 128 * 64 = 8192\n",
    "        # print(f\"Calculated flattened features: {flattened_features}\") # For debugging\n",
    "\n",
    "        # Dense Layers\n",
    "        self.fc1 = nn.Linear(flattened_features, 256)\n",
    "        # Keras model applies BN *after* activation for Dense layer. Replicate this.\n",
    "        # Use BatchNorm1d for features after flattening.\n",
    "        self.bn_fc1 = nn.BatchNorm1d(256)\n",
    "        # Output layer: 1 logit for BCEWithLogitsLoss\n",
    "        self.fc2 = nn.Linear(256, num_classes)\n",
    "\n",
    "    def forward(self, x):\n",
    "        # Block 1 - Using Conv -> BN -> ReLU pattern\n",
    "        x = F.relu(self.bn1a(self.conv1a(x)))\n",
    "        x = F.relu(self.bn1b(self.conv1b(x)))\n",
    "        x = F.relu(self.bn1c(self.conv1c(x)))\n",
    "        x = self.pool1(x)\n",
    "\n",
    "        # Block 2\n",
    "        x = F.relu(self.bn2a(self.conv2a(x)))\n",
    "        x = F.relu(self.bn2b(self.conv2b(x)))\n",
    "        x = self.pool2(x)\n",
    "\n",
    "        # Block 3\n",
    "        x = F.relu(self.bn3a(self.conv3a(x)))\n",
    "        x = F.relu(self.bn3b(self.conv3b(x)))\n",
    "\n",
    "        # Block 4\n",
    "        x = F.relu(self.bn4a(self.conv4a(x)))\n",
    "\n",
    "        # Flatten and Dense Layers\n",
    "        x = self.flatten(x)\n",
    "        # print(\"Shape after flatten:\", x.shape) # Debug\n",
    "        x = self.fc1(x)\n",
    "        # print(\"Shape after fc1:\", x.shape) # Debug\n",
    "        # Apply ReLU then BN, matching Keras Dense -> activation -> BN\n",
    "        x = F.relu(x)\n",
    "        x = self.bn_fc1(x)\n",
    "        # Final output layer (logits)\n",
    "        x = self.fc2(x)\n",
    "        # print(\"Shape after fc2:\", x.shape) # Debug\n",
    "        return x\n",
    "\n",
    "# Instantiate the new model\n",
    "patient_model = Simp3DNet(input_channels=1, num_classes=NUM_CLASSES).to(DEVICE)\n",
    "print(\"\\n--- Using Simp3DNet Model ---\")\n",
    "print(patient_model)\n",
    "\n",
    "# Test model with a dummy input\n",
    "try:\n",
    "    # Use the correct FINAL_SCAN_SIZE for the dummy input\n",
    "    dummy_input = torch.randn(BATCH_SIZE, 1, *FINAL_SCAN_SIZE).to(DEVICE)\n",
    "    print(f\"Dummy input shape: {dummy_input.shape}\")\n",
    "    output = patient_model(dummy_input)\n",
    "    print(f\"Model output shape: {output.shape}\") # Should be [B, 1]\n",
    "except Exception as e:\n",
    "    print(f\"\\nError during model test forward pass: {e}\")\n",
    "    # If you get size mismatch errors here, double-check flattened_features calculation\n",
    "    # based on the FINAL_SCAN_SIZE and padding='valid' convolution steps.\n",
    "\n",
    "# %% --- Loss and Optimizer ---\n",
    "\n",
    "# Calculate positive weight based on the *actual* training set composition\n",
    "train_labels_list = [patient_labels[pid] for pid in train_ids]\n",
    "count_0 = train_labels_list.count(0)\n",
    "count_1 = train_labels_list.count(1)\n",
    "if count_1 > 0 and count_0 > 0:\n",
    "    pos_weight_val = count_0 / count_1\n",
    "    print(f\"Calculated positive weight for training subset ({count_1} pos / {count_0} neg): {pos_weight_val:.4f}\")\n",
    "    pos_weight_tensor = torch.tensor([pos_weight_val], device=DEVICE)\n",
    "elif count_1 > 0: # Only positive samples\n",
    "     print(\"Warning: Training set only contains positive samples. Using pos_weight=1.\")\n",
    "     pos_weight_tensor = torch.tensor([1.0], device=DEVICE)\n",
    "elif count_0 > 0: # Only negative samples\n",
    "     print(\"Warning: Training set only contains negative samples. Using pos_weight=1.\")\n",
    "     pos_weight_tensor = torch.tensor([1.0], device=DEVICE)\n",
    "else: # Empty training set?\n",
    "    print(\"Warning: Training set appears empty. Using pos_weight=1.\")\n",
    "    pos_weight_tensor = torch.tensor([1.0], device=DEVICE)\n",
    "\n",
    "criterion = nn.BCEWithLogitsLoss(pos_weight=pos_weight_tensor)\n",
    "# Use Adam optimizer with the LR from the Keras model definition\n",
    "optimizer = optim.Adam(patient_model.parameters(), lr=LEARNING_RATE)\n",
    "scaler = torch.cuda.amp.GradScaler(enabled=torch.cuda.is_available())\n",
    "\n",
    "\n",
    "# %% --- Training and Validation Functions (Unchanged Logic) ---\n",
    "# These functions work with single logit output and BCEWithLogitsLoss\n",
    "def train_one_epoch_patient(model, dataloader, criterion, optimizer, device, scaler):\n",
    "    model.train(); running_loss = 0.0; total_samples = 0; correct_predictions = 0\n",
    "    progress_bar = tqdm(dataloader, desc=\"Training\", leave=False)\n",
    "    for inputs, labels in progress_bar:\n",
    "        # Filter out error labels before moving to device\n",
    "        valid_indices = labels != -1\n",
    "        if not torch.any(valid_indices): continue # Skip batch if all are errors\n",
    "        inputs = inputs[valid_indices].to(device); labels = labels[valid_indices].unsqueeze(1).to(device) # Add dim for BCE loss\n",
    "\n",
    "        optimizer.zero_grad()\n",
    "        with torch.amp.autocast(device_type=device.type, dtype=torch.float16, enabled=torch.cuda.is_available()):\n",
    "            outputs = model(inputs)\n",
    "            loss = criterion(outputs, labels)\n",
    "\n",
    "        if torch.isnan(loss):\n",
    "            print(\"NaN loss encountered during training! Skipping batch.\")\n",
    "            continue # Skip this batch\n",
    "\n",
    "        scaler.scale(loss).backward()\n",
    "        scaler.step(optimizer)\n",
    "        scaler.update()\n",
    "\n",
    "        running_loss += loss.item() * inputs.size(0)\n",
    "        total_samples += inputs.size(0)\n",
    "        preds = torch.sigmoid(outputs) > 0.5 # Get binary predictions\n",
    "        correct_predictions += (preds == labels.bool()).sum().item()\n",
    "        progress_bar.set_postfix(loss=loss.item())\n",
    "\n",
    "    if total_samples == 0: return 0.0, 0.0\n",
    "    epoch_loss = running_loss / total_samples\n",
    "    epoch_acc = correct_predictions / total_samples\n",
    "    return epoch_loss, epoch_acc\n",
    "\n",
    "def validate_patient(model, dataloader, criterion, device):\n",
    "    model.eval(); running_loss = 0.0; total_samples = 0; all_preds_proba = []; all_labels = []\n",
    "    with torch.no_grad():\n",
    "        progress_bar = tqdm(dataloader, desc=\"Validating\", leave=False)\n",
    "        for inputs, labels in progress_bar:\n",
    "            # Filter out error labels\n",
    "            valid_indices = labels != -1\n",
    "            if not torch.any(valid_indices): continue\n",
    "            inputs = inputs[valid_indices].to(device); labels = labels[valid_indices].to(device) # Keep labels flat for eval metrics\n",
    "\n",
    "            with torch.amp.autocast(device_type=device.type, dtype=torch.float16, enabled=torch.cuda.is_available()):\n",
    "                outputs = model(inputs)\n",
    "                # Calculate loss with unsqueezed labels for consistency\n",
    "                loss = criterion(outputs, labels.unsqueeze(1))\n",
    "\n",
    "            if torch.isnan(loss):\n",
    "                 print(\"NaN loss encountered during validation!\")\n",
    "                 # Don't add to running loss, but record predictions if needed? Or skip batch?\n",
    "                 continue\n",
    "\n",
    "            running_loss += loss.item() * inputs.size(0)\n",
    "            total_samples += inputs.size(0)\n",
    "\n",
    "            # Store predictions (probabilities) and true labels for metrics\n",
    "            all_preds_proba.extend(torch.sigmoid(outputs).cpu().numpy().flatten())\n",
    "            all_labels.extend(labels.cpu().numpy().flatten())\n",
    "\n",
    "    if total_samples == 0: return 0.0, np.array([]), np.array([])\n",
    "    val_loss = running_loss / total_samples\n",
    "    return val_loss, np.array(all_labels), np.array(all_preds_proba)\n",
    "\n",
    "\n",
    "# %% --- Training Loop ---\n",
    "print(f\"\\nStarting Training with Simp3DNet Model ({len(final_patient_list)} scans)...\")\n",
    "best_val_loss = float('inf'); train_losses, val_losses, train_accs = [], [], []\n",
    "\n",
    "# <<< --- Save model in the new directory with appropriate name --- >>>\n",
    "MODEL_SAVE_PATH = os.path.join(PREPROCESSED_DSB_PATH, \"simp3dnet_model_50_each_64cube_best.pth\")\n",
    "\n",
    "if torch.cuda.is_available(): torch.cuda.empty_cache()\n",
    "\n",
    "for epoch in range(EPOCHS):\n",
    "    epoch_start_time = time.time()\n",
    "    print(f\"\\nEpoch {epoch+1}/{EPOCHS}\")\n",
    "\n",
    "    train_loss, train_acc = train_one_epoch_patient(patient_model, train_loader, criterion, optimizer, DEVICE, scaler)\n",
    "    val_loss, val_labels_epoch, val_preds_proba_epoch = validate_patient(patient_model, val_loader, criterion, DEVICE)\n",
    "\n",
    "    train_losses.append(train_loss); val_losses.append(val_loss); train_accs.append(train_acc)\n",
    "\n",
    "    epoch_end_time = time.time()\n",
    "    epoch_duration = epoch_end_time - epoch_start_time\n",
    "\n",
    "    # Calculate validation accuracy for reporting\n",
    "    val_acc_epoch = 0.0\n",
    "    if len(val_labels_epoch) > 0:\n",
    "        val_preds_binary_epoch = (val_preds_proba_epoch > 0.5).astype(int)\n",
    "        val_acc_epoch = accuracy_score(val_labels_epoch, val_preds_binary_epoch)\n",
    "\n",
    "    print(f\"Epoch {epoch+1} Summary: Duration: {epoch_duration:.2f}s\")\n",
    "    print(f\"  Train Loss: {train_loss:.4f}, Train Acc: {train_acc:.4f}\")\n",
    "    print(f\"  Val Loss:   {val_loss:.4f}, Val Acc:   {val_acc_epoch:.4f}\")\n",
    "\n",
    "    # Save best model based on validation loss\n",
    "    if val_loss < best_val_loss and len(val_labels_epoch) > 0: # Ensure validation wasn't empty\n",
    "        best_val_loss = val_loss\n",
    "        try:\n",
    "            torch.save(patient_model.state_dict(), MODEL_SAVE_PATH)\n",
    "            print(f\"  Best model saved to {MODEL_SAVE_PATH} (Val Loss: {best_val_loss:.4f})\")\n",
    "        except Exception as e:\n",
    "            print(f\"Error saving model: {e}\")\n",
    "\n",
    "    if torch.cuda.is_available(): torch.cuda.empty_cache() # Clear cache per epoch\n",
    "\n",
    "print(\"\\nSimp3DNet Model Training Finished.\")\n",
    "\n",
    "\n",
    "# %% --- Plot Training History ---\n",
    "plt.figure(figsize=(12, 5))\n",
    "plt.subplot(1, 2, 1)\n",
    "plt.plot(range(1, EPOCHS + 1), train_losses, label='Train Loss')\n",
    "plt.plot(range(1, EPOCHS + 1), val_losses, label='Val Loss')\n",
    "plt.xlabel('Epochs'); plt.ylabel('Loss'); plt.title('Simp3DNet Loss Curve (64cube)'); plt.legend(); plt.grid(True)\n",
    "\n",
    "plt.subplot(1, 2, 2)\n",
    "plt.plot(range(1, EPOCHS + 1), train_accs, label='Train Acc')\n",
    "# You might want to plot validation accuracy too if calculated per epoch\n",
    "# plt.plot(range(1, EPOCHS + 1), val_accs_epoch, label='Val Acc') # Need to store val_acc_epoch\n",
    "plt.xlabel('Epochs'); plt.ylabel('Accuracy'); plt.title('Simp3DNet Train Accuracy Curve (64cube)'); plt.legend(); plt.grid(True)\n",
    "\n",
    "plt.tight_layout()\n",
    "# Save the plot\n",
    "plot_save_path = os.path.join(PREPROCESSED_DSB_PATH, \"simp3dnet_training_curves_64cube.png\")\n",
    "plt.savefig(plot_save_path)\n",
    "print(f\"Training curves saved to {plot_save_path}\")\n",
    "plt.show()\n",
    "\n",
    "\n",
    "# %% --- Model Evaluation ---\n",
    "print(\"\\nEvaluating Simp3DNet Model on Validation Set...\")\n",
    "# Load the best model for evaluation\n",
    "if os.path.exists(MODEL_SAVE_PATH):\n",
    "    try:\n",
    "        # Re-initialize model structure before loading state_dict\n",
    "        patient_model_eval = Simp3DNet(input_channels=1, num_classes=NUM_CLASSES).to(DEVICE)\n",
    "        patient_model_eval.load_state_dict(torch.load(MODEL_SAVE_PATH, map_location=DEVICE))\n",
    "        print(f\"Loaded best model from {MODEL_SAVE_PATH} for evaluation.\")\n",
    "        patient_model_eval.eval() # Set to evaluation mode\n",
    "    except Exception as e:\n",
    "        print(f\"Could not load best model from {MODEL_SAVE_PATH}: {e}. Evaluating last epoch model instead.\")\n",
    "        # Ensure the current model is in eval mode\n",
    "        patient_model.eval()\n",
    "        patient_model_eval = patient_model # Use the model from the end of training\n",
    "else:\n",
    "    print(f\"Best model file not found at {MODEL_SAVE_PATH}. Evaluating model from the end of training.\")\n",
    "    patient_model.eval() # Set to evaluation mode\n",
    "    patient_model_eval = patient_model\n",
    "\n",
    "# Perform validation using the loaded/final model\n",
    "val_loss_final, final_val_labels, final_val_preds_proba = validate_patient(patient_model_eval, val_loader, criterion, DEVICE)\n",
    "\n",
    "if len(final_val_labels) == 0:\n",
    "    print(\"No valid validation predictions were generated. Cannot evaluate metrics.\")\n",
    "else:\n",
    "    print(f\"\\nFinal Validation Loss: {val_loss_final:.4f}\")\n",
    "\n",
    "    # Calculate metrics using a 0.5 threshold\n",
    "    final_val_preds_binary = (final_val_preds_proba > 0.5).astype(int)\n",
    "\n",
    "    accuracy = accuracy_score(final_val_labels, final_val_preds_binary)\n",
    "    # Use zero_division=0 to avoid warnings if a class has no predictions/labels\n",
    "    precision = precision_score(final_val_labels, final_val_preds_binary, zero_division=0)\n",
    "    recall = recall_score(final_val_labels, final_val_preds_binary, zero_division=0)\n",
    "    f1 = f1_score(final_val_labels, final_val_preds_binary, zero_division=0)\n",
    "\n",
    "    # Calculate AUC-ROC, handle cases with only one class present\n",
    "    auc_roc = float('nan') # Default to NaN\n",
    "    if len(np.unique(final_val_labels)) > 1: # Check if both classes are in the true labels\n",
    "         try:\n",
    "             auc_roc = roc_auc_score(final_val_labels, final_val_preds_proba)\n",
    "         except ValueError as e:\n",
    "              print(f\"AUC-ROC Calculation Error: {e}\") # Should not happen if len(unique)>1, but good practice\n",
    "    else:\n",
    "         print(\"AUC-ROC cannot be calculated: Only one class present in validation labels.\")\n",
    "\n",
    "\n",
    "    print(\"\\n--- Final Validation Metrics (Simp3DNet, 64cube) ---\")\n",
    "    print(f\"Accuracy:  {accuracy:.4f}\")\n",
    "    print(f\"Precision: {precision:.4f}\")\n",
    "    print(f\"Recall:    {recall:.4f}\")\n",
    "    print(f\"F1-Score:  {f1:.4f}\")\n",
    "    print(f\"AUC-ROC:   {auc_roc:.4f}\")\n",
    "\n",
    "    print(\"\\nClassification Report (Simp3DNet, 64cube):\")\n",
    "    target_names = ['Non-Cancer (0)', 'Cancer (1)']\n",
    "    # Ensure labels are integers for classification_report\n",
    "    print(classification_report(final_val_labels.astype(int), final_val_preds_binary, target_names=target_names, zero_division=0))\n",
    "\n",
    "    print(\"\\nConfusion Matrix (Simp3DNet, 64cube):\")\n",
    "    try:\n",
    "        cm = confusion_matrix(final_val_labels.astype(int), final_val_preds_binary, labels=[0, 1]) # Ensure labels are 0 and 1\n",
    "        disp = ConfusionMatrixDisplay(confusion_matrix=cm, display_labels=target_names)\n",
    "        disp.plot(cmap=plt.cm.Blues)\n",
    "        # Save the plot\n",
    "        cm_save_path = os.path.join(PREPROCESSED_DSB_PATH, \"simp3dnet_confusion_matrix_64cube.png\")\n",
    "        plt.savefig(cm_save_path)\n",
    "        print(f\"Confusion matrix saved to {cm_save_path}\")\n",
    "        plt.show()\n",
    "    except Exception as e:\n",
    "        print(f\"Error displaying confusion matrix: {e}\")\n",
    "        print(\"Raw CM data:\", cm) # Print raw data if plot fails\n",
    "\n",
    "    # Plot ROC Curve if AUC is valid\n",
    "    if not np.isnan(auc_roc):\n",
    "        fpr, tpr, _ = roc_curve(final_val_labels, final_val_preds_proba)\n",
    "        plt.figure(figsize=(8, 6))\n",
    "        plt.plot(fpr, tpr, color='darkorange', lw=2, label=f'ROC curve (area = {auc_roc:.2f})')\n",
    "        plt.plot([0, 1], [0, 1], color='navy', lw=2, linestyle='--')\n",
    "        plt.xlim([0.0, 1.0]); plt.ylim([0.0, 1.05])\n",
    "        plt.xlabel('False Positive Rate'); plt.ylabel('True Positive Rate'); plt.title('ROC Curve (Simp3DNet, 64cube)')\n",
    "        plt.legend(loc=\"lower right\"); plt.grid(True)\n",
    "         # Save the plot\n",
    "        roc_save_path = os.path.join(PREPROCESSED_DSB_PATH, \"simp3dnet_roc_curve_64cube.png\")\n",
    "        plt.savefig(roc_save_path)\n",
    "        print(f\"ROC curve saved to {roc_save_path}\")\n",
    "        plt.show()"
   ]
  },
  {
   "cell_type": "code",
   "execution_count": null,
   "id": "e12fa9b3-13c5-47bd-8738-3d8751b2ed02",
   "metadata": {},
   "outputs": [],
   "source": []
  }
 ],
 "metadata": {
  "kernelspec": {
   "display_name": "Python 3 (ipykernel)",
   "language": "python",
   "name": "python3"
  },
  "language_info": {
   "codemirror_mode": {
    "name": "ipython",
    "version": 3
   },
   "file_extension": ".py",
   "mimetype": "text/x-python",
   "name": "python",
   "nbconvert_exporter": "python",
   "pygments_lexer": "ipython3",
   "version": "3.12.3"
  }
 },
 "nbformat": 4,
 "nbformat_minor": 5
}
